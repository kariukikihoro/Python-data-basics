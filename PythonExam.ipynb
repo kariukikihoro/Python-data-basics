{
 "cells": [
  {
   "cell_type": "code",
   "execution_count": 1,
   "id": "3a988f87-23c3-49ac-b22a-9a293b4465bd",
   "metadata": {},
   "outputs": [],
   "source": [
    "# import modules\n",
    "import pandas as pd\n",
    "import numpy as np"
   ]
  },
  {
   "cell_type": "code",
   "execution_count": 2,
   "id": "b1899038-1753-44b4-a30e-5f6dbdd5934f",
   "metadata": {},
   "outputs": [
    {
     "data": {
      "text/html": [
       "<div>\n",
       "<style scoped>\n",
       "    .dataframe tbody tr th:only-of-type {\n",
       "        vertical-align: middle;\n",
       "    }\n",
       "\n",
       "    .dataframe tbody tr th {\n",
       "        vertical-align: top;\n",
       "    }\n",
       "\n",
       "    .dataframe thead th {\n",
       "        text-align: right;\n",
       "    }\n",
       "</style>\n",
       "<table border=\"1\" class=\"dataframe\">\n",
       "  <thead>\n",
       "    <tr style=\"text-align: right;\">\n",
       "      <th></th>\n",
       "      <th>Field_ID</th>\n",
       "      <th>Elevation</th>\n",
       "      <th>Rainfall</th>\n",
       "      <th>Min_temperature_C</th>\n",
       "      <th>Max_temperature_C</th>\n",
       "      <th>pH</th>\n",
       "      <th>Pollution_level</th>\n",
       "      <th>Plot_size</th>\n",
       "      <th>Annual_yield</th>\n",
       "      <th>Crop_type</th>\n",
       "    </tr>\n",
       "  </thead>\n",
       "  <tbody>\n",
       "    <tr>\n",
       "      <th>0</th>\n",
       "      <td>1162</td>\n",
       "      <td>494.95615</td>\n",
       "      <td>1507.6</td>\n",
       "      <td>-5.4</td>\n",
       "      <td>31.0</td>\n",
       "      <td>6.859436</td>\n",
       "      <td>0.007034</td>\n",
       "      <td>3.6</td>\n",
       "      <td>1.617421</td>\n",
       "      <td>coffee</td>\n",
       "    </tr>\n",
       "    <tr>\n",
       "      <th>1</th>\n",
       "      <td>5108</td>\n",
       "      <td>663.73390</td>\n",
       "      <td>581.0</td>\n",
       "      <td>-4.7</td>\n",
       "      <td>30.9</td>\n",
       "      <td>5.603219</td>\n",
       "      <td>0.289643</td>\n",
       "      <td>4.2</td>\n",
       "      <td>2.532497</td>\n",
       "      <td>potato</td>\n",
       "    </tr>\n",
       "    <tr>\n",
       "      <th>2</th>\n",
       "      <td>3504</td>\n",
       "      <td>396.87990</td>\n",
       "      <td>1715.1</td>\n",
       "      <td>-6.1</td>\n",
       "      <td>31.7</td>\n",
       "      <td>5.774116</td>\n",
       "      <td>0.000409</td>\n",
       "      <td>2.6</td>\n",
       "      <td>1.262207</td>\n",
       "      <td>banana</td>\n",
       "    </tr>\n",
       "    <tr>\n",
       "      <th>3</th>\n",
       "      <td>5351</td>\n",
       "      <td>594.80370</td>\n",
       "      <td>1748.0</td>\n",
       "      <td>-4.3</td>\n",
       "      <td>33.6</td>\n",
       "      <td>6.477415</td>\n",
       "      <td>0.088777</td>\n",
       "      <td>7.9</td>\n",
       "      <td>4.351564</td>\n",
       "      <td>wheat</td>\n",
       "    </tr>\n",
       "    <tr>\n",
       "      <th>4</th>\n",
       "      <td>905</td>\n",
       "      <td>609.49800</td>\n",
       "      <td>1395.8</td>\n",
       "      <td>-4.5</td>\n",
       "      <td>31.3</td>\n",
       "      <td>5.419586</td>\n",
       "      <td>0.050023</td>\n",
       "      <td>10.8</td>\n",
       "      <td>5.034791</td>\n",
       "      <td>cassava</td>\n",
       "    </tr>\n",
       "  </tbody>\n",
       "</table>\n",
       "</div>"
      ],
      "text/plain": [
       "   Field_ID  Elevation  Rainfall  Min_temperature_C  Max_temperature_C  \\\n",
       "0      1162  494.95615    1507.6               -5.4               31.0   \n",
       "1      5108  663.73390     581.0               -4.7               30.9   \n",
       "2      3504  396.87990    1715.1               -6.1               31.7   \n",
       "3      5351  594.80370    1748.0               -4.3               33.6   \n",
       "4       905  609.49800    1395.8               -4.5               31.3   \n",
       "\n",
       "         pH  Pollution_level  Plot_size  Annual_yield Crop_type  \n",
       "0  6.859436         0.007034        3.6      1.617421    coffee  \n",
       "1  5.603219         0.289643        4.2      2.532497    potato  \n",
       "2  5.774116         0.000409        2.6      1.262207    banana  \n",
       "3  6.477415         0.088777        7.9      4.351564     wheat  \n",
       "4  5.419586         0.050023       10.8      5.034791   cassava  "
      ]
     },
     "execution_count": 2,
     "metadata": {},
     "output_type": "execute_result"
    }
   ],
   "source": [
    "# creating the dataframe\n",
    "agric_df = pd.read_csv(\"MD_agric_exam-4313.csv\")\n",
    "agric_df.head()"
   ]
  },
  {
   "cell_type": "code",
   "execution_count": 3,
   "id": "f20296de-5923-4b6c-aca0-d1e5b79adc17",
   "metadata": {},
   "outputs": [
    {
     "data": {
      "text/plain": [
       "8"
      ]
     },
     "execution_count": 3,
     "metadata": {},
     "output_type": "execute_result"
    }
   ],
   "source": [
    "# count unique crops\n",
    "unique_crop_count = agric_df[\"Crop_type\"].unique().size\n",
    "unique_crop_count"
   ]
  },
  {
   "cell_type": "code",
   "execution_count": 4,
   "id": "44c76b7b-9d51-47a2-add4-0613b052a04a",
   "metadata": {},
   "outputs": [
    {
     "name": "stdout",
     "output_type": "stream",
     "text": [
      "['coffee' 'potato' 'banana' 'wheat' 'cassava' 'maize' 'tea' 'rice']\n"
     ]
    }
   ],
   "source": [
    "# display the unique plants\n",
    "print(agric_df[\"Crop_type\"].unique())"
   ]
  },
  {
   "cell_type": "code",
   "execution_count": 5,
   "id": "ff678f71-84b6-4e4c-9920-4607e3bd7dbc",
   "metadata": {},
   "outputs": [
    {
     "name": "stdout",
     "output_type": "stream",
     "text": [
      "8.99\n"
     ]
    }
   ],
   "source": [
    "# max wheat annual yield(2dp)\n",
    "max_wheat_yield = agric_df[(agric_df[\"Crop_type\"] == \"wheat\")][\"Annual_yield\"].max()\n",
    "print(round(max_wheat_yield, 2))"
   ]
  },
  {
   "cell_type": "code",
   "execution_count": 6,
   "id": "4674b921-7793-4dac-8269-6005628c37fc",
   "metadata": {},
   "outputs": [
    {
     "name": "stdout",
     "output_type": "stream",
     "text": [
      "Total rainfall for crop types with average pollution level above 0.2: 941959.7 mm\n"
     ]
    }
   ],
   "source": [
    "# Find the total rainfall for crop types where the average pollution level is above 0.2.\n",
    "crop_pol_mean = agric_df.groupby([\"Crop_type\"])[\"Pollution_level\"].mean()\n",
    "\n",
    "# Calculate the average pollution level for each crop type\n",
    "crop_pol_mean = agric_df.groupby([\"Crop_type\"])[\"Pollution_level\"].mean()\n",
    "\n",
    "# Filter crop types where the average pollution level is above 0.2\n",
    "selected_crops = crop_pol_mean[crop_pol_mean > 0.2].index\n",
    "\n",
    "# Sum the rainfall for the selected crop types\n",
    "total_rainfall = agric_df[agric_df['Crop_type'].isin(selected_crops)]['Rainfall'].sum()\n",
    "\n",
    "print(f'Total rainfall for crop types with average pollution level above 0.2: {total_rainfall} mm')\n",
    "\n"
   ]
  },
  {
   "cell_type": "code",
   "execution_count": 7,
   "id": "9d63e63f-75ab-486a-be15-dda4ba0db6b5",
   "metadata": {},
   "outputs": [
    {
     "name": "stdout",
     "output_type": "stream",
     "text": [
      "941959.7000000001\n"
     ]
    }
   ],
   "source": [
    "# Assuming you have a DataFrame named agric_df\n",
    "filtered_crops = agric_df.groupby(\"Crop_type\").filter(lambda x: x[\"Pollution_level\"].mean() > 0.2)\n",
    "total_rainfall_for_filtered_crops = filtered_crops.groupby(\"Crop_type\")[\"Rainfall\"].sum()\n",
    "\n",
    "print(total_rainfall_for_filtered_crops.sum())\n"
   ]
  },
  {
   "cell_type": "code",
   "execution_count": 8,
   "id": "50f64a2e-fcd8-4f95-980d-f828a56b608b",
   "metadata": {},
   "outputs": [
    {
     "name": "stdout",
     "output_type": "stream",
     "text": [
      "135    40.7\n",
      "dtype: float64\n",
      "644    35.7\n",
      "dtype: float64\n",
      "892    33.4\n",
      "dtype: float64\n"
     ]
    }
   ],
   "source": [
    "# Write a function to calculate the temperature range (Max_temperature_C - Min_temperature_C) for each farmer's field.\n",
    "# Then, call the function with the following `Field_ID`: `1458`, `1895`, and `5443`. What are the results of these 3 calls?\n",
    "\n",
    "def func_(id, df):\n",
    "    row = df[(df[\"Field_ID\"] == id)]\n",
    "    temperature_difference = row[\"Max_temperature_C\"] - row[\"Min_temperature_C\"]\n",
    "    return temperature_difference\n",
    "\n",
    "# Assuming 1458 is a valid index in your DataFrame agric_df\n",
    "result = func_(1458, agric_df)\n",
    "print(result)\n",
    "result2 = func_(1895, agric_df)\n",
    "print(result2)\n",
    "result3 = func_(5443, agric_df)\n",
    "print(result3)"
   ]
  },
  {
   "cell_type": "code",
   "execution_count": 9,
   "id": "8175b8bf-29c8-45f0-ab9b-6df52ec7c093",
   "metadata": {},
   "outputs": [
    {
     "name": "stdout",
     "output_type": "stream",
     "text": [
      "rice\n"
     ]
    }
   ],
   "source": [
    "data = agric_df\n",
    "a = data['Crop_type'].unique()\n",
    "\n",
    "b = float('inf')\n",
    "\n",
    "c = ''\n",
    "\n",
    "for crop in a:\n",
    "\n",
    "    d = data[data['Crop_type'] == crop]['Min_temperature_C'].mean()\n",
    "\n",
    "    if d < b:\n",
    "\n",
    "        b = d\n",
    "\n",
    "        c = crop\n",
    "\n",
    "print(c)\n",
    "\n"
   ]
  },
  {
   "cell_type": "code",
   "execution_count": 10,
   "id": "5f89865c-feb8-4e9a-9ee9-49f053e944d0",
   "metadata": {},
   "outputs": [
    {
     "data": {
      "text/plain": [
       "1731.8999999999999"
      ]
     },
     "execution_count": 10,
     "metadata": {},
     "output_type": "execute_result"
    }
   ],
   "source": [
    "# Write code to calculate the total plot size for plots where the pH is less than 5.5.\n",
    "\n",
    "agric_df[agric_df[\"pH\"]< 5.5][\"Plot_size\"].sum()"
   ]
  },
  {
   "cell_type": "code",
   "execution_count": 11,
   "id": "1d21c27f-7038-47c5-ad5a-6f54be2560f5",
   "metadata": {},
   "outputs": [
    {
     "data": {
      "text/plain": [
       "319"
      ]
     },
     "execution_count": 11,
     "metadata": {},
     "output_type": "execute_result"
    }
   ],
   "source": [
    "# Using Pandas, create a dataframe that includes entries with a 'Min_temperature_C’< -5 \n",
    "# and a 'Max_temperature_C' > 30. How many rows are in the filtered dataset?\n",
    "\n",
    "agric_df[(agric_df['Min_temperature_C']< -5) & (agric_df['Max_temperature_C']>30)].shape[0]"
   ]
  },
  {
   "cell_type": "code",
   "execution_count": 12,
   "id": "7eb5e304-a093-49a4-9d2a-b8c472d95e33",
   "metadata": {},
   "outputs": [
    {
     "data": {
      "text/plain": [
       "469.6199685856172"
      ]
     },
     "execution_count": 12,
     "metadata": {},
     "output_type": "execute_result"
    }
   ],
   "source": [
    "# Using Numpy, calculate the standard deviation of the 'Rainfall' \n",
    "# for plots where the 'Plot_size' is larger than the median plot size of the dataset (round to 2 decimal places)\n",
    "mdn_plot = agric_df[\"Plot_size\"].median()\n",
    "big_plot = agric_df[agric_df[\"Plot_size\"] > mdn_plot]\n",
    "std_rain_big = np.std(big_plot[\"Rainfall\"], ddof = 0)\n",
    "std_rain_big\n"
   ]
  },
  {
   "cell_type": "code",
   "execution_count": 13,
   "id": "aff6fa3c-4080-44f7-8813-ee880c429228",
   "metadata": {},
   "outputs": [
    {
     "name": "stdout",
     "output_type": "stream",
     "text": [
      "most_com_max : 30.7\n",
      "least com crop : rice\n"
     ]
    }
   ],
   "source": [
    "# If you concatenate the first three digits of the most common ‘Max_temperature_C’ with the last three letters of the least\n",
    "# common 'Crop_type', what string do you get?\n",
    "# Note: Use the first mode if there are multiple modes\n",
    "most_com_max = agric_df[\"Max_temperature_C\"].value_counts().idxmax()\n",
    "least_com_crop = agric_df[\"Crop_type\"].value_counts().idxmin()\n",
    "print(\"most_com_max :\",most_com_max)\n",
    "print(\"least com crop :\", least_com_crop)"
   ]
  },
  {
   "cell_type": "code",
   "execution_count": 14,
   "id": "e329fcea-8426-4166-8c55-e0e9337cf1a5",
   "metadata": {},
   "outputs": [
    {
     "name": "stderr",
     "output_type": "stream",
     "text": [
      "/usr/lib/python3/dist-packages/scipy/__init__.py:146: UserWarning: A NumPy version >=1.17.3 and <1.25.0 is required for this version of SciPy (detected version 1.26.4\n",
      "  warnings.warn(f\"A NumPy version >={np_minversion} and <{np_maxversion}\"\n",
      "/tmp/ipykernel_10601/402820724.py:13: FutureWarning: \n",
      "\n",
      "Passing `palette` without assigning `hue` is deprecated and will be removed in v0.14.0. Assign the `x` variable to `hue` and set `legend=False` for the same effect.\n",
      "\n",
      "  sns.violinplot(x='Elevation_Category', y='Annual_yield', data=agric_df, palette='viridis')\n"
     ]
    },
    {
     "data": {
      "image/png": "[encoded data removed]",
      "text/plain": [
       "<Figure size 1200x800 with 1 Axes>"
      ]
     },
     "metadata": {},
     "output_type": "display_data"
    }
   ],
   "source": [
    "# Write Python code to create a violin plot visualising the distribution of 'Annual_yield' across different 'Elevation' ranges.\n",
    "# Use the provided elevation range categories (Low: < 300m, Medium: 300m - 600m, High: > 600m) to categorise the data before plotting. \n",
    "# Examine the violin plot displaying the distribution of 'Annual Yield' across three elevation categories (Low, Medium, High). \n",
    "\n",
    "import seaborn as sns\n",
    "import matplotlib.pyplot as plt\n",
    "\n",
    "# create 'Elevation_Category' based on the provided elevation ranges\n",
    "agric_df['Elevation_Category'] = pd.cut(agric_df['Elevation'], bins=[-float('inf'), 300, 600, float('inf')], labels=['Low', 'Medium', 'High'])\n",
    "\n",
    "# Create the violin plot\n",
    "plt.figure(figsize=(12, 8))\n",
    "sns.violinplot(x='Elevation_Category', y='Annual_yield', data=agric_df, palette='viridis')\n",
    "\n",
    "# Set labels and title\n",
    "plt.xlabel('Elevation Category')\n",
    "plt.ylabel('Annual Yield')\n",
    "plt.title('Distribution of Annual Yield Across Elevation Categories')\n",
    "\n",
    "# Show the plot\n",
    "plt.show()\n"
   ]
  },
  {
   "cell_type": "code",
   "execution_count": 21,
   "id": "54e6038b-9dec-40e2-94cc-253e5b23e2f4",
   "metadata": {},
   "outputs": [
    {
     "name": "stdout",
     "output_type": "stream",
     "text": [
      "The sum of lengths of characters for each unique crop type: 42\n"
     ]
    }
   ],
   "source": [
    "# Assuming each 'Crop_type' contributes an integer value equal to its length (e.g., 'wheat' contributes 5),\n",
    "# write a recursive function to sum the integer values for each unique crop type in the dataset. What is the sum?\n",
    "\n",
    "def rec_sum_crop(df, n=0, total_sum=0):\n",
    "    unique_crops = df[\"Crop_type\"].unique()\n",
    "\n",
    "    if n < len(unique_crops):\n",
    "        total_sum += len(unique_crops[n])\n",
    "        n += 1\n",
    "        return rec_sum_crop(df, n, total_sum)\n",
    "    else:\n",
    "        return total_sum\n",
    "\n",
    "# Assuming 'agric_df' is your DataFrame\n",
    "total_crop_length_sum = rec_sum_crop(agric_df)\n",
    "\n",
    "print(\"The sum of lengths of characters for each unique crop type:\", total_crop_length_sum)\n",
    "\n"
   ]
  },
  {
   "cell_type": "code",
   "execution_count": 22,
   "id": "12405cff-156a-4341-b63b-4f2179d9d5be",
   "metadata": {},
   "outputs": [
    {
     "name": "stdout",
     "output_type": "stream",
     "text": [
      "['coffee' 'potato' 'banana' 'wheat' 'cassava' 'maize' 'tea' 'rice']\n"
     ]
    }
   ],
   "source": [
    "print(unique_crops)"
   ]
  },
  {
   "cell_type": "code",
   "execution_count": 23,
   "id": "5caa901e-c999-4232-824a-bc5b4babc42e",
   "metadata": {},
   "outputs": [
    {
     "name": "stdout",
     "output_type": "stream",
     "text": [
      "The p-value for the t-test is: 0.598\n"
     ]
    }
   ],
   "source": [
    "# Write Python code to perform a t-test comparing the average 'Annual_yield' between 'coffee' and 'banana' crop types \n",
    "# using scipy.stats. What is the p-value, rounded to three decimal places?\n",
    "from scipy.stats import ttest_ind\n",
    "\n",
    "coffee_yield = agric_df[agric_df[\"Crop_type\"] == \"coffee\"][\"Annual_yield\"]\n",
    "banana_yield = agric_df[agric_df[\"Crop_type\"] == \"banana\"][\"Annual_yield\"]\n",
    "\n",
    "# Perform t-test\n",
    "t_stat, p_value = ttest_ind(coffee_yield, banana_yield, equal_var=False)\n",
    "\n",
    "# Print the p-value rounded to three decimal places\n",
    "print(f\"The p-value for the t-test is: {round(p_value, 3)}\")\n"
   ]
  },
  {
   "cell_type": "code",
   "execution_count": null,
   "id": "5ced1aa1-d15c-4a94-a1eb-6a56e3e6e259",
   "metadata": {},
   "outputs": [],
   "source": []
  }
 ],
 "metadata": {
  "kernelspec": {
   "display_name": "Python 3 (ipykernel)",
   "language": "python",
   "name": "python3"
  },
  "language_info": {
   "codemirror_mode": {
    "name": "ipython",
    "version": 3
   },
   "file_extension": ".py",
   "mimetype": "text/x-python",
   "name": "python",
   "nbconvert_exporter": "python",
   "pygments_lexer": "ipython3",
   "version": "3.10.12"
  }
 },
 "nbformat": 4,
 "nbformat_minor": 5
}
