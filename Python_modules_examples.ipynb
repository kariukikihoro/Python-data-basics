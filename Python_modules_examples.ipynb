{
 "cells": [
  {
   "cell_type": "markdown",
   "id": "1e8c3b42",
   "metadata": {},
   "source": [
    "<div align=\"center\" style=\" font-size: 80%; text-align: center; margin: 0 auto\">\n",
    "<img src=\"https://raw.githubusercontent.com/Explore-AI/Pictures/master/Python-Notebook-Banners/Examples.png\"  style=\"display: block; margin-left: auto; margin-right: auto;\";/>\n",
    "</div>"
   ]
  },
  {
   "cell_type": "markdown",
   "id": "f662d169",
   "metadata": {},
   "source": [
    "# Examples: Python modules\n",
    "© ExploreAI Academy"
   ]
  },
  {
   "cell_type": "markdown",
   "id": "26af890c",
   "metadata": {},
   "source": [
    "This notebook accompanies the walk-through video on Python modules and packages, and also contains a few additional examples on how we can use modules. \n",
    "\n"
   ]
  },
  {
   "cell_type": "markdown",
   "id": "0e7ee70a",
   "metadata": {},
   "source": [
    "## Learning Objectives\n",
    "In this train we will learn how to:\n",
    "- Write a module and import all or specific objects from a module. \n",
    "- Import modules using an alias name and explore the use of built-in modules.\n",
    "\n",
    "\n",
    "## Outline\n",
    "To do this, we will:\n",
    "- Define the importance of modules and packages in programming.\n",
    "- Review the syntax and conventions for importing modules. \n",
    "- Consider the use of built-in Python modules."
   ]
  },
  {
   "cell_type": "markdown",
   "id": "3562c909",
   "metadata": {},
   "source": [
    "## Introduction\n",
    "Modular programming is a style of programming that promotes code reusability; allowing us to generate single pieces of code which can be used in multiple parts of a project - thus saving time and resources. The resulting code can be simpler to understand and maintain since components can be considered in isolation. In Python, **modularisation** is implemented using functions, modules and packages.\n",
    "\n",
    "A **module** is a file consisting of Python code. A module can define functions, classes, variables and runnable code. These modules can be imported and referenced from other Python code. A **Python package** (also referred to as a library) is a collection of hierarchically structured directories of Python code consisting of sub-packages and modules.\n",
    "\n",
    "Modules and packages are two mechanisms that facilitate modular programming. \n",
    "\n",
    "## Why modularisation? \n",
    "\n",
    "* **Reusability**: Eliminates the need to write new code, as functionality defined in a single module can be easily reused.\n",
    "\n",
    "\n",
    "* **Simplicity**: Modules generally tend to focus on a selected area of the problem which is usually small, rather than focusing on the entire problem at hand. Integrating the use of selected modules will result in systematically dealing with each small problem in the code, making development easier and less error-prone.\n",
    "\n",
    "\n",
    "* **Maintainability**: Modules in Python are often designed to be self-supporting. In this sense, one module does not depend entirely upon other modules to work. Therefore it is unlikely that modifying a single module of a program will affect other parts of the program. This allows a team of many programmers or data scientists to work collaboratively on a large application."
   ]
  },
  {
   "cell_type": "markdown",
   "id": "e7c61c07",
   "metadata": {},
   "source": [
    "## Working with modules  \n",
    "\n",
    "### Creating modules\n",
    "Creating a module is as simply as saving a Python script with functions, classes, variables and running code. The file name is the module name with the suffix `.py` appended.\n",
    "\n",
    "### Importing modules \n",
    "We can access this module and its elements from a different Python file by using the `import` statement. \n",
    "* We can import a single module/package:\n",
    "\n",
    "    ```python\n",
    "    import <module_name>\n",
    "    ```\n",
    "\n",
    "* import multiple modules using individual import statements:\n",
    "\n",
    "    ```python\n",
    "    import <module_1_name>\n",
    "    import <module_2_name>\n",
    "    import <module_3_name>\n",
    "    ...```\n",
    "    \n",
    "    \n",
    "                      \n",
    "The same rules apply when dealing with packages. We can import specific modules within a package by using dot notation. For this to work, we have to structure packages and modules in a way that reflects the hierarchy in the package directory.\n",
    "\n",
    "   ```python\n",
    "    import <package_name>.<sub_package_name>.<module_name>.<...>\n",
    "   ```\n",
    "\n",
    "Let's go ahead and create our own module, with the following 3 types of elements:\n",
    "\n",
    "*   A variable `s`\n",
    "*   A function `say_hi()`\n",
    "*   A class `Greet`"
   ]
  },
  {
   "cell_type": "code",
   "execution_count": 1,
   "id": "e87285b8",
   "metadata": {},
   "outputs": [],
   "source": [
    "# Contents of the module we are creating \n",
    "content = \"\"\"\n",
    "s = 'Hello ' \n",
    "\n",
    "def say_hi(name):\n",
    "    print(s + name)\n",
    "\n",
    "class Greet:\n",
    "    pass\n",
    "\"\"\"\n",
    "\n",
    "# Write the above text to a file called my_module.py\n",
    "# within our current working directory. \n",
    "with open('./my_module.py', 'w') as fp:\n",
    "    fp.write(content)"
   ]
  },
  {
   "cell_type": "markdown",
   "id": "ede20263",
   "metadata": {},
   "source": [
    "This command writes (or saves) our module into our working directory, so that we can use it again."
   ]
  },
  {
   "cell_type": "code",
   "execution_count": 2,
   "id": "b34febe7",
   "metadata": {},
   "outputs": [],
   "source": [
    "#Import the module we've just made! \n",
    "import my_module "
   ]
  },
  {
   "cell_type": "markdown",
   "id": "d623b036",
   "metadata": {},
   "source": [
    "Even though we've imported our module, note that its contents (the variables and functions we've defined within the module) are not directly accessible to us. As such, attempting to access these elements will result in (namespace) errors being thrown. We can safely see such errors using a `try-except` block:"
   ]
  },
  {
   "cell_type": "code",
   "execution_count": 3,
   "id": "86288085",
   "metadata": {},
   "outputs": [
    {
     "name": "stdout",
     "output_type": "stream",
     "text": [
      "Variable 's' does not exist!\n"
     ]
    }
   ],
   "source": [
    "try:\n",
    "    # Try to print the variable s\n",
    "    print(s)\n",
    "except NameError:\n",
    "    # We've caught a NameError exception (error!)\n",
    "    # We inform the programmer (you) that the variable does not exist\n",
    "    print(\"Variable 's' does not exist!\")"
   ]
  },
  {
   "cell_type": "markdown",
   "id": "9b8b6b2e",
   "metadata": {},
   "source": [
    "Learning from this experience, it is important to know that objects in a module are only accessible when prefixed with via dot notation, as illustrated below. "
   ]
  },
  {
   "cell_type": "code",
   "execution_count": 4,
   "id": "e920ba1d",
   "metadata": {},
   "outputs": [
    {
     "data": {
      "text/plain": [
       "'Hello '"
      ]
     },
     "execution_count": 4,
     "metadata": {},
     "output_type": "execute_result"
    }
   ],
   "source": [
    "# Accessing the variable s in my_module\n",
    "my_module.s "
   ]
  },
  {
   "cell_type": "code",
   "execution_count": 5,
   "id": "af5bf12c",
   "metadata": {},
   "outputs": [
    {
     "name": "stdout",
     "output_type": "stream",
     "text": [
      "Hello Nelson\n"
     ]
    }
   ],
   "source": [
    "# Accessing the say_hi function in my_module\n",
    "my_module.say_hi('Nelson')"
   ]
  },
  {
   "cell_type": "markdown",
   "id": "32b5b877",
   "metadata": {},
   "source": [
    "### Example: Importing modules using an alias\n",
    "The `import` statement in Python also allows for the use of aliases when referencing a module. Using the `as` keyword, we can save ourselves from having to type otherwise long package names each time we need to access an object from a given module/ package. This usually follows the following syntax:\n",
    "\n",
    "```python\n",
    "import <module_name> as <new_model_name>\n",
    "```\n",
    "or \n",
    "\n",
    "```python \n",
    "from <package_name> import <module_name> as <new_model_name>\n",
    "```\n",
    "\n",
    "for example:"
   ]
  },
  {
   "cell_type": "code",
   "execution_count": 6,
   "id": "a2253207",
   "metadata": {},
   "outputs": [],
   "source": [
    "# Alias for my_module\n",
    "import my_module as md"
   ]
  },
  {
   "cell_type": "markdown",
   "id": "94a12604",
   "metadata": {},
   "source": [
    "We can thus treat the alias as the new name for the module. "
   ]
  },
  {
   "cell_type": "code",
   "execution_count": 7,
   "id": "01824c3d",
   "metadata": {},
   "outputs": [
    {
     "data": {
      "text/plain": [
       "'Hello '"
      ]
     },
     "execution_count": 7,
     "metadata": {},
     "output_type": "execute_result"
    }
   ],
   "source": [
    "# Accessing the variable s using an alias\n",
    "md.s\n"
   ]
  },
  {
   "cell_type": "code",
   "execution_count": 8,
   "id": "34b57906",
   "metadata": {},
   "outputs": [
    {
     "name": "stdout",
     "output_type": "stream",
     "text": [
      "Hello Jabulani\n"
     ]
    }
   ],
   "source": [
    "# Accessing the say_hi function using an alias for my_module\n",
    "md.say_hi('Jabulani')"
   ]
  },
  {
   "cell_type": "code",
   "execution_count": 9,
   "id": "b5535f78",
   "metadata": {},
   "outputs": [
    {
     "data": {
      "text/plain": [
       "my_module.Greet"
      ]
     },
     "execution_count": 9,
     "metadata": {},
     "output_type": "execute_result"
    }
   ],
   "source": [
    "# Accessing the empty class, Greet\n",
    "md.Greet"
   ]
  },
  {
   "cell_type": "markdown",
   "id": "0c700f86",
   "metadata": {},
   "source": [
    "### Example: Importing modules directly\n",
    "Another way to access specific objects in a module is to use the `from` keyword and import them directly:\n",
    "\n",
    "```python \n",
    "from <module_name> import <x, y, z>\n",
    "``` "
   ]
  },
  {
   "cell_type": "code",
   "execution_count": 10,
   "id": "fe38039e",
   "metadata": {},
   "outputs": [],
   "source": [
    "from my_module import s, say_hi, Greet"
   ]
  },
  {
   "cell_type": "code",
   "execution_count": 11,
   "id": "52f51d01",
   "metadata": {},
   "outputs": [
    {
     "data": {
      "text/plain": [
       "'Hello '"
      ]
     },
     "execution_count": 11,
     "metadata": {},
     "output_type": "execute_result"
    }
   ],
   "source": [
    "s"
   ]
  },
  {
   "cell_type": "code",
   "execution_count": 12,
   "id": "d45550ec",
   "metadata": {},
   "outputs": [
    {
     "name": "stdout",
     "output_type": "stream",
     "text": [
      "Hello Jabulani\n"
     ]
    }
   ],
   "source": [
    "say_hi('Jabulani')"
   ]
  },
  {
   "cell_type": "code",
   "execution_count": 13,
   "id": "6f53499c",
   "metadata": {},
   "outputs": [
    {
     "data": {
      "text/plain": [
       "my_module.Greet"
      ]
     },
     "execution_count": 13,
     "metadata": {},
     "output_type": "execute_result"
    }
   ],
   "source": [
    "Greet"
   ]
  },
  {
   "cell_type": "markdown",
   "id": "e5472586",
   "metadata": {},
   "source": [
    "We can see that using the `from xx import yy` structure provides access to the individual elements in the module without having to use dot notation. However, using aliases is the recommended way of importing modules and packages, as this prevents potential confusion when different modules contain functions or classes with the same name.\n",
    "\n",
    "To select all objects from a module we can use the following command, where the asterisk **( * )** *signifies all* :\n",
    "\n",
    "```python\n",
    "from <module_name> import*\n",
    "```\n",
    "Let's see this in practice one more time: "
   ]
  },
  {
   "cell_type": "code",
   "execution_count": 14,
   "id": "d4083840",
   "metadata": {},
   "outputs": [],
   "source": [
    "from my_module import * "
   ]
  },
  {
   "cell_type": "markdown",
   "id": "c3b09505",
   "metadata": {},
   "source": [
    "Now we have access to all our module contents"
   ]
  },
  {
   "cell_type": "code",
   "execution_count": 15,
   "id": "bb7c4281",
   "metadata": {},
   "outputs": [
    {
     "name": "stdout",
     "output_type": "stream",
     "text": [
      "Hello Joanne\n"
     ]
    }
   ],
   "source": [
    "say_hi('Joanne')"
   ]
  },
  {
   "cell_type": "code",
   "execution_count": 16,
   "id": "712a1bb4",
   "metadata": {},
   "outputs": [
    {
     "data": {
      "text/plain": [
       "my_module.Greet"
      ]
     },
     "execution_count": 16,
     "metadata": {},
     "output_type": "execute_result"
    }
   ],
   "source": [
    "Greet"
   ]
  },
  {
   "cell_type": "markdown",
   "id": "650b646a",
   "metadata": {},
   "source": [
    "## Built-in modules \n",
    "Python contains a large number of what are known as 'built-in' modules. These modules can be accessed in Python programs by simply importing them using their name preceded by the keyword `import`. \n",
    "\n",
    "Each built-in module contains resources for certain system-specific functionalities such as Operating System management, disk Input-Output, etc. Python scripts(with the **.py** extension) containing useful utilities are embedded within the standard library. \n",
    "\n",
    "To **display a list of all available modules**, use the following command:\n",
    "\n",
    "`help('modules')`"
   ]
  },
  {
   "cell_type": "code",
   "execution_count": 17,
   "id": "82f12084",
   "metadata": {},
   "outputs": [
    {
     "name": "stdout",
     "output_type": "stream",
     "text": [
      "\n",
      "Please wait a moment while I gather a list of all available modules...\n",
      "\n"
     ]
    },
    {
     "name": "stderr",
     "output_type": "stream",
     "text": [
      "/usr/lib/python3.8/pkgutil.py:92: UserWarning: The numpy.array_api submodule is still experimental. See NEP 47.\n",
      "  __import__(info.name)\n"
     ]
    },
    {
     "name": "stdout",
     "output_type": "stream",
     "text": [
      "pygame 2.5.2 (SDL 2.28.2, Python 3.8.10)\n",
      "Hello from the pygame community. https://www.pygame.org/contribute.html\n"
     ]
    },
    {
     "name": "stderr",
     "output_type": "stream",
     "text": [
      "/home/kihoro/.local/lib/python3.8/site-packages/tqdm/auto.py:22: TqdmWarning: IProgress not found. Please update jupyter and ipywidgets. See https://ipywidgets.readthedocs.io/en/stable/user_install.html\n",
      "  from .autonotebook import tqdm as notebook_tqdm\n"
     ]
    },
    {
     "name": "stdout",
     "output_type": "stream",
     "text": [
      "DEBUG:pip._internal.vcs.versioncontrol:Registered VCS backend: bzr\n",
      "DEBUG:pip._internal.vcs.versioncontrol:Registered VCS backend: git\n",
      "DEBUG:pip._internal.vcs.versioncontrol:Registered VCS backend: hg\n",
      "DEBUG:pip._internal.vcs.versioncontrol:Registered VCS backend: svn\n",
      "AptUrl              audioop             json5               requests\n",
      "CommandNotFound     babel               jsonschema          requests_file\n",
      "Crypto              backcall            jsonschema_specifications requests_unixsocket\n",
      "IPython             backports           jupyter             resource\n",
      "MySQLdb             base64              jupyter_client      rfc3339_validator\n",
      "NvidiaDetector      bdb                 jupyter_core        rfc3986_validator\n",
      "Onboard             bidi                jupyter_events      rlcompleter\n",
      "PAM                 binascii            jupyter_lsp         rpds\n",
      "PIL                 binhex              jupyter_server      runpy\n",
      "PyICU               bisect              jupyter_server_terminals samba\n",
      "PyPDF3              bleach              jupyterlab          scanext\n",
      "Quirks              blinker             jupyterlab_pygments sched\n",
      "UbuntuDrivers       brlapi              jupyterlab_server   scipy\n",
      "Xlib                brotli              jwt                 scripts\n",
      "__future__          bs4                 keyring             seaborn\n",
      "_abc                builtins            keyword             secrets\n",
      "_argon2_cffi_bindings bz2                 kiwisolver          secretstorage\n",
      "_ast                cProfile            launchpadlib        select\n",
      "_asyncio            cairo               ldb                 selectors\n",
      "_bisect             calendar            lib2to3             send2trash\n",
      "_blake2             caribou             libfuturize         setproctitle\n",
      "_bootlocale         certifi             libpasteurize       setuptools\n",
      "_brotli             cffi                linecache           shelve\n",
      "_bz2                cgi                 locale              shlex\n",
      "_cffi_backend       cgitb               logging             shutil\n",
      "_codecs             chardet             louis               signal\n",
      "_codecs_cn          charset_normalizer  lsb_release         simplejson\n",
      "_codecs_hk          chunk               lxml                site\n",
      "_codecs_iso2022     cinnamon            lzma                sitecustomize\n",
      "_codecs_jp          click               macaroonbakery      six\n",
      "_codecs_kr          cmath               magic               smtpd\n",
      "_codecs_tw          cmd                 mailbox             smtplib\n",
      "_collections        code                mailcap             sndhdr\n",
      "_collections_abc    codecs              mako                sniffio\n",
      "_compat_pickle      codeop              markupsafe          socket\n",
      "_compression        collections         marshal             socketserver\n",
      "_contextvars        colorama            math                soupsieve\n",
      "_crypt              colorsys            matplotlib          speechd\n",
      "_csv                comm                matplotlib_inline   speechd_config\n",
      "_ctypes             compileall          mimetypes           spwd\n",
      "_ctypes_test        concurrent          mintcommon          sqlite3\n",
      "_curses             configobj           mintreport          sqlparse\n",
      "_curses_panel       configparser        mistune             sre_compile\n",
      "_datetime           contextlib          mmap                sre_constants\n",
      "_dbm                contextvars         modulefinder        sre_parse\n",
      "_dbus_bindings      contourpy           multiprocessing     ssh_import_id\n",
      "_dbus_glib_bindings copy                my_module           ssl\n",
      "_decimal            copyreg             nacl                stack_data\n",
      "_dummy_thread       crypt               nbclient            stat\n",
      "_elementtree        cryptography        nbconvert           statistics\n",
      "_functools          cssselect2          nbformat            string\n",
      "_gdbm               csv                 nest_asyncio        stringprep\n",
      "_hashlib            ctypes              netaddr             struct\n",
      "_heapq              cups                netifaces           subprocess\n",
      "_icu                cupsext             netrc               sunau\n",
      "_imp                cupshelpers         nis                 svg\n",
      "_io                 curl                nntplib             svglib\n",
      "_json               curses              notebook            symbol\n",
      "_ldb_text           cycler              notebook_shim       symtable\n",
      "_locale             dataclasses         ntpath              sys\n",
      "_lsprof             datetime            nturl2path          sysconfig\n",
      "_lzma               dateutil            numbers             syslog\n",
      "_markupbase         dbm                 numpy               systemd\n",
      "_md5                dbus                oauthlib            tabnanny\n",
      "_multibytecodec     deb822              opcode              talloc\n",
      "_multiprocessing    debian              operator            tarfile\n",
      "_opcode             debian_bundle       optparse            tdb\n",
      "_operator           debugpy             orca                telnetlib\n",
      "_osx_support        decimal             os                  tempfile\n",
      "_ped                decorator           oscrypto            termcolor\n",
      "_pickle             defer               ossaudiodev         terminado\n",
      "_posixshmem         defusedxml          overrides           termios\n",
      "_posixsubprocess    difflib             packaging           test\n",
      "_py_abc             dis                 pandas              textwrap\n",
      "_pydecimal          distro              pandocfilters       this\n",
      "_pyio               distutils           parser              threading\n",
      "_queue              django              parso               time\n",
      "_random             django_filters      parted              timeit\n",
      "_sha1               doctest             past                tinycss2\n",
      "_sha256             dummy_threading     pathlib             tkinter\n",
      "_sha3               easy_install        pcardext            tldextract\n",
      "_sha512             email               pdb                 token\n",
      "_signal             emcee               pexpect             tokenize\n",
      "_sitebuiltins       encodings           pickle              tomli\n",
      "_socket             entrypoints         pickleshare         tornado\n",
      "_sqlite3            enum                pickletools         tqdm\n",
      "_sre                errno               pip                 trace\n",
      "_ssl                exceptiongroup      pipes               traceback\n",
      "_stat               executing           pkg_resources       tracemalloc\n",
      "_statistics         fastjsonschema      pkgutil             traitlets\n",
      "_string             faulthandler        pkgutil_resolve_name tty\n",
      "_strptime           fcntl               platform            turtle\n",
      "_struct             filecmp             platformdirs        types\n",
      "_symtable           fileinput           plistlib            typing\n",
      "_sysconfigdata__linux_x86_64-linux-gnu fnmatch             poplib              typing_extensions\n",
      "_sysconfigdata__x86_64-linux-gnu fontTools           posix               tzdata\n",
      "_tdb_text           formatter           posixpath           tzlocal\n",
      "_testbuffer         fpdf                pprint              ufw\n",
      "_testcapi           fractions           problem_report      unicodedata\n",
      "_testimportmultiple ftplib              profile             unidecode\n",
      "_testinternalcapi   functools           prometheus_client   unittest\n",
      "_testmultiphase     future              prompt_toolkit      uno\n",
      "_thread             gc                  pstats              unohelper\n",
      "_threading_local    genericpath         psutil              uritools\n",
      "_tkinter            getdist             pty                 urllib\n",
      "_tracemalloc        getopt              ptyprocess          urllib3\n",
      "_uuid               getpass             pure_eval           uu\n",
      "_version            gettext             pwd                 uuid\n",
      "_warnings           gi                  py_compile          validate\n",
      "_weakref            glob                pyatspi             vboxapi\n",
      "_weakrefset         grp                 pyclbr              venv\n",
      "_xxsubinterpreters  grpc                pycparser           wadllib\n",
      "_xxtestfuzz         gzip                pycurl              warnings\n",
      "_yaml               hashlib             pydoc               wave\n",
      "abc                 heapq               pydoc_data          wcwidth\n",
      "aifc                hmac                pydyf               weakref\n",
      "antigravity         hpmudext            pyexpat             weasyprint\n",
      "anyio               html                pygame              webbrowser\n",
      "apport              html5lib            pygments            webencodings\n",
      "apport_python_hook  http                pygtkcompat         websocket\n",
      "apt                 httplib2            pyhanko             wheel\n",
      "apt_clone           icu                 pyhanko_certvalidator wsgiref\n",
      "apt_inst            idna                pyinotify           xapp\n",
      "apt_pkg             ifaddr              pylab               xdg\n",
      "aptdaemon           imaplib             pymacaroons         xdrlib\n",
      "aptsources          imdb                pyparsing           xhtml2pdf\n",
      "arabic_reshaper     imghdr              pyphen              xkit\n",
      "argon2              imp                 pyrfc3339           xlrd\n",
      "argparse            importlib           pythonjsonlogger    xml\n",
      "array               importlib_metadata  pytz                xmlrpc\n",
      "asgiref             importlib_resources pytz_deprecation_shim xxlimited\n",
      "asn1crypto          inspect             qrcode              xxsubtype\n",
      "ast                 io                  queue               yaml\n",
      "asttokens           ipaddress           quopri              youtube_dl\n",
      "async_lru           ipykernel           random              zipapp\n",
      "asynchat            ipykernel_launcher  re                  zipfile\n",
      "asyncio             ipython_genutils    readline            zipimport\n",
      "asyncore            itertools           redshift_gtk        zipp\n",
      "atexit              jedi                referencing         zlib\n",
      "attr                jinja2              reportlab           zmq\n",
      "attrs               json                reprlib             zopfli\n",
      "\n",
      "Enter any module name to get more help.  Or, type \"modules spam\" to search\n",
      "for modules whose name or summary contain the string \"spam\".\n",
      "\n"
     ]
    }
   ],
   "source": [
    "help('modules') # this might take a while"
   ]
  },
  {
   "cell_type": "markdown",
   "id": "7e7ff785",
   "metadata": {},
   "source": [
    "Alternatively, the `dir()` function is a built-in function that can be used to **list all the function names (or variable names) in a module**:\n",
    "\n",
    "`dir(module_name)`"
   ]
  },
  {
   "cell_type": "code",
   "execution_count": null,
   "id": "1d2326d0",
   "metadata": {},
   "outputs": [],
   "source": [
    "# Import math module \n",
    "import math \n",
    "\n",
    "# Use the sqrt function in the math module\n",
    "x = math.sqrt(81)\n",
    "print('The square root of 81 is equal to {}'.format(x))\n",
    "\n",
    "# List all functions in math module \n",
    "list_all= dir(math)\n",
    "print('Functions in the math module: {}'.format(list_all))"
   ]
  },
  {
   "cell_type": "markdown",
   "id": "e9956efe",
   "metadata": {
    "tags": []
   },
   "source": [
    "## Summary\n",
    "\n",
    "In this train, we learned how to create, import and use modules. We also explored the use of built-in modules in Python and how to determine what functions are present within modules. "
   ]
  },
  {
   "cell_type": "markdown",
   "id": "26fd094b-0fee-46f1-a4b8-73766813c42b",
   "metadata": {
    "tags": []
   },
   "source": [
    "#  \n",
    "\n",
    "<div align=\"center\" style=\" font-size: 80%; text-align: center; margin: 0 auto\">\n",
    "<img src=\"https://raw.githubusercontent.com/Explore-AI/Pictures/master/ExploreAI_logos/EAI_Blue_Dark.png\"  style=\"width:200px\";/>\n",
    "</div>"
   ]
  }
 ],
 "metadata": {
  "kernelspec": {
   "display_name": "Python 3 (ipykernel)",
   "language": "python",
   "name": "python3"
  },
  "language_info": {
   "codemirror_mode": {
    "name": "ipython",
    "version": 3
   },
   "file_extension": ".py",
   "mimetype": "text/x-python",
   "name": "python",
   "nbconvert_exporter": "python",
   "pygments_lexer": "ipython3",
   "version": "3.8.10"
  }
 },
 "nbformat": 4,
 "nbformat_minor": 5
}
