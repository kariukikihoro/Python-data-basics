{
 "cells": [
  {
   "cell_type": "code",
   "execution_count": 3,
   "id": "743493b3-f212-4b3c-b810-f77dae256f5b",
   "metadata": {},
   "outputs": [
    {
     "name": "stdout",
     "output_type": "stream",
     "text": [
      "      name  score  rank\n",
      "0    Alice      3   2.0\n",
      "1      Bob      5   1.0\n",
      "2  Charlie      2   3.0\n"
     ]
    }
   ],
   "source": [
    "import pandas as pd\n",
    "\n",
    "def rank_by_column(df, column_to_rank, ascending=False):\n",
    "    \"\"\"Ranks values in a DataFrame column, with the highest value getting the top rank.\n",
    "\n",
    "    Args:\n",
    "        df: The pandas DataFrame.\n",
    "        column_to_rank: The name of the column to rank by.\n",
    "        ascending: If True, ranks in ascending order (lowest first). \n",
    "                   If False, ranks in descending order (highest first).\n",
    "\n",
    "    Returns:\n",
    "        A new pandas Series containing the ranks.\n",
    "    \"\"\"\n",
    "\n",
    "    df['rank'] = df[column_to_rank].rank(ascending=ascending, method='dense')\n",
    "    return df['rank']\n",
    "\n",
    "# Example usage\n",
    "df = pd.DataFrame({'name': ['Alice', 'Bob', 'Charlie'], 'score': [3, 5, 2]})\n",
    "df['rank'] = rank_by_column(df, 'score', ascending=False)\n",
    "print(df)\n"
   ]
  },
  {
   "cell_type": "code",
   "execution_count": 4,
   "id": "387a5994-fd47-4fdb-b9bc-a0efe2588b16",
   "metadata": {},
   "outputs": [
    {
     "name": "stdout",
     "output_type": "stream",
     "text": [
      "[5, 1, 3, 2, 4]\n"
     ]
    }
   ],
   "source": [
    "\n",
    "def rank_by_highest_value(values):\n",
    "    # Sort values in descending order while keeping track of original indices\n",
    "    sorted_indices = sorted(range(len(values)), key=lambda k: values[k], reverse=True)\n",
    "\n",
    "    # Create an empty ranking list of the same length as values\n",
    "    ranking = [0] * len(values)\n",
    "\n",
    "    # Assign ranks based on the order in sorted_indices\n",
    "    for rank, index in enumerate(sorted_indices, 1):\n",
    "        ranking[index] = rank\n",
    "\n",
    "    return ranking\n",
    "\n",
    "# Test\n",
    "scores = [50, 90, 80, 90, 60]\n",
    "print(rank_by_highest_value(scores))"
   ]
  },
  {
   "cell_type": "code",
   "execution_count": 5,
   "id": "4b97168d-7c26-42ac-8f4a-6f9297561a1a",
   "metadata": {},
   "outputs": [
    {
     "name": "stdout",
     "output_type": "stream",
     "text": [
      "[5, 1, 3, 2, 4]\n"
     ]
    }
   ],
   "source": [
    "\n",
    "def rank_by_highest_value(values):\n",
    "    # Sort values in descending order while keeping track of original indices\n",
    "    sorted_indices = sorted(range(len(values)), key=lambda k: values[k], reverse=True)\n",
    "\n",
    "    # Create an empty ranking list of the same length as values\n",
    "    ranking = [0] * len(values)\n",
    "\n",
    "    # Assign ranks based on the order in sorted_indices\n",
    "    for rank, index in enumerate(sorted_indices, 1):\n",
    "        ranking[index] = rank\n",
    "\n",
    "    return ranking\n",
    "\n",
    "# Test\n",
    "scores = [50, 90, 80, 90, 60]\n",
    "print(rank_by_highest_value(scores))"
   ]
  },
  {
   "cell_type": "code",
   "execution_count": 6,
   "id": "0630d882-3f94-43c1-beb4-2d8b5d26f01b",
   "metadata": {},
   "outputs": [
    {
     "name": "stdout",
     "output_type": "stream",
     "text": [
      "    Name  Score  Ranking\n",
      "0   John     85    Other\n",
      "1  Alice     92  Highest\n",
      "2    Bob     78    Other\n",
      "3    Eve     92  Highest\n"
     ]
    }
   ],
   "source": [
    "import pandas as pd\n",
    "\n",
    "def rank_based_on_highest_value(dataframe, value_column, rank_column):\n",
    "    \"\"\"\n",
    "    Assigns rankings to rows in a DataFrame based on the highest values in another column.\n",
    "\n",
    "    Parameters:\n",
    "    - dataframe: pandas DataFrame\n",
    "    - value_column: Name of the column containing values for ranking\n",
    "    - rank_column: Name of the column to store the rankings\n",
    "    \"\"\"\n",
    "    # Check if the DataFrame is not empty\n",
    "    if dataframe.empty:\n",
    "        print(\"DataFrame is empty. Cannot perform ranking.\")\n",
    "        return\n",
    "\n",
    "    # Get the index of the row with the highest value in the specified column\n",
    "    max_index = dataframe[value_column].idxmax()\n",
    "\n",
    "    # Create a new column for rankings and assign values based on the highest value\n",
    "    dataframe[rank_column] = dataframe[value_column].apply(lambda x: \"Highest\" if x == dataframe.at[max_index, value_column] else \"Other\")\n",
    "\n",
    "# Example usage:\n",
    "data = {\n",
    "    'Name': ['John', 'Alice', 'Bob', 'Eve'],\n",
    "    'Score': [85, 92, 78, 92]\n",
    "}\n",
    "\n",
    "df = pd.DataFrame(data)\n",
    "rank_based_on_highest_value(df, 'Score', 'Ranking')\n",
    "\n",
    "# Print the DataFrame with rankings\n",
    "print(df)\n"
   ]
  },
  {
   "cell_type": "code",
   "execution_count": 1,
   "id": "5df7b686-3295-48a2-a66c-0d89ec57d1db",
   "metadata": {},
   "outputs": [
    {
     "name": "stdout",
     "output_type": "stream",
     "text": [
      "Collecting ipywidgets\n",
      "  Downloading ipywidgets-8.1.2-py3-none-any.whl (139 kB)\n",
      "\u001b[K     |████████████████████████████████| 139 kB 859 kB/s eta 0:00:01\n",
      "\u001b[?25hRequirement already satisfied: ipython>=6.1.0 in /home/kihoro/.local/lib/python3.8/site-packages (from ipywidgets) (8.12.3)\n",
      "Requirement already satisfied: traitlets>=4.3.1 in /home/kihoro/.local/lib/python3.8/site-packages (from ipywidgets) (5.14.1)\n",
      "Collecting widgetsnbextension~=4.0.10\n",
      "  Downloading widgetsnbextension-4.0.10-py3-none-any.whl (2.3 MB)\n",
      "\u001b[K     |████████████████████████████████| 2.3 MB 5.0 MB/s eta 0:00:01\n",
      "\u001b[?25hCollecting jupyterlab-widgets~=3.0.10\n",
      "  Downloading jupyterlab_widgets-3.0.10-py3-none-any.whl (215 kB)\n",
      "\u001b[K     |████████████████████████████████| 215 kB 4.7 MB/s eta 0:00:01\n",
      "\u001b[?25hRequirement already satisfied: comm>=0.1.3 in /home/kihoro/.local/lib/python3.8/site-packages (from ipywidgets) (0.2.1)\n",
      "Requirement already satisfied: stack-data in /home/kihoro/.local/lib/python3.8/site-packages (from ipython>=6.1.0->ipywidgets) (0.6.3)\n",
      "Requirement already satisfied: jedi>=0.16 in /home/kihoro/.local/lib/python3.8/site-packages (from ipython>=6.1.0->ipywidgets) (0.19.1)\n",
      "Requirement already satisfied: prompt-toolkit!=3.0.37,<3.1.0,>=3.0.30 in /home/kihoro/.local/lib/python3.8/site-packages (from ipython>=6.1.0->ipywidgets) (3.0.43)\n",
      "Requirement already satisfied: pickleshare in /home/kihoro/.local/lib/python3.8/site-packages (from ipython>=6.1.0->ipywidgets) (0.7.5)\n",
      "Requirement already satisfied: pygments>=2.4.0 in /home/kihoro/.local/lib/python3.8/site-packages (from ipython>=6.1.0->ipywidgets) (2.17.2)\n",
      "Requirement already satisfied: typing-extensions; python_version < \"3.10\" in /home/kihoro/.local/lib/python3.8/site-packages (from ipython>=6.1.0->ipywidgets) (4.9.0)\n",
      "Requirement already satisfied: decorator in /home/kihoro/.local/lib/python3.8/site-packages (from ipython>=6.1.0->ipywidgets) (5.1.1)\n",
      "Requirement already satisfied: pexpect>4.3; sys_platform != \"win32\" in /home/kihoro/.local/lib/python3.8/site-packages (from ipython>=6.1.0->ipywidgets) (4.9.0)\n",
      "Requirement already satisfied: matplotlib-inline in /home/kihoro/.local/lib/python3.8/site-packages (from ipython>=6.1.0->ipywidgets) (0.1.6)\n",
      "Requirement already satisfied: backcall in /home/kihoro/.local/lib/python3.8/site-packages (from ipython>=6.1.0->ipywidgets) (0.2.0)\n",
      "Requirement already satisfied: asttokens>=2.1.0 in /home/kihoro/.local/lib/python3.8/site-packages (from stack-data->ipython>=6.1.0->ipywidgets) (2.4.1)\n",
      "Requirement already satisfied: executing>=1.2.0 in /home/kihoro/.local/lib/python3.8/site-packages (from stack-data->ipython>=6.1.0->ipywidgets) (2.0.1)\n",
      "Requirement already satisfied: pure-eval in /home/kihoro/.local/lib/python3.8/site-packages (from stack-data->ipython>=6.1.0->ipywidgets) (0.2.2)\n",
      "Requirement already satisfied: parso<0.9.0,>=0.8.3 in /home/kihoro/.local/lib/python3.8/site-packages (from jedi>=0.16->ipython>=6.1.0->ipywidgets) (0.8.3)\n",
      "Requirement already satisfied: wcwidth in /home/kihoro/.local/lib/python3.8/site-packages (from prompt-toolkit!=3.0.37,<3.1.0,>=3.0.30->ipython>=6.1.0->ipywidgets) (0.2.12)\n",
      "Requirement already satisfied: ptyprocess>=0.5 in /home/kihoro/.local/lib/python3.8/site-packages (from pexpect>4.3; sys_platform != \"win32\"->ipython>=6.1.0->ipywidgets) (0.7.0)\n",
      "Requirement already satisfied: six>=1.12.0 in /home/kihoro/.local/lib/python3.8/site-packages (from asttokens>=2.1.0->stack-data->ipython>=6.1.0->ipywidgets) (1.16.0)\n",
      "Installing collected packages: widgetsnbextension, jupyterlab-widgets, ipywidgets\n",
      "Successfully installed ipywidgets-8.1.2 jupyterlab-widgets-3.0.10 widgetsnbextension-4.0.10\n",
      "Collecting chart-studio\n",
      "  Downloading chart_studio-1.1.0-py3-none-any.whl (64 kB)\n",
      "\u001b[K     |████████████████████████████████| 64 kB 122 kB/s eta 0:00:01\n",
      "\u001b[?25hRequirement already satisfied: six in /home/kihoro/.local/lib/python3.8/site-packages (from chart-studio) (1.16.0)\n",
      "Requirement already satisfied: requests in /home/kihoro/.local/lib/python3.8/site-packages (from chart-studio) (2.31.0)\n",
      "Collecting retrying>=1.3.3\n",
      "  Downloading retrying-1.3.4-py3-none-any.whl (11 kB)\n",
      "Collecting plotly\n",
      "  Downloading plotly-5.18.0-py3-none-any.whl (15.6 MB)\n",
      "\u001b[K     |████████████████████████████████| 15.6 MB 5.0 MB/s eta 0:00:01    |██████████████████▉             | 9.2 MB 620 kB/s eta 0:00:11\n",
      "\u001b[?25hRequirement already satisfied: certifi>=2017.4.17 in /home/kihoro/.local/lib/python3.8/site-packages (from requests->chart-studio) (2023.11.17)\n",
      "Requirement already satisfied: urllib3<3,>=1.21.1 in /home/kihoro/.local/lib/python3.8/site-packages (from requests->chart-studio) (2.1.0)\n",
      "Requirement already satisfied: charset-normalizer<4,>=2 in /home/kihoro/.local/lib/python3.8/site-packages (from requests->chart-studio) (3.3.2)\n",
      "Requirement already satisfied: idna<4,>=2.5 in /home/kihoro/.local/lib/python3.8/site-packages (from requests->chart-studio) (3.6)\n",
      "Collecting tenacity>=6.2.0\n",
      "  Downloading tenacity-8.2.3-py3-none-any.whl (24 kB)\n",
      "Requirement already satisfied: packaging in /home/kihoro/.local/lib/python3.8/site-packages (from plotly->chart-studio) (23.2)\n",
      "Installing collected packages: retrying, tenacity, plotly, chart-studio\n",
      "Successfully installed chart-studio-1.1.0 plotly-5.18.0 retrying-1.3.4 tenacity-8.2.3\n",
      "Collecting pyarrow\n",
      "  Downloading pyarrow-15.0.0-cp38-cp38-manylinux_2_17_x86_64.manylinux2014_x86_64.whl (38.5 MB)\n",
      "\u001b[K     |████████████████████████████████| 38.5 MB 109 kB/s eta 0:00:01     |██████████████████████████▏     | 31.5 MB 5.2 MB/s eta 0:00:02\n",
      "\u001b[?25hRequirement already satisfied: numpy<2,>=1.16.6 in /home/kihoro/.local/lib/python3.8/site-packages (from pyarrow) (1.24.4)\n",
      "Installing collected packages: pyarrow\n",
      "Successfully installed pyarrow-15.0.0\n",
      "Collecting cufflinks\n",
      "  Downloading cufflinks-0.17.3.tar.gz (81 kB)\n",
      "\u001b[K     |████████████████████████████████| 81 kB 472 kB/s eta 0:00:01\n",
      "\u001b[?25hCollecting colorlover>=0.2.1\n",
      "  Downloading colorlover-0.3.0-py3-none-any.whl (8.9 kB)\n",
      "Requirement already satisfied: ipython>=5.3.0 in /home/kihoro/.local/lib/python3.8/site-packages (from cufflinks) (8.12.3)\n",
      "Requirement already satisfied: ipywidgets>=7.0.0 in /home/kihoro/.local/lib/python3.8/site-packages (from cufflinks) (8.1.2)\n",
      "Requirement already satisfied: numpy>=1.9.2 in /home/kihoro/.local/lib/python3.8/site-packages (from cufflinks) (1.24.4)\n",
      "Requirement already satisfied: pandas>=0.19.2 in /home/kihoro/.local/lib/python3.8/site-packages (from cufflinks) (2.0.3)\n",
      "Requirement already satisfied: plotly>=4.1.1 in /home/kihoro/.local/lib/python3.8/site-packages (from cufflinks) (5.18.0)\n",
      "Requirement already satisfied: setuptools>=34.4.1 in /usr/lib/python3/dist-packages (from cufflinks) (45.2.0)\n",
      "Requirement already satisfied: six>=1.9.0 in /home/kihoro/.local/lib/python3.8/site-packages (from cufflinks) (1.16.0)\n",
      "Requirement already satisfied: decorator in /home/kihoro/.local/lib/python3.8/site-packages (from ipython>=5.3.0->cufflinks) (5.1.1)\n",
      "Requirement already satisfied: pygments>=2.4.0 in /home/kihoro/.local/lib/python3.8/site-packages (from ipython>=5.3.0->cufflinks) (2.17.2)\n",
      "Requirement already satisfied: backcall in /home/kihoro/.local/lib/python3.8/site-packages (from ipython>=5.3.0->cufflinks) (0.2.0)\n",
      "Requirement already satisfied: pexpect>4.3; sys_platform != \"win32\" in /home/kihoro/.local/lib/python3.8/site-packages (from ipython>=5.3.0->cufflinks) (4.9.0)\n",
      "Requirement already satisfied: traitlets>=5 in /home/kihoro/.local/lib/python3.8/site-packages (from ipython>=5.3.0->cufflinks) (5.14.1)\n",
      "Requirement already satisfied: matplotlib-inline in /home/kihoro/.local/lib/python3.8/site-packages (from ipython>=5.3.0->cufflinks) (0.1.6)\n",
      "Requirement already satisfied: prompt-toolkit!=3.0.37,<3.1.0,>=3.0.30 in /home/kihoro/.local/lib/python3.8/site-packages (from ipython>=5.3.0->cufflinks) (3.0.43)\n",
      "Requirement already satisfied: typing-extensions; python_version < \"3.10\" in /home/kihoro/.local/lib/python3.8/site-packages (from ipython>=5.3.0->cufflinks) (4.9.0)\n",
      "Requirement already satisfied: jedi>=0.16 in /home/kihoro/.local/lib/python3.8/site-packages (from ipython>=5.3.0->cufflinks) (0.19.1)\n",
      "Requirement already satisfied: pickleshare in /home/kihoro/.local/lib/python3.8/site-packages (from ipython>=5.3.0->cufflinks) (0.7.5)\n",
      "Requirement already satisfied: stack-data in /home/kihoro/.local/lib/python3.8/site-packages (from ipython>=5.3.0->cufflinks) (0.6.3)\n",
      "Requirement already satisfied: widgetsnbextension~=4.0.10 in /home/kihoro/.local/lib/python3.8/site-packages (from ipywidgets>=7.0.0->cufflinks) (4.0.10)\n",
      "Requirement already satisfied: jupyterlab-widgets~=3.0.10 in /home/kihoro/.local/lib/python3.8/site-packages (from ipywidgets>=7.0.0->cufflinks) (3.0.10)\n",
      "Requirement already satisfied: comm>=0.1.3 in /home/kihoro/.local/lib/python3.8/site-packages (from ipywidgets>=7.0.0->cufflinks) (0.2.1)\n",
      "Requirement already satisfied: python-dateutil>=2.8.2 in /home/kihoro/.local/lib/python3.8/site-packages (from pandas>=0.19.2->cufflinks) (2.8.2)\n",
      "Requirement already satisfied: pytz>=2020.1 in /home/kihoro/.local/lib/python3.8/site-packages (from pandas>=0.19.2->cufflinks) (2023.3.post1)\n",
      "Requirement already satisfied: tzdata>=2022.1 in /home/kihoro/.local/lib/python3.8/site-packages (from pandas>=0.19.2->cufflinks) (2022.6)\n",
      "Requirement already satisfied: tenacity>=6.2.0 in /home/kihoro/.local/lib/python3.8/site-packages (from plotly>=4.1.1->cufflinks) (8.2.3)\n",
      "Requirement already satisfied: packaging in /home/kihoro/.local/lib/python3.8/site-packages (from plotly>=4.1.1->cufflinks) (23.2)\n",
      "Requirement already satisfied: ptyprocess>=0.5 in /home/kihoro/.local/lib/python3.8/site-packages (from pexpect>4.3; sys_platform != \"win32\"->ipython>=5.3.0->cufflinks) (0.7.0)\n",
      "Requirement already satisfied: wcwidth in /home/kihoro/.local/lib/python3.8/site-packages (from prompt-toolkit!=3.0.37,<3.1.0,>=3.0.30->ipython>=5.3.0->cufflinks) (0.2.12)\n",
      "Requirement already satisfied: parso<0.9.0,>=0.8.3 in /home/kihoro/.local/lib/python3.8/site-packages (from jedi>=0.16->ipython>=5.3.0->cufflinks) (0.8.3)\n",
      "Requirement already satisfied: pure-eval in /home/kihoro/.local/lib/python3.8/site-packages (from stack-data->ipython>=5.3.0->cufflinks) (0.2.2)\n",
      "Requirement already satisfied: asttokens>=2.1.0 in /home/kihoro/.local/lib/python3.8/site-packages (from stack-data->ipython>=5.3.0->cufflinks) (2.4.1)\n",
      "Requirement already satisfied: executing>=1.2.0 in /home/kihoro/.local/lib/python3.8/site-packages (from stack-data->ipython>=5.3.0->cufflinks) (2.0.1)\n",
      "Building wheels for collected packages: cufflinks\n",
      "  Building wheel for cufflinks (setup.py) ... \u001b[?25ldone\n",
      "\u001b[?25h  Created wheel for cufflinks: filename=cufflinks-0.17.3-py3-none-any.whl size=67920 sha256=4f34080d0b0e346a5a3657b4b39f4e58c2f319589fa1704e2a6420e342514d9a\n",
      "  Stored in directory: /home/kihoro/.cache/pip/wheels/6b/76/62/6da97734911ffcbdd559fd1a3f28526321f0ae699182a23866\n",
      "Successfully built cufflinks\n",
      "Installing collected packages: colorlover, cufflinks\n",
      "Successfully installed colorlover-0.3.0 cufflinks-0.17.3\n"
     ]
    }
   ],
   "source": [
    "!pip install ipywidgets\n",
    "!pip install chart-studio\n",
    "!pip install pyarrow\n",
    "!pip install cufflinks"
   ]
  },
  {
   "cell_type": "code",
   "execution_count": 1,
   "id": "a1b82cf9-9064-4921-bc1f-50275654a173",
   "metadata": {},
   "outputs": [
    {
     "name": "stdout",
     "output_type": "stream",
     "text": [
      "Traceback (most recent call last):\n",
      "  File \"/usr/bin/jupyter\", line 11, in <module>\n",
      "    load_entry_point('jupyter-core==4.6.3', 'console_scripts', 'jupyter')()\n",
      "  File \"/usr/lib/python3/dist-packages/jupyter_core/command.py\", line 247, in main\n",
      "    command = _jupyter_abspath(subcommand)\n",
      "  File \"/usr/lib/python3/dist-packages/jupyter_core/command.py\", line 133, in _jupyter_abspath\n",
      "    raise Exception(\n",
      "Exception: Jupyter command `jupyter-nbextension` not found.\n",
      "Error in sys.excepthook:\n",
      "Traceback (most recent call last):\n",
      "  File \"/usr/lib/python3/dist-packages/apport_python_hook.py\", line 153, in apport_excepthook\n",
      "    with os.fdopen(os.open(pr_filename,\n",
      "FileNotFoundError: [Errno 2] No such file or directory: '/var/crash/_usr_bin_jupyter.1000.crash'\n",
      "\n",
      "Original exception was:\n",
      "Traceback (most recent call last):\n",
      "  File \"/usr/bin/jupyter\", line 11, in <module>\n",
      "    load_entry_point('jupyter-core==4.6.3', 'console_scripts', 'jupyter')()\n",
      "  File \"/usr/lib/python3/dist-packages/jupyter_core/command.py\", line 247, in main\n",
      "    command = _jupyter_abspath(subcommand)\n",
      "  File \"/usr/lib/python3/dist-packages/jupyter_core/command.py\", line 133, in _jupyter_abspath\n",
      "    raise Exception(\n",
      "Exception: Jupyter command `jupyter-nbextension` not found.\n"
     ]
    }
   ],
   "source": [
    "!jupyter nbextension enable --py widgetsnbextension"
   ]
  },
  {
   "cell_type": "code",
   "execution_count": 3,
   "id": "4c58be6b-240e-4308-bcd9-91fb62d6fd48",
   "metadata": {},
   "outputs": [
    {
     "name": "stdout",
     "output_type": "stream",
     "text": [
      "Collecting jupyter\n",
      "  Downloading jupyter-1.0.0-py2.py3-none-any.whl (2.7 kB)\n",
      "Requirement already satisfied, skipping upgrade: ipykernel in /home/kihoro/.local/lib/python3.8/site-packages (from jupyter) (6.28.0)\n",
      "Collecting jupyter-console\n",
      "  Downloading jupyter_console-6.6.3-py3-none-any.whl (24 kB)\n",
      "Collecting qtconsole\n",
      "  Downloading qtconsole-5.5.1-py3-none-any.whl (123 kB)\n",
      "\u001b[K     |████████████████████████████████| 123 kB 1.3 MB/s eta 0:00:01\n",
      "\u001b[?25hRequirement already satisfied, skipping upgrade: notebook in /home/kihoro/.local/lib/python3.8/site-packages (from jupyter) (7.0.6)\n",
      "Requirement already satisfied, skipping upgrade: ipywidgets in /home/kihoro/.local/lib/python3.8/site-packages (from jupyter) (8.1.2)\n",
      "Requirement already satisfied, skipping upgrade: nbconvert in /home/kihoro/.local/lib/python3.8/site-packages (from jupyter) (7.14.0)\n",
      "Requirement already satisfied, skipping upgrade: ipython>=7.23.1 in /home/kihoro/.local/lib/python3.8/site-packages (from ipykernel->jupyter) (8.12.3)\n",
      "Requirement already satisfied, skipping upgrade: packaging in /home/kihoro/.local/lib/python3.8/site-packages (from ipykernel->jupyter) (23.2)\n",
      "Requirement already satisfied, skipping upgrade: matplotlib-inline>=0.1 in /home/kihoro/.local/lib/python3.8/site-packages (from ipykernel->jupyter) (0.1.6)\n",
      "Requirement already satisfied, skipping upgrade: nest-asyncio in /home/kihoro/.local/lib/python3.8/site-packages (from ipykernel->jupyter) (1.5.8)\n",
      "Requirement already satisfied, skipping upgrade: tornado>=6.1 in /home/kihoro/.local/lib/python3.8/site-packages (from ipykernel->jupyter) (6.4)\n",
      "Requirement already satisfied, skipping upgrade: psutil in /home/kihoro/.local/lib/python3.8/site-packages (from ipykernel->jupyter) (5.9.7)\n",
      "Requirement already satisfied, skipping upgrade: traitlets>=5.4.0 in /home/kihoro/.local/lib/python3.8/site-packages (from ipykernel->jupyter) (5.14.1)\n",
      "Requirement already satisfied, skipping upgrade: debugpy>=1.6.5 in /home/kihoro/.local/lib/python3.8/site-packages (from ipykernel->jupyter) (1.8.0)\n",
      "Requirement already satisfied, skipping upgrade: pyzmq>=24 in /home/kihoro/.local/lib/python3.8/site-packages (from ipykernel->jupyter) (25.1.2)\n",
      "Requirement already satisfied, skipping upgrade: jupyter-core!=5.0.*,>=4.12 in /home/kihoro/.local/lib/python3.8/site-packages (from ipykernel->jupyter) (5.6.1)\n",
      "Requirement already satisfied, skipping upgrade: jupyter-client>=6.1.12 in /home/kihoro/.local/lib/python3.8/site-packages (from ipykernel->jupyter) (8.6.0)\n",
      "Requirement already satisfied, skipping upgrade: comm>=0.1.1 in /home/kihoro/.local/lib/python3.8/site-packages (from ipykernel->jupyter) (0.2.1)\n",
      "Requirement already satisfied, skipping upgrade: prompt-toolkit>=3.0.30 in /home/kihoro/.local/lib/python3.8/site-packages (from jupyter-console->jupyter) (3.0.43)\n",
      "Requirement already satisfied, skipping upgrade: pygments in /home/kihoro/.local/lib/python3.8/site-packages (from jupyter-console->jupyter) (2.17.2)\n",
      "Collecting qtpy>=2.4.0\n",
      "  Downloading QtPy-2.4.1-py3-none-any.whl (93 kB)\n",
      "\u001b[K     |████████████████████████████████| 93 kB 214 kB/s eta 0:00:01\n",
      "\u001b[?25hRequirement already satisfied, skipping upgrade: notebook-shim<0.3,>=0.2 in /home/kihoro/.local/lib/python3.8/site-packages (from notebook->jupyter) (0.2.3)\n",
      "Requirement already satisfied, skipping upgrade: jupyter-server<3,>=2.4.0 in /home/kihoro/.local/lib/python3.8/site-packages (from notebook->jupyter) (2.12.1)\n",
      "Requirement already satisfied, skipping upgrade: jupyterlab<5,>=4.0.2 in /home/kihoro/.local/lib/python3.8/site-packages (from notebook->jupyter) (4.0.10)\n",
      "Requirement already satisfied, skipping upgrade: jupyterlab-server<3,>=2.22.1 in /home/kihoro/.local/lib/python3.8/site-packages (from notebook->jupyter) (2.25.2)\n",
      "Requirement already satisfied, skipping upgrade: jupyterlab-widgets~=3.0.10 in /home/kihoro/.local/lib/python3.8/site-packages (from ipywidgets->jupyter) (3.0.10)\n",
      "Requirement already satisfied, skipping upgrade: widgetsnbextension~=4.0.10 in /home/kihoro/.local/lib/python3.8/site-packages (from ipywidgets->jupyter) (4.0.10)\n",
      "Requirement already satisfied, skipping upgrade: defusedxml in /home/kihoro/.local/lib/python3.8/site-packages (from nbconvert->jupyter) (0.7.1)\n",
      "Requirement already satisfied, skipping upgrade: tinycss2 in /home/kihoro/.local/lib/python3.8/site-packages (from nbconvert->jupyter) (1.2.1)\n",
      "Requirement already satisfied, skipping upgrade: importlib-metadata>=3.6; python_version < \"3.10\" in /home/kihoro/.local/lib/python3.8/site-packages (from nbconvert->jupyter) (7.0.1)\n",
      "Requirement already satisfied, skipping upgrade: jinja2>=3.0 in /home/kihoro/.local/lib/python3.8/site-packages (from nbconvert->jupyter) (3.1.2)\n",
      "Requirement already satisfied, skipping upgrade: jupyterlab-pygments in /home/kihoro/.local/lib/python3.8/site-packages (from nbconvert->jupyter) (0.3.0)\n",
      "Requirement already satisfied, skipping upgrade: nbformat>=5.7 in /home/kihoro/.local/lib/python3.8/site-packages (from nbconvert->jupyter) (5.9.2)\n",
      "Requirement already satisfied, skipping upgrade: beautifulsoup4 in /home/kihoro/.local/lib/python3.8/site-packages (from nbconvert->jupyter) (4.12.2)\n",
      "Requirement already satisfied, skipping upgrade: markupsafe>=2.0 in /home/kihoro/.local/lib/python3.8/site-packages (from nbconvert->jupyter) (2.1.3)\n",
      "Requirement already satisfied, skipping upgrade: nbclient>=0.5.0 in /home/kihoro/.local/lib/python3.8/site-packages (from nbconvert->jupyter) (0.9.0)\n",
      "Requirement already satisfied, skipping upgrade: mistune<4,>=2.0.3 in /home/kihoro/.local/lib/python3.8/site-packages (from nbconvert->jupyter) (3.0.2)\n",
      "Requirement already satisfied, skipping upgrade: pandocfilters>=1.4.1 in /home/kihoro/.local/lib/python3.8/site-packages (from nbconvert->jupyter) (1.5.0)\n",
      "Requirement already satisfied, skipping upgrade: bleach!=5.0.0 in /home/kihoro/.local/lib/python3.8/site-packages (from nbconvert->jupyter) (6.1.0)\n",
      "Requirement already satisfied, skipping upgrade: typing-extensions; python_version < \"3.10\" in /home/kihoro/.local/lib/python3.8/site-packages (from ipython>=7.23.1->ipykernel->jupyter) (4.9.0)\n",
      "Requirement already satisfied, skipping upgrade: pexpect>4.3; sys_platform != \"win32\" in /home/kihoro/.local/lib/python3.8/site-packages (from ipython>=7.23.1->ipykernel->jupyter) (4.9.0)\n",
      "Requirement already satisfied, skipping upgrade: stack-data in /home/kihoro/.local/lib/python3.8/site-packages (from ipython>=7.23.1->ipykernel->jupyter) (0.6.3)\n",
      "Requirement already satisfied, skipping upgrade: backcall in /home/kihoro/.local/lib/python3.8/site-packages (from ipython>=7.23.1->ipykernel->jupyter) (0.2.0)\n",
      "Requirement already satisfied, skipping upgrade: decorator in /home/kihoro/.local/lib/python3.8/site-packages (from ipython>=7.23.1->ipykernel->jupyter) (5.1.1)\n",
      "Requirement already satisfied, skipping upgrade: pickleshare in /home/kihoro/.local/lib/python3.8/site-packages (from ipython>=7.23.1->ipykernel->jupyter) (0.7.5)\n",
      "Requirement already satisfied, skipping upgrade: jedi>=0.16 in /home/kihoro/.local/lib/python3.8/site-packages (from ipython>=7.23.1->ipykernel->jupyter) (0.19.1)\n",
      "Requirement already satisfied, skipping upgrade: platformdirs>=2.5 in /home/kihoro/.local/lib/python3.8/site-packages (from jupyter-core!=5.0.*,>=4.12->ipykernel->jupyter) (4.1.0)\n",
      "Requirement already satisfied, skipping upgrade: python-dateutil>=2.8.2 in /home/kihoro/.local/lib/python3.8/site-packages (from jupyter-client>=6.1.12->ipykernel->jupyter) (2.8.2)\n",
      "Requirement already satisfied, skipping upgrade: wcwidth in /home/kihoro/.local/lib/python3.8/site-packages (from prompt-toolkit>=3.0.30->jupyter-console->jupyter) (0.2.12)\n",
      "Requirement already satisfied, skipping upgrade: prometheus-client in /home/kihoro/.local/lib/python3.8/site-packages (from jupyter-server<3,>=2.4.0->notebook->jupyter) (0.19.0)\n",
      "Requirement already satisfied, skipping upgrade: argon2-cffi in /home/kihoro/.local/lib/python3.8/site-packages (from jupyter-server<3,>=2.4.0->notebook->jupyter) (23.1.0)\n",
      "Requirement already satisfied, skipping upgrade: send2trash>=1.8.2 in /home/kihoro/.local/lib/python3.8/site-packages (from jupyter-server<3,>=2.4.0->notebook->jupyter) (1.8.2)\n",
      "Requirement already satisfied, skipping upgrade: anyio>=3.1.0 in /home/kihoro/.local/lib/python3.8/site-packages (from jupyter-server<3,>=2.4.0->notebook->jupyter) (4.2.0)\n",
      "Requirement already satisfied, skipping upgrade: overrides in /home/kihoro/.local/lib/python3.8/site-packages (from jupyter-server<3,>=2.4.0->notebook->jupyter) (7.4.0)\n",
      "Requirement already satisfied, skipping upgrade: terminado>=0.8.3 in /home/kihoro/.local/lib/python3.8/site-packages (from jupyter-server<3,>=2.4.0->notebook->jupyter) (0.18.0)\n",
      "Requirement already satisfied, skipping upgrade: jupyter-events>=0.9.0 in /home/kihoro/.local/lib/python3.8/site-packages (from jupyter-server<3,>=2.4.0->notebook->jupyter) (0.9.0)\n",
      "Requirement already satisfied, skipping upgrade: jupyter-server-terminals in /home/kihoro/.local/lib/python3.8/site-packages (from jupyter-server<3,>=2.4.0->notebook->jupyter) (0.5.1)\n",
      "Requirement already satisfied, skipping upgrade: websocket-client in /home/kihoro/.local/lib/python3.8/site-packages (from jupyter-server<3,>=2.4.0->notebook->jupyter) (1.7.0)\n",
      "Requirement already satisfied, skipping upgrade: importlib-resources>=1.4; python_version < \"3.9\" in /home/kihoro/.local/lib/python3.8/site-packages (from jupyterlab<5,>=4.0.2->notebook->jupyter) (6.1.1)\n",
      "Requirement already satisfied, skipping upgrade: jupyter-lsp>=2.0.0 in /home/kihoro/.local/lib/python3.8/site-packages (from jupyterlab<5,>=4.0.2->notebook->jupyter) (2.2.1)\n",
      "Requirement already satisfied, skipping upgrade: tomli; python_version < \"3.11\" in /home/kihoro/.local/lib/python3.8/site-packages (from jupyterlab<5,>=4.0.2->notebook->jupyter) (2.0.1)\n",
      "Requirement already satisfied, skipping upgrade: async-lru>=1.0.0 in /home/kihoro/.local/lib/python3.8/site-packages (from jupyterlab<5,>=4.0.2->notebook->jupyter) (2.0.4)\n",
      "Requirement already satisfied, skipping upgrade: json5>=0.9.0 in /home/kihoro/.local/lib/python3.8/site-packages (from jupyterlab-server<3,>=2.22.1->notebook->jupyter) (0.9.14)\n",
      "Requirement already satisfied, skipping upgrade: jsonschema>=4.18.0 in /home/kihoro/.local/lib/python3.8/site-packages (from jupyterlab-server<3,>=2.22.1->notebook->jupyter) (4.20.0)\n",
      "Requirement already satisfied, skipping upgrade: babel>=2.10 in /home/kihoro/.local/lib/python3.8/site-packages (from jupyterlab-server<3,>=2.22.1->notebook->jupyter) (2.14.0)\n",
      "Requirement already satisfied, skipping upgrade: requests>=2.31 in /home/kihoro/.local/lib/python3.8/site-packages (from jupyterlab-server<3,>=2.22.1->notebook->jupyter) (2.31.0)\n",
      "Requirement already satisfied, skipping upgrade: webencodings>=0.4 in /home/kihoro/.local/lib/python3.8/site-packages (from tinycss2->nbconvert->jupyter) (0.5.1)\n",
      "Requirement already satisfied, skipping upgrade: zipp>=0.5 in /home/kihoro/.local/lib/python3.8/site-packages (from importlib-metadata>=3.6; python_version < \"3.10\"->nbconvert->jupyter) (3.17.0)\n",
      "Requirement already satisfied, skipping upgrade: fastjsonschema in /home/kihoro/.local/lib/python3.8/site-packages (from nbformat>=5.7->nbconvert->jupyter) (2.19.1)\n",
      "Requirement already satisfied, skipping upgrade: soupsieve>1.2 in /home/kihoro/.local/lib/python3.8/site-packages (from beautifulsoup4->nbconvert->jupyter) (2.5)\n",
      "Requirement already satisfied, skipping upgrade: six>=1.9.0 in /home/kihoro/.local/lib/python3.8/site-packages (from bleach!=5.0.0->nbconvert->jupyter) (1.16.0)\n",
      "Requirement already satisfied, skipping upgrade: ptyprocess>=0.5 in /home/kihoro/.local/lib/python3.8/site-packages (from pexpect>4.3; sys_platform != \"win32\"->ipython>=7.23.1->ipykernel->jupyter) (0.7.0)\n",
      "Requirement already satisfied, skipping upgrade: asttokens>=2.1.0 in /home/kihoro/.local/lib/python3.8/site-packages (from stack-data->ipython>=7.23.1->ipykernel->jupyter) (2.4.1)\n",
      "Requirement already satisfied, skipping upgrade: executing>=1.2.0 in /home/kihoro/.local/lib/python3.8/site-packages (from stack-data->ipython>=7.23.1->ipykernel->jupyter) (2.0.1)\n",
      "Requirement already satisfied, skipping upgrade: pure-eval in /home/kihoro/.local/lib/python3.8/site-packages (from stack-data->ipython>=7.23.1->ipykernel->jupyter) (0.2.2)\n",
      "Requirement already satisfied, skipping upgrade: parso<0.9.0,>=0.8.3 in /home/kihoro/.local/lib/python3.8/site-packages (from jedi>=0.16->ipython>=7.23.1->ipykernel->jupyter) (0.8.3)\n",
      "Requirement already satisfied, skipping upgrade: argon2-cffi-bindings in /home/kihoro/.local/lib/python3.8/site-packages (from argon2-cffi->jupyter-server<3,>=2.4.0->notebook->jupyter) (21.2.0)\n",
      "Requirement already satisfied, skipping upgrade: sniffio>=1.1 in /home/kihoro/.local/lib/python3.8/site-packages (from anyio>=3.1.0->jupyter-server<3,>=2.4.0->notebook->jupyter) (1.3.0)\n",
      "Requirement already satisfied, skipping upgrade: idna>=2.8 in /home/kihoro/.local/lib/python3.8/site-packages (from anyio>=3.1.0->jupyter-server<3,>=2.4.0->notebook->jupyter) (3.6)\n",
      "Requirement already satisfied, skipping upgrade: exceptiongroup>=1.0.2; python_version < \"3.11\" in /home/kihoro/.local/lib/python3.8/site-packages (from anyio>=3.1.0->jupyter-server<3,>=2.4.0->notebook->jupyter) (1.2.0)\n",
      "Requirement already satisfied, skipping upgrade: rfc3339-validator in /home/kihoro/.local/lib/python3.8/site-packages (from jupyter-events>=0.9.0->jupyter-server<3,>=2.4.0->notebook->jupyter) (0.1.4)\n",
      "Requirement already satisfied, skipping upgrade: python-json-logger>=2.0.4 in /home/kihoro/.local/lib/python3.8/site-packages (from jupyter-events>=0.9.0->jupyter-server<3,>=2.4.0->notebook->jupyter) (2.0.7)\n",
      "Requirement already satisfied, skipping upgrade: rfc3986-validator>=0.1.1 in /home/kihoro/.local/lib/python3.8/site-packages (from jupyter-events>=0.9.0->jupyter-server<3,>=2.4.0->notebook->jupyter) (0.1.1)\n",
      "Requirement already satisfied, skipping upgrade: pyyaml>=5.3 in /home/kihoro/.local/lib/python3.8/site-packages (from jupyter-events>=0.9.0->jupyter-server<3,>=2.4.0->notebook->jupyter) (6.0.1)\n",
      "Requirement already satisfied, skipping upgrade: referencing in /home/kihoro/.local/lib/python3.8/site-packages (from jupyter-events>=0.9.0->jupyter-server<3,>=2.4.0->notebook->jupyter) (0.32.0)\n",
      "Requirement already satisfied, skipping upgrade: rpds-py>=0.7.1 in /home/kihoro/.local/lib/python3.8/site-packages (from jsonschema>=4.18.0->jupyterlab-server<3,>=2.22.1->notebook->jupyter) (0.16.2)\n",
      "Requirement already satisfied, skipping upgrade: jsonschema-specifications>=2023.03.6 in /home/kihoro/.local/lib/python3.8/site-packages (from jsonschema>=4.18.0->jupyterlab-server<3,>=2.22.1->notebook->jupyter) (2023.12.1)\n",
      "Requirement already satisfied, skipping upgrade: attrs>=22.2.0 in /home/kihoro/.local/lib/python3.8/site-packages (from jsonschema>=4.18.0->jupyterlab-server<3,>=2.22.1->notebook->jupyter) (23.2.0)\n",
      "Requirement already satisfied, skipping upgrade: pkgutil-resolve-name>=1.3.10; python_version < \"3.9\" in /home/kihoro/.local/lib/python3.8/site-packages (from jsonschema>=4.18.0->jupyterlab-server<3,>=2.22.1->notebook->jupyter) (1.3.10)\n",
      "Requirement already satisfied, skipping upgrade: pytz>=2015.7; python_version < \"3.9\" in /home/kihoro/.local/lib/python3.8/site-packages (from babel>=2.10->jupyterlab-server<3,>=2.22.1->notebook->jupyter) (2023.3.post1)\n",
      "Requirement already satisfied, skipping upgrade: charset-normalizer<4,>=2 in /home/kihoro/.local/lib/python3.8/site-packages (from requests>=2.31->jupyterlab-server<3,>=2.22.1->notebook->jupyter) (3.3.2)\n",
      "Requirement already satisfied, skipping upgrade: urllib3<3,>=1.21.1 in /home/kihoro/.local/lib/python3.8/site-packages (from requests>=2.31->jupyterlab-server<3,>=2.22.1->notebook->jupyter) (2.1.0)\n",
      "Requirement already satisfied, skipping upgrade: certifi>=2017.4.17 in /home/kihoro/.local/lib/python3.8/site-packages (from requests>=2.31->jupyterlab-server<3,>=2.22.1->notebook->jupyter) (2023.11.17)\n",
      "Requirement already satisfied, skipping upgrade: cffi>=1.0.1 in /home/kihoro/.local/lib/python3.8/site-packages (from argon2-cffi-bindings->argon2-cffi->jupyter-server<3,>=2.4.0->notebook->jupyter) (1.16.0)\n",
      "Requirement already satisfied, skipping upgrade: pycparser in /home/kihoro/.local/lib/python3.8/site-packages (from cffi>=1.0.1->argon2-cffi-bindings->argon2-cffi->jupyter-server<3,>=2.4.0->notebook->jupyter) (2.21)\n",
      "Installing collected packages: jupyter-console, qtpy, qtconsole, jupyter\n",
      "\u001b[33m  WARNING: The script jupyter-console is installed in '/home/kihoro/.local/bin' which is not on PATH.\n",
      "  Consider adding this directory to PATH or, if you prefer to suppress this warning, use --no-warn-script-location.\u001b[0m\n",
      "\u001b[33m  WARNING: The script qtpy is installed in '/home/kihoro/.local/bin' which is not on PATH.\n",
      "  Consider adding this directory to PATH or, if you prefer to suppress this warning, use --no-warn-script-location.\u001b[0m\n",
      "Successfully installed jupyter-1.0.0 jupyter-console-6.6.3 qtconsole-5.5.1 qtpy-2.4.1\n",
      "Note: you may need to restart the kernel to use updated packages.\n"
     ]
    }
   ],
   "source": [
    "pip install --upgrade jupyter\n"
   ]
  },
  {
   "cell_type": "code",
   "execution_count": 11,
   "id": "8035fcfa-2862-4575-82a8-e62e3ebd5e19",
   "metadata": {},
   "outputs": [
    {
     "name": "stdout",
     "output_type": "stream",
     "text": [
      "Requirement already satisfied: jupyter_contrib_nbextensions in /home/kihoro/.local/lib/python3.8/site-packages (0.7.0)\n",
      "Requirement already satisfied: jupyter-core in /home/kihoro/.local/lib/python3.8/site-packages (from jupyter_contrib_nbextensions) (5.6.1)\n",
      "Requirement already satisfied: nbconvert>=6.0 in /home/kihoro/.local/lib/python3.8/site-packages (from jupyter_contrib_nbextensions) (7.14.0)\n",
      "Requirement already satisfied: tornado in /home/kihoro/.local/lib/python3.8/site-packages (from jupyter_contrib_nbextensions) (6.4)\n",
      "Requirement already satisfied: jupyter-nbextensions-configurator>=0.4.0 in /home/kihoro/.local/lib/python3.8/site-packages (from jupyter_contrib_nbextensions) (0.6.3)\n",
      "Requirement already satisfied: jupyter-contrib-core>=0.3.3 in /home/kihoro/.local/lib/python3.8/site-packages (from jupyter_contrib_nbextensions) (0.4.2)\n",
      "Requirement already satisfied: traitlets>=4.1 in /home/kihoro/.local/lib/python3.8/site-packages (from jupyter_contrib_nbextensions) (5.14.1)\n",
      "Requirement already satisfied: jupyter-highlight-selected-word>=0.1.1 in /home/kihoro/.local/lib/python3.8/site-packages (from jupyter_contrib_nbextensions) (0.2.0)\n",
      "Requirement already satisfied: lxml in /home/kihoro/.local/lib/python3.8/site-packages (from jupyter_contrib_nbextensions) (4.9.1)\n",
      "Requirement already satisfied: notebook>=6.0 in /home/kihoro/.local/lib/python3.8/site-packages (from jupyter_contrib_nbextensions) (7.0.6)\n",
      "Requirement already satisfied: ipython-genutils in /usr/lib/python3/dist-packages (from jupyter_contrib_nbextensions) (0.2.0)\n",
      "Requirement already satisfied: platformdirs>=2.5 in /home/kihoro/.local/lib/python3.8/site-packages (from jupyter-core->jupyter_contrib_nbextensions) (4.1.0)\n",
      "Requirement already satisfied: beautifulsoup4 in /home/kihoro/.local/lib/python3.8/site-packages (from nbconvert>=6.0->jupyter_contrib_nbextensions) (4.12.2)\n",
      "Requirement already satisfied: defusedxml in /home/kihoro/.local/lib/python3.8/site-packages (from nbconvert>=6.0->jupyter_contrib_nbextensions) (0.7.1)\n",
      "Requirement already satisfied: jinja2>=3.0 in /home/kihoro/.local/lib/python3.8/site-packages (from nbconvert>=6.0->jupyter_contrib_nbextensions) (3.1.2)\n",
      "Requirement already satisfied: pygments>=2.4.1 in /home/kihoro/.local/lib/python3.8/site-packages (from nbconvert>=6.0->jupyter_contrib_nbextensions) (2.17.2)\n",
      "Requirement already satisfied: tinycss2 in /home/kihoro/.local/lib/python3.8/site-packages (from nbconvert>=6.0->jupyter_contrib_nbextensions) (1.2.1)\n",
      "Requirement already satisfied: mistune<4,>=2.0.3 in /home/kihoro/.local/lib/python3.8/site-packages (from nbconvert>=6.0->jupyter_contrib_nbextensions) (3.0.2)\n",
      "Requirement already satisfied: markupsafe>=2.0 in /home/kihoro/.local/lib/python3.8/site-packages (from nbconvert>=6.0->jupyter_contrib_nbextensions) (2.1.3)\n",
      "Requirement already satisfied: packaging in /home/kihoro/.local/lib/python3.8/site-packages (from nbconvert>=6.0->jupyter_contrib_nbextensions) (23.2)\n",
      "Requirement already satisfied: nbformat>=5.7 in /home/kihoro/.local/lib/python3.8/site-packages (from nbconvert>=6.0->jupyter_contrib_nbextensions) (5.9.2)\n",
      "Requirement already satisfied: nbclient>=0.5.0 in /home/kihoro/.local/lib/python3.8/site-packages (from nbconvert>=6.0->jupyter_contrib_nbextensions) (0.9.0)\n",
      "Requirement already satisfied: importlib-metadata>=3.6; python_version < \"3.10\" in /home/kihoro/.local/lib/python3.8/site-packages (from nbconvert>=6.0->jupyter_contrib_nbextensions) (7.0.1)\n",
      "Requirement already satisfied: jupyterlab-pygments in /home/kihoro/.local/lib/python3.8/site-packages (from nbconvert>=6.0->jupyter_contrib_nbextensions) (0.3.0)\n",
      "Requirement already satisfied: pandocfilters>=1.4.1 in /home/kihoro/.local/lib/python3.8/site-packages (from nbconvert>=6.0->jupyter_contrib_nbextensions) (1.5.0)\n",
      "Requirement already satisfied: bleach!=5.0.0 in /home/kihoro/.local/lib/python3.8/site-packages (from nbconvert>=6.0->jupyter_contrib_nbextensions) (6.1.0)\n",
      "Requirement already satisfied: pyyaml in /home/kihoro/.local/lib/python3.8/site-packages (from jupyter-nbextensions-configurator>=0.4.0->jupyter_contrib_nbextensions) (6.0.1)\n",
      "Requirement already satisfied: setuptools in /usr/lib/python3/dist-packages (from jupyter-contrib-core>=0.3.3->jupyter_contrib_nbextensions) (45.2.0)\n",
      "Requirement already satisfied: jupyterlab<5,>=4.0.2 in /home/kihoro/.local/lib/python3.8/site-packages (from notebook>=6.0->jupyter_contrib_nbextensions) (4.0.10)\n",
      "Requirement already satisfied: notebook-shim<0.3,>=0.2 in /home/kihoro/.local/lib/python3.8/site-packages (from notebook>=6.0->jupyter_contrib_nbextensions) (0.2.3)\n",
      "Requirement already satisfied: jupyter-server<3,>=2.4.0 in /home/kihoro/.local/lib/python3.8/site-packages (from notebook>=6.0->jupyter_contrib_nbextensions) (2.12.1)\n",
      "Requirement already satisfied: jupyterlab-server<3,>=2.22.1 in /home/kihoro/.local/lib/python3.8/site-packages (from notebook>=6.0->jupyter_contrib_nbextensions) (2.25.2)\n",
      "Requirement already satisfied: soupsieve>1.2 in /home/kihoro/.local/lib/python3.8/site-packages (from beautifulsoup4->nbconvert>=6.0->jupyter_contrib_nbextensions) (2.5)\n",
      "Requirement already satisfied: webencodings>=0.4 in /home/kihoro/.local/lib/python3.8/site-packages (from tinycss2->nbconvert>=6.0->jupyter_contrib_nbextensions) (0.5.1)\n",
      "Requirement already satisfied: fastjsonschema in /home/kihoro/.local/lib/python3.8/site-packages (from nbformat>=5.7->nbconvert>=6.0->jupyter_contrib_nbextensions) (2.19.1)\n",
      "Requirement already satisfied: jsonschema>=2.6 in /home/kihoro/.local/lib/python3.8/site-packages (from nbformat>=5.7->nbconvert>=6.0->jupyter_contrib_nbextensions) (4.20.0)\n",
      "Requirement already satisfied: jupyter-client>=6.1.12 in /home/kihoro/.local/lib/python3.8/site-packages (from nbclient>=0.5.0->nbconvert>=6.0->jupyter_contrib_nbextensions) (8.6.0)\n",
      "Requirement already satisfied: zipp>=0.5 in /home/kihoro/.local/lib/python3.8/site-packages (from importlib-metadata>=3.6; python_version < \"3.10\"->nbconvert>=6.0->jupyter_contrib_nbextensions) (3.17.0)\n",
      "Requirement already satisfied: six>=1.9.0 in /home/kihoro/.local/lib/python3.8/site-packages (from bleach!=5.0.0->nbconvert>=6.0->jupyter_contrib_nbextensions) (1.16.0)\n",
      "Requirement already satisfied: jupyter-lsp>=2.0.0 in /home/kihoro/.local/lib/python3.8/site-packages (from jupyterlab<5,>=4.0.2->notebook>=6.0->jupyter_contrib_nbextensions) (2.2.1)\n",
      "Requirement already satisfied: async-lru>=1.0.0 in /home/kihoro/.local/lib/python3.8/site-packages (from jupyterlab<5,>=4.0.2->notebook>=6.0->jupyter_contrib_nbextensions) (2.0.4)\n",
      "Requirement already satisfied: ipykernel in /home/kihoro/.local/lib/python3.8/site-packages (from jupyterlab<5,>=4.0.2->notebook>=6.0->jupyter_contrib_nbextensions) (6.28.0)\n",
      "Requirement already satisfied: tomli; python_version < \"3.11\" in /home/kihoro/.local/lib/python3.8/site-packages (from jupyterlab<5,>=4.0.2->notebook>=6.0->jupyter_contrib_nbextensions) (2.0.1)\n",
      "Requirement already satisfied: importlib-resources>=1.4; python_version < \"3.9\" in /home/kihoro/.local/lib/python3.8/site-packages (from jupyterlab<5,>=4.0.2->notebook>=6.0->jupyter_contrib_nbextensions) (6.1.1)\n",
      "Requirement already satisfied: jupyter-server-terminals in /home/kihoro/.local/lib/python3.8/site-packages (from jupyter-server<3,>=2.4.0->notebook>=6.0->jupyter_contrib_nbextensions) (0.5.1)\n",
      "Requirement already satisfied: pyzmq>=24 in /home/kihoro/.local/lib/python3.8/site-packages (from jupyter-server<3,>=2.4.0->notebook>=6.0->jupyter_contrib_nbextensions) (25.1.2)\n",
      "Requirement already satisfied: anyio>=3.1.0 in /home/kihoro/.local/lib/python3.8/site-packages (from jupyter-server<3,>=2.4.0->notebook>=6.0->jupyter_contrib_nbextensions) (4.2.0)\n",
      "Requirement already satisfied: jupyter-events>=0.9.0 in /home/kihoro/.local/lib/python3.8/site-packages (from jupyter-server<3,>=2.4.0->notebook>=6.0->jupyter_contrib_nbextensions) (0.9.0)\n",
      "Requirement already satisfied: send2trash>=1.8.2 in /home/kihoro/.local/lib/python3.8/site-packages (from jupyter-server<3,>=2.4.0->notebook>=6.0->jupyter_contrib_nbextensions) (1.8.2)\n",
      "Requirement already satisfied: overrides in /home/kihoro/.local/lib/python3.8/site-packages (from jupyter-server<3,>=2.4.0->notebook>=6.0->jupyter_contrib_nbextensions) (7.4.0)\n",
      "Requirement already satisfied: prometheus-client in /home/kihoro/.local/lib/python3.8/site-packages (from jupyter-server<3,>=2.4.0->notebook>=6.0->jupyter_contrib_nbextensions) (0.19.0)\n",
      "Requirement already satisfied: websocket-client in /home/kihoro/.local/lib/python3.8/site-packages (from jupyter-server<3,>=2.4.0->notebook>=6.0->jupyter_contrib_nbextensions) (1.7.0)\n",
      "Requirement already satisfied: argon2-cffi in /home/kihoro/.local/lib/python3.8/site-packages (from jupyter-server<3,>=2.4.0->notebook>=6.0->jupyter_contrib_nbextensions) (23.1.0)\n",
      "Requirement already satisfied: terminado>=0.8.3 in /home/kihoro/.local/lib/python3.8/site-packages (from jupyter-server<3,>=2.4.0->notebook>=6.0->jupyter_contrib_nbextensions) (0.18.0)\n",
      "Requirement already satisfied: requests>=2.31 in /home/kihoro/.local/lib/python3.8/site-packages (from jupyterlab-server<3,>=2.22.1->notebook>=6.0->jupyter_contrib_nbextensions) (2.31.0)\n",
      "Requirement already satisfied: babel>=2.10 in /home/kihoro/.local/lib/python3.8/site-packages (from jupyterlab-server<3,>=2.22.1->notebook>=6.0->jupyter_contrib_nbextensions) (2.14.0)\n",
      "Requirement already satisfied: json5>=0.9.0 in /home/kihoro/.local/lib/python3.8/site-packages (from jupyterlab-server<3,>=2.22.1->notebook>=6.0->jupyter_contrib_nbextensions) (0.9.14)\n",
      "Requirement already satisfied: rpds-py>=0.7.1 in /home/kihoro/.local/lib/python3.8/site-packages (from jsonschema>=2.6->nbformat>=5.7->nbconvert>=6.0->jupyter_contrib_nbextensions) (0.16.2)\n",
      "Requirement already satisfied: pkgutil-resolve-name>=1.3.10; python_version < \"3.9\" in /home/kihoro/.local/lib/python3.8/site-packages (from jsonschema>=2.6->nbformat>=5.7->nbconvert>=6.0->jupyter_contrib_nbextensions) (1.3.10)\n",
      "Requirement already satisfied: attrs>=22.2.0 in /home/kihoro/.local/lib/python3.8/site-packages (from jsonschema>=2.6->nbformat>=5.7->nbconvert>=6.0->jupyter_contrib_nbextensions) (23.2.0)\n",
      "Requirement already satisfied: jsonschema-specifications>=2023.03.6 in /home/kihoro/.local/lib/python3.8/site-packages (from jsonschema>=2.6->nbformat>=5.7->nbconvert>=6.0->jupyter_contrib_nbextensions) (2023.12.1)\n",
      "Requirement already satisfied: referencing>=0.28.4 in /home/kihoro/.local/lib/python3.8/site-packages (from jsonschema>=2.6->nbformat>=5.7->nbconvert>=6.0->jupyter_contrib_nbextensions) (0.32.0)\n",
      "Requirement already satisfied: python-dateutil>=2.8.2 in /home/kihoro/.local/lib/python3.8/site-packages (from jupyter-client>=6.1.12->nbclient>=0.5.0->nbconvert>=6.0->jupyter_contrib_nbextensions) (2.8.2)\n",
      "Requirement already satisfied: typing-extensions>=4.0.0; python_version < \"3.11\" in /home/kihoro/.local/lib/python3.8/site-packages (from async-lru>=1.0.0->jupyterlab<5,>=4.0.2->notebook>=6.0->jupyter_contrib_nbextensions) (4.9.0)\n",
      "Requirement already satisfied: comm>=0.1.1 in /home/kihoro/.local/lib/python3.8/site-packages (from ipykernel->jupyterlab<5,>=4.0.2->notebook>=6.0->jupyter_contrib_nbextensions) (0.2.1)\n",
      "Requirement already satisfied: ipython>=7.23.1 in /home/kihoro/.local/lib/python3.8/site-packages (from ipykernel->jupyterlab<5,>=4.0.2->notebook>=6.0->jupyter_contrib_nbextensions) (8.12.3)\n",
      "Requirement already satisfied: matplotlib-inline>=0.1 in /home/kihoro/.local/lib/python3.8/site-packages (from ipykernel->jupyterlab<5,>=4.0.2->notebook>=6.0->jupyter_contrib_nbextensions) (0.1.6)\n",
      "Requirement already satisfied: debugpy>=1.6.5 in /home/kihoro/.local/lib/python3.8/site-packages (from ipykernel->jupyterlab<5,>=4.0.2->notebook>=6.0->jupyter_contrib_nbextensions) (1.8.0)\n",
      "Requirement already satisfied: psutil in /home/kihoro/.local/lib/python3.8/site-packages (from ipykernel->jupyterlab<5,>=4.0.2->notebook>=6.0->jupyter_contrib_nbextensions) (5.9.7)\n",
      "Requirement already satisfied: nest-asyncio in /home/kihoro/.local/lib/python3.8/site-packages (from ipykernel->jupyterlab<5,>=4.0.2->notebook>=6.0->jupyter_contrib_nbextensions) (1.5.8)\n",
      "Requirement already satisfied: exceptiongroup>=1.0.2; python_version < \"3.11\" in /home/kihoro/.local/lib/python3.8/site-packages (from anyio>=3.1.0->jupyter-server<3,>=2.4.0->notebook>=6.0->jupyter_contrib_nbextensions) (1.2.0)\n",
      "Requirement already satisfied: sniffio>=1.1 in /home/kihoro/.local/lib/python3.8/site-packages (from anyio>=3.1.0->jupyter-server<3,>=2.4.0->notebook>=6.0->jupyter_contrib_nbextensions) (1.3.0)\n",
      "Requirement already satisfied: idna>=2.8 in /home/kihoro/.local/lib/python3.8/site-packages (from anyio>=3.1.0->jupyter-server<3,>=2.4.0->notebook>=6.0->jupyter_contrib_nbextensions) (3.6)\n",
      "Requirement already satisfied: rfc3986-validator>=0.1.1 in /home/kihoro/.local/lib/python3.8/site-packages (from jupyter-events>=0.9.0->jupyter-server<3,>=2.4.0->notebook>=6.0->jupyter_contrib_nbextensions) (0.1.1)\n",
      "Requirement already satisfied: python-json-logger>=2.0.4 in /home/kihoro/.local/lib/python3.8/site-packages (from jupyter-events>=0.9.0->jupyter-server<3,>=2.4.0->notebook>=6.0->jupyter_contrib_nbextensions) (2.0.7)\n",
      "Requirement already satisfied: rfc3339-validator in /home/kihoro/.local/lib/python3.8/site-packages (from jupyter-events>=0.9.0->jupyter-server<3,>=2.4.0->notebook>=6.0->jupyter_contrib_nbextensions) (0.1.4)\n",
      "Requirement already satisfied: argon2-cffi-bindings in /home/kihoro/.local/lib/python3.8/site-packages (from argon2-cffi->jupyter-server<3,>=2.4.0->notebook>=6.0->jupyter_contrib_nbextensions) (21.2.0)\n",
      "Requirement already satisfied: ptyprocess; os_name != \"nt\" in /home/kihoro/.local/lib/python3.8/site-packages (from terminado>=0.8.3->jupyter-server<3,>=2.4.0->notebook>=6.0->jupyter_contrib_nbextensions) (0.7.0)\n",
      "Requirement already satisfied: urllib3<3,>=1.21.1 in /home/kihoro/.local/lib/python3.8/site-packages (from requests>=2.31->jupyterlab-server<3,>=2.22.1->notebook>=6.0->jupyter_contrib_nbextensions) (2.1.0)\n",
      "Requirement already satisfied: charset-normalizer<4,>=2 in /home/kihoro/.local/lib/python3.8/site-packages (from requests>=2.31->jupyterlab-server<3,>=2.22.1->notebook>=6.0->jupyter_contrib_nbextensions) (3.3.2)\n",
      "Requirement already satisfied: certifi>=2017.4.17 in /home/kihoro/.local/lib/python3.8/site-packages (from requests>=2.31->jupyterlab-server<3,>=2.22.1->notebook>=6.0->jupyter_contrib_nbextensions) (2023.11.17)\n",
      "Requirement already satisfied: pytz>=2015.7; python_version < \"3.9\" in /home/kihoro/.local/lib/python3.8/site-packages (from babel>=2.10->jupyterlab-server<3,>=2.22.1->notebook>=6.0->jupyter_contrib_nbextensions) (2023.3.post1)\n",
      "Requirement already satisfied: jedi>=0.16 in /home/kihoro/.local/lib/python3.8/site-packages (from ipython>=7.23.1->ipykernel->jupyterlab<5,>=4.0.2->notebook>=6.0->jupyter_contrib_nbextensions) (0.19.1)\n",
      "Requirement already satisfied: stack-data in /home/kihoro/.local/lib/python3.8/site-packages (from ipython>=7.23.1->ipykernel->jupyterlab<5,>=4.0.2->notebook>=6.0->jupyter_contrib_nbextensions) (0.6.3)\n",
      "Requirement already satisfied: decorator in /home/kihoro/.local/lib/python3.8/site-packages (from ipython>=7.23.1->ipykernel->jupyterlab<5,>=4.0.2->notebook>=6.0->jupyter_contrib_nbextensions) (5.1.1)\n",
      "Requirement already satisfied: prompt-toolkit!=3.0.37,<3.1.0,>=3.0.30 in /home/kihoro/.local/lib/python3.8/site-packages (from ipython>=7.23.1->ipykernel->jupyterlab<5,>=4.0.2->notebook>=6.0->jupyter_contrib_nbextensions) (3.0.43)\n",
      "Requirement already satisfied: backcall in /home/kihoro/.local/lib/python3.8/site-packages (from ipython>=7.23.1->ipykernel->jupyterlab<5,>=4.0.2->notebook>=6.0->jupyter_contrib_nbextensions) (0.2.0)\n",
      "Requirement already satisfied: pickleshare in /home/kihoro/.local/lib/python3.8/site-packages (from ipython>=7.23.1->ipykernel->jupyterlab<5,>=4.0.2->notebook>=6.0->jupyter_contrib_nbextensions) (0.7.5)\n",
      "Requirement already satisfied: pexpect>4.3; sys_platform != \"win32\" in /home/kihoro/.local/lib/python3.8/site-packages (from ipython>=7.23.1->ipykernel->jupyterlab<5,>=4.0.2->notebook>=6.0->jupyter_contrib_nbextensions) (4.9.0)\n",
      "Requirement already satisfied: cffi>=1.0.1 in /home/kihoro/.local/lib/python3.8/site-packages (from argon2-cffi-bindings->argon2-cffi->jupyter-server<3,>=2.4.0->notebook>=6.0->jupyter_contrib_nbextensions) (1.16.0)\n",
      "Requirement already satisfied: parso<0.9.0,>=0.8.3 in /home/kihoro/.local/lib/python3.8/site-packages (from jedi>=0.16->ipython>=7.23.1->ipykernel->jupyterlab<5,>=4.0.2->notebook>=6.0->jupyter_contrib_nbextensions) (0.8.3)\n",
      "Requirement already satisfied: executing>=1.2.0 in /home/kihoro/.local/lib/python3.8/site-packages (from stack-data->ipython>=7.23.1->ipykernel->jupyterlab<5,>=4.0.2->notebook>=6.0->jupyter_contrib_nbextensions) (2.0.1)\n",
      "Requirement already satisfied: asttokens>=2.1.0 in /home/kihoro/.local/lib/python3.8/site-packages (from stack-data->ipython>=7.23.1->ipykernel->jupyterlab<5,>=4.0.2->notebook>=6.0->jupyter_contrib_nbextensions) (2.4.1)\n",
      "Requirement already satisfied: pure-eval in /home/kihoro/.local/lib/python3.8/site-packages (from stack-data->ipython>=7.23.1->ipykernel->jupyterlab<5,>=4.0.2->notebook>=6.0->jupyter_contrib_nbextensions) (0.2.2)\n",
      "Requirement already satisfied: wcwidth in /home/kihoro/.local/lib/python3.8/site-packages (from prompt-toolkit!=3.0.37,<3.1.0,>=3.0.30->ipython>=7.23.1->ipykernel->jupyterlab<5,>=4.0.2->notebook>=6.0->jupyter_contrib_nbextensions) (0.2.12)\n",
      "Requirement already satisfied: pycparser in /home/kihoro/.local/lib/python3.8/site-packages (from cffi>=1.0.1->argon2-cffi-bindings->argon2-cffi->jupyter-server<3,>=2.4.0->notebook>=6.0->jupyter_contrib_nbextensions) (2.21)\n",
      "Traceback (most recent call last):\n",
      "  File \"/usr/bin/jupyter\", line 11, in <module>\n",
      "    load_entry_point('jupyter-core==4.6.3', 'console_scripts', 'jupyter')()\n",
      "  File \"/usr/lib/python3/dist-packages/jupyter_core/command.py\", line 247, in main\n",
      "    command = _jupyter_abspath(subcommand)\n",
      "  File \"/usr/lib/python3/dist-packages/jupyter_core/command.py\", line 133, in _jupyter_abspath\n",
      "    raise Exception(\n",
      "Exception: Jupyter command `jupyter-contrib` not found.\n",
      "Error in sys.excepthook:\n",
      "Traceback (most recent call last):\n",
      "  File \"/usr/lib/python3/dist-packages/apport_python_hook.py\", line 153, in apport_excepthook\n",
      "    with os.fdopen(os.open(pr_filename,\n",
      "FileNotFoundError: [Errno 2] No such file or directory: '/var/crash/_usr_bin_jupyter.1000.crash'\n",
      "\n",
      "Original exception was:\n",
      "Traceback (most recent call last):\n",
      "  File \"/usr/bin/jupyter\", line 11, in <module>\n",
      "    load_entry_point('jupyter-core==4.6.3', 'console_scripts', 'jupyter')()\n",
      "  File \"/usr/lib/python3/dist-packages/jupyter_core/command.py\", line 247, in main\n",
      "    command = _jupyter_abspath(subcommand)\n",
      "  File \"/usr/lib/python3/dist-packages/jupyter_core/command.py\", line 133, in _jupyter_abspath\n",
      "    raise Exception(\n",
      "Exception: Jupyter command `jupyter-contrib` not found.\n",
      "Traceback (most recent call last):\n",
      "  File \"/usr/bin/jupyter\", line 11, in <module>\n",
      "    load_entry_point('jupyter-core==4.6.3', 'console_scripts', 'jupyter')()\n",
      "  File \"/usr/lib/python3/dist-packages/jupyter_core/command.py\", line 247, in main\n",
      "    command = _jupyter_abspath(subcommand)\n",
      "  File \"/usr/lib/python3/dist-packages/jupyter_core/command.py\", line 133, in _jupyter_abspath\n",
      "    raise Exception(\n",
      "Exception: Jupyter command `jupyter-nbextension` not found.\n",
      "Error in sys.excepthook:\n",
      "Traceback (most recent call last):\n",
      "  File \"/usr/lib/python3/dist-packages/apport_python_hook.py\", line 153, in apport_excepthook\n",
      "    with os.fdopen(os.open(pr_filename,\n",
      "FileNotFoundError: [Errno 2] No such file or directory: '/var/crash/_usr_bin_jupyter.1000.crash'\n",
      "\n",
      "Original exception was:\n",
      "Traceback (most recent call last):\n",
      "  File \"/usr/bin/jupyter\", line 11, in <module>\n",
      "    load_entry_point('jupyter-core==4.6.3', 'console_scripts', 'jupyter')()\n",
      "  File \"/usr/lib/python3/dist-packages/jupyter_core/command.py\", line 247, in main\n",
      "    command = _jupyter_abspath(subcommand)\n",
      "  File \"/usr/lib/python3/dist-packages/jupyter_core/command.py\", line 133, in _jupyter_abspath\n",
      "    raise Exception(\n",
      "Exception: Jupyter command `jupyter-nbextension` not found.\n"
     ]
    }
   ],
   "source": [
    "!pip install jupyter_contrib_nbextensions\n",
    "!jupyter contrib nbextension install --user\n",
    "!jupyter nbextension enable python-markdown/main\n"
   ]
  },
  {
   "cell_type": "code",
   "execution_count": 8,
   "id": "160672c2-e9b6-4b38-98ee-099fbc316062",
   "metadata": {},
   "outputs": [
    {
     "name": "stdout",
     "output_type": "stream",
     "text": [
      "Collecting jupyter_contrib_nbextensions\n",
      "  Downloading jupyter_contrib_nbextensions-0.7.0.tar.gz (23.5 MB)\n",
      "\u001b[K     |████████████████████████████████| 23.5 MB 5.1 MB/s eta 0:00:01    |███▊                            | 2.7 MB 2.5 MB/s eta 0:00:09\n",
      "\u001b[?25hRequirement already satisfied: ipython_genutils in /usr/lib/python3/dist-packages (from jupyter_contrib_nbextensions) (0.2.0)\n",
      "Collecting jupyter_contrib_core>=0.3.3\n",
      "  Downloading jupyter_contrib_core-0.4.2.tar.gz (17 kB)\n",
      "Requirement already satisfied: jupyter_core in /home/kihoro/.local/lib/python3.8/site-packages (from jupyter_contrib_nbextensions) (5.6.1)\n",
      "Collecting jupyter_highlight_selected_word>=0.1.1\n",
      "  Downloading jupyter_highlight_selected_word-0.2.0-py2.py3-none-any.whl (11 kB)\n",
      "Collecting jupyter_nbextensions_configurator>=0.4.0\n",
      "  Downloading jupyter_nbextensions_configurator-0.6.3-py2.py3-none-any.whl (466 kB)\n",
      "\u001b[K     |████████████████████████████████| 466 kB 5.0 MB/s eta 0:00:01\n",
      "\u001b[?25hRequirement already satisfied: lxml in /home/kihoro/.local/lib/python3.8/site-packages (from jupyter_contrib_nbextensions) (4.9.1)\n",
      "Requirement already satisfied: nbconvert>=6.0 in /home/kihoro/.local/lib/python3.8/site-packages (from jupyter_contrib_nbextensions) (7.14.0)\n",
      "Requirement already satisfied: notebook>=6.0 in /home/kihoro/.local/lib/python3.8/site-packages (from jupyter_contrib_nbextensions) (7.0.6)\n",
      "Requirement already satisfied: tornado in /home/kihoro/.local/lib/python3.8/site-packages (from jupyter_contrib_nbextensions) (6.4)\n",
      "Requirement already satisfied: traitlets>=4.1 in /home/kihoro/.local/lib/python3.8/site-packages (from jupyter_contrib_nbextensions) (5.14.1)\n",
      "Requirement already satisfied: setuptools in /usr/lib/python3/dist-packages (from jupyter_contrib_core>=0.3.3->jupyter_contrib_nbextensions) (45.2.0)\n",
      "Requirement already satisfied: platformdirs>=2.5 in /home/kihoro/.local/lib/python3.8/site-packages (from jupyter_core->jupyter_contrib_nbextensions) (4.1.0)\n",
      "Requirement already satisfied: pyyaml in /home/kihoro/.local/lib/python3.8/site-packages (from jupyter_nbextensions_configurator>=0.4.0->jupyter_contrib_nbextensions) (6.0.1)\n",
      "Requirement already satisfied: pandocfilters>=1.4.1 in /home/kihoro/.local/lib/python3.8/site-packages (from nbconvert>=6.0->jupyter_contrib_nbextensions) (1.5.0)\n",
      "Requirement already satisfied: nbformat>=5.7 in /home/kihoro/.local/lib/python3.8/site-packages (from nbconvert>=6.0->jupyter_contrib_nbextensions) (5.9.2)\n",
      "Requirement already satisfied: importlib-metadata>=3.6; python_version < \"3.10\" in /home/kihoro/.local/lib/python3.8/site-packages (from nbconvert>=6.0->jupyter_contrib_nbextensions) (7.0.1)\n",
      "Requirement already satisfied: nbclient>=0.5.0 in /home/kihoro/.local/lib/python3.8/site-packages (from nbconvert>=6.0->jupyter_contrib_nbextensions) (0.9.0)\n",
      "Requirement already satisfied: jupyterlab-pygments in /home/kihoro/.local/lib/python3.8/site-packages (from nbconvert>=6.0->jupyter_contrib_nbextensions) (0.3.0)\n",
      "Requirement already satisfied: pygments>=2.4.1 in /home/kihoro/.local/lib/python3.8/site-packages (from nbconvert>=6.0->jupyter_contrib_nbextensions) (2.17.2)\n",
      "Requirement already satisfied: tinycss2 in /home/kihoro/.local/lib/python3.8/site-packages (from nbconvert>=6.0->jupyter_contrib_nbextensions) (1.2.1)\n",
      "Requirement already satisfied: mistune<4,>=2.0.3 in /home/kihoro/.local/lib/python3.8/site-packages (from nbconvert>=6.0->jupyter_contrib_nbextensions) (3.0.2)\n",
      "Requirement already satisfied: bleach!=5.0.0 in /home/kihoro/.local/lib/python3.8/site-packages (from nbconvert>=6.0->jupyter_contrib_nbextensions) (6.1.0)\n",
      "Requirement already satisfied: packaging in /home/kihoro/.local/lib/python3.8/site-packages (from nbconvert>=6.0->jupyter_contrib_nbextensions) (23.2)\n",
      "Requirement already satisfied: markupsafe>=2.0 in /home/kihoro/.local/lib/python3.8/site-packages (from nbconvert>=6.0->jupyter_contrib_nbextensions) (2.1.3)\n",
      "Requirement already satisfied: jinja2>=3.0 in /home/kihoro/.local/lib/python3.8/site-packages (from nbconvert>=6.0->jupyter_contrib_nbextensions) (3.1.2)\n",
      "Requirement already satisfied: beautifulsoup4 in /home/kihoro/.local/lib/python3.8/site-packages (from nbconvert>=6.0->jupyter_contrib_nbextensions) (4.12.2)\n",
      "Requirement already satisfied: defusedxml in /home/kihoro/.local/lib/python3.8/site-packages (from nbconvert>=6.0->jupyter_contrib_nbextensions) (0.7.1)\n",
      "Requirement already satisfied: jupyterlab<5,>=4.0.2 in /home/kihoro/.local/lib/python3.8/site-packages (from notebook>=6.0->jupyter_contrib_nbextensions) (4.0.10)\n",
      "Requirement already satisfied: jupyterlab-server<3,>=2.22.1 in /home/kihoro/.local/lib/python3.8/site-packages (from notebook>=6.0->jupyter_contrib_nbextensions) (2.25.2)\n",
      "Requirement already satisfied: jupyter-server<3,>=2.4.0 in /home/kihoro/.local/lib/python3.8/site-packages (from notebook>=6.0->jupyter_contrib_nbextensions) (2.12.1)\n",
      "Requirement already satisfied: notebook-shim<0.3,>=0.2 in /home/kihoro/.local/lib/python3.8/site-packages (from notebook>=6.0->jupyter_contrib_nbextensions) (0.2.3)\n",
      "Requirement already satisfied: jsonschema>=2.6 in /home/kihoro/.local/lib/python3.8/site-packages (from nbformat>=5.7->nbconvert>=6.0->jupyter_contrib_nbextensions) (4.20.0)\n",
      "Requirement already satisfied: fastjsonschema in /home/kihoro/.local/lib/python3.8/site-packages (from nbformat>=5.7->nbconvert>=6.0->jupyter_contrib_nbextensions) (2.19.1)\n",
      "Requirement already satisfied: zipp>=0.5 in /home/kihoro/.local/lib/python3.8/site-packages (from importlib-metadata>=3.6; python_version < \"3.10\"->nbconvert>=6.0->jupyter_contrib_nbextensions) (3.17.0)\n",
      "Requirement already satisfied: jupyter-client>=6.1.12 in /home/kihoro/.local/lib/python3.8/site-packages (from nbclient>=0.5.0->nbconvert>=6.0->jupyter_contrib_nbextensions) (8.6.0)\n",
      "Requirement already satisfied: webencodings>=0.4 in /home/kihoro/.local/lib/python3.8/site-packages (from tinycss2->nbconvert>=6.0->jupyter_contrib_nbextensions) (0.5.1)\n",
      "Requirement already satisfied: six>=1.9.0 in /home/kihoro/.local/lib/python3.8/site-packages (from bleach!=5.0.0->nbconvert>=6.0->jupyter_contrib_nbextensions) (1.16.0)\n",
      "Requirement already satisfied: soupsieve>1.2 in /home/kihoro/.local/lib/python3.8/site-packages (from beautifulsoup4->nbconvert>=6.0->jupyter_contrib_nbextensions) (2.5)\n",
      "Requirement already satisfied: importlib-resources>=1.4; python_version < \"3.9\" in /home/kihoro/.local/lib/python3.8/site-packages (from jupyterlab<5,>=4.0.2->notebook>=6.0->jupyter_contrib_nbextensions) (6.1.1)\n",
      "Requirement already satisfied: tomli; python_version < \"3.11\" in /home/kihoro/.local/lib/python3.8/site-packages (from jupyterlab<5,>=4.0.2->notebook>=6.0->jupyter_contrib_nbextensions) (2.0.1)\n",
      "Requirement already satisfied: async-lru>=1.0.0 in /home/kihoro/.local/lib/python3.8/site-packages (from jupyterlab<5,>=4.0.2->notebook>=6.0->jupyter_contrib_nbextensions) (2.0.4)\n",
      "Requirement already satisfied: ipykernel in /home/kihoro/.local/lib/python3.8/site-packages (from jupyterlab<5,>=4.0.2->notebook>=6.0->jupyter_contrib_nbextensions) (6.28.0)\n",
      "Requirement already satisfied: jupyter-lsp>=2.0.0 in /home/kihoro/.local/lib/python3.8/site-packages (from jupyterlab<5,>=4.0.2->notebook>=6.0->jupyter_contrib_nbextensions) (2.2.1)\n",
      "Requirement already satisfied: babel>=2.10 in /home/kihoro/.local/lib/python3.8/site-packages (from jupyterlab-server<3,>=2.22.1->notebook>=6.0->jupyter_contrib_nbextensions) (2.14.0)\n",
      "Requirement already satisfied: requests>=2.31 in /home/kihoro/.local/lib/python3.8/site-packages (from jupyterlab-server<3,>=2.22.1->notebook>=6.0->jupyter_contrib_nbextensions) (2.31.0)\n",
      "Requirement already satisfied: json5>=0.9.0 in /home/kihoro/.local/lib/python3.8/site-packages (from jupyterlab-server<3,>=2.22.1->notebook>=6.0->jupyter_contrib_nbextensions) (0.9.14)\n",
      "Requirement already satisfied: overrides in /home/kihoro/.local/lib/python3.8/site-packages (from jupyter-server<3,>=2.4.0->notebook>=6.0->jupyter_contrib_nbextensions) (7.4.0)\n",
      "Requirement already satisfied: anyio>=3.1.0 in /home/kihoro/.local/lib/python3.8/site-packages (from jupyter-server<3,>=2.4.0->notebook>=6.0->jupyter_contrib_nbextensions) (4.2.0)\n",
      "Requirement already satisfied: pyzmq>=24 in /home/kihoro/.local/lib/python3.8/site-packages (from jupyter-server<3,>=2.4.0->notebook>=6.0->jupyter_contrib_nbextensions) (25.1.2)\n",
      "Requirement already satisfied: argon2-cffi in /home/kihoro/.local/lib/python3.8/site-packages (from jupyter-server<3,>=2.4.0->notebook>=6.0->jupyter_contrib_nbextensions) (23.1.0)\n",
      "Requirement already satisfied: jupyter-server-terminals in /home/kihoro/.local/lib/python3.8/site-packages (from jupyter-server<3,>=2.4.0->notebook>=6.0->jupyter_contrib_nbextensions) (0.5.1)\n",
      "Requirement already satisfied: terminado>=0.8.3 in /home/kihoro/.local/lib/python3.8/site-packages (from jupyter-server<3,>=2.4.0->notebook>=6.0->jupyter_contrib_nbextensions) (0.18.0)\n",
      "Requirement already satisfied: jupyter-events>=0.9.0 in /home/kihoro/.local/lib/python3.8/site-packages (from jupyter-server<3,>=2.4.0->notebook>=6.0->jupyter_contrib_nbextensions) (0.9.0)\n",
      "Requirement already satisfied: prometheus-client in /home/kihoro/.local/lib/python3.8/site-packages (from jupyter-server<3,>=2.4.0->notebook>=6.0->jupyter_contrib_nbextensions) (0.19.0)\n",
      "Requirement already satisfied: send2trash>=1.8.2 in /home/kihoro/.local/lib/python3.8/site-packages (from jupyter-server<3,>=2.4.0->notebook>=6.0->jupyter_contrib_nbextensions) (1.8.2)\n",
      "Requirement already satisfied: websocket-client in /home/kihoro/.local/lib/python3.8/site-packages (from jupyter-server<3,>=2.4.0->notebook>=6.0->jupyter_contrib_nbextensions) (1.7.0)\n",
      "Requirement already satisfied: jsonschema-specifications>=2023.03.6 in /home/kihoro/.local/lib/python3.8/site-packages (from jsonschema>=2.6->nbformat>=5.7->nbconvert>=6.0->jupyter_contrib_nbextensions) (2023.12.1)\n",
      "Requirement already satisfied: referencing>=0.28.4 in /home/kihoro/.local/lib/python3.8/site-packages (from jsonschema>=2.6->nbformat>=5.7->nbconvert>=6.0->jupyter_contrib_nbextensions) (0.32.0)\n",
      "Requirement already satisfied: rpds-py>=0.7.1 in /home/kihoro/.local/lib/python3.8/site-packages (from jsonschema>=2.6->nbformat>=5.7->nbconvert>=6.0->jupyter_contrib_nbextensions) (0.16.2)\n",
      "Requirement already satisfied: pkgutil-resolve-name>=1.3.10; python_version < \"3.9\" in /home/kihoro/.local/lib/python3.8/site-packages (from jsonschema>=2.6->nbformat>=5.7->nbconvert>=6.0->jupyter_contrib_nbextensions) (1.3.10)\n",
      "Requirement already satisfied: attrs>=22.2.0 in /home/kihoro/.local/lib/python3.8/site-packages (from jsonschema>=2.6->nbformat>=5.7->nbconvert>=6.0->jupyter_contrib_nbextensions) (23.2.0)\n",
      "Requirement already satisfied: python-dateutil>=2.8.2 in /home/kihoro/.local/lib/python3.8/site-packages (from jupyter-client>=6.1.12->nbclient>=0.5.0->nbconvert>=6.0->jupyter_contrib_nbextensions) (2.8.2)\n",
      "Requirement already satisfied: typing-extensions>=4.0.0; python_version < \"3.11\" in /home/kihoro/.local/lib/python3.8/site-packages (from async-lru>=1.0.0->jupyterlab<5,>=4.0.2->notebook>=6.0->jupyter_contrib_nbextensions) (4.9.0)\n",
      "Requirement already satisfied: psutil in /home/kihoro/.local/lib/python3.8/site-packages (from ipykernel->jupyterlab<5,>=4.0.2->notebook>=6.0->jupyter_contrib_nbextensions) (5.9.7)\n",
      "Requirement already satisfied: comm>=0.1.1 in /home/kihoro/.local/lib/python3.8/site-packages (from ipykernel->jupyterlab<5,>=4.0.2->notebook>=6.0->jupyter_contrib_nbextensions) (0.2.1)\n",
      "Requirement already satisfied: ipython>=7.23.1 in /home/kihoro/.local/lib/python3.8/site-packages (from ipykernel->jupyterlab<5,>=4.0.2->notebook>=6.0->jupyter_contrib_nbextensions) (8.12.3)\n",
      "Requirement already satisfied: matplotlib-inline>=0.1 in /home/kihoro/.local/lib/python3.8/site-packages (from ipykernel->jupyterlab<5,>=4.0.2->notebook>=6.0->jupyter_contrib_nbextensions) (0.1.6)\n",
      "Requirement already satisfied: debugpy>=1.6.5 in /home/kihoro/.local/lib/python3.8/site-packages (from ipykernel->jupyterlab<5,>=4.0.2->notebook>=6.0->jupyter_contrib_nbextensions) (1.8.0)\n",
      "Requirement already satisfied: nest-asyncio in /home/kihoro/.local/lib/python3.8/site-packages (from ipykernel->jupyterlab<5,>=4.0.2->notebook>=6.0->jupyter_contrib_nbextensions) (1.5.8)\n",
      "Requirement already satisfied: pytz>=2015.7; python_version < \"3.9\" in /home/kihoro/.local/lib/python3.8/site-packages (from babel>=2.10->jupyterlab-server<3,>=2.22.1->notebook>=6.0->jupyter_contrib_nbextensions) (2023.3.post1)\n",
      "Requirement already satisfied: idna<4,>=2.5 in /home/kihoro/.local/lib/python3.8/site-packages (from requests>=2.31->jupyterlab-server<3,>=2.22.1->notebook>=6.0->jupyter_contrib_nbextensions) (3.6)\n",
      "Requirement already satisfied: certifi>=2017.4.17 in /home/kihoro/.local/lib/python3.8/site-packages (from requests>=2.31->jupyterlab-server<3,>=2.22.1->notebook>=6.0->jupyter_contrib_nbextensions) (2023.11.17)\n",
      "Requirement already satisfied: charset-normalizer<4,>=2 in /home/kihoro/.local/lib/python3.8/site-packages (from requests>=2.31->jupyterlab-server<3,>=2.22.1->notebook>=6.0->jupyter_contrib_nbextensions) (3.3.2)\n",
      "Requirement already satisfied: urllib3<3,>=1.21.1 in /home/kihoro/.local/lib/python3.8/site-packages (from requests>=2.31->jupyterlab-server<3,>=2.22.1->notebook>=6.0->jupyter_contrib_nbextensions) (2.1.0)\n",
      "Requirement already satisfied: sniffio>=1.1 in /home/kihoro/.local/lib/python3.8/site-packages (from anyio>=3.1.0->jupyter-server<3,>=2.4.0->notebook>=6.0->jupyter_contrib_nbextensions) (1.3.0)\n",
      "Requirement already satisfied: exceptiongroup>=1.0.2; python_version < \"3.11\" in /home/kihoro/.local/lib/python3.8/site-packages (from anyio>=3.1.0->jupyter-server<3,>=2.4.0->notebook>=6.0->jupyter_contrib_nbextensions) (1.2.0)\n",
      "Requirement already satisfied: argon2-cffi-bindings in /home/kihoro/.local/lib/python3.8/site-packages (from argon2-cffi->jupyter-server<3,>=2.4.0->notebook>=6.0->jupyter_contrib_nbextensions) (21.2.0)\n",
      "Requirement already satisfied: ptyprocess; os_name != \"nt\" in /home/kihoro/.local/lib/python3.8/site-packages (from terminado>=0.8.3->jupyter-server<3,>=2.4.0->notebook>=6.0->jupyter_contrib_nbextensions) (0.7.0)\n",
      "Requirement already satisfied: rfc3986-validator>=0.1.1 in /home/kihoro/.local/lib/python3.8/site-packages (from jupyter-events>=0.9.0->jupyter-server<3,>=2.4.0->notebook>=6.0->jupyter_contrib_nbextensions) (0.1.1)\n",
      "Requirement already satisfied: rfc3339-validator in /home/kihoro/.local/lib/python3.8/site-packages (from jupyter-events>=0.9.0->jupyter-server<3,>=2.4.0->notebook>=6.0->jupyter_contrib_nbextensions) (0.1.4)\n",
      "Requirement already satisfied: python-json-logger>=2.0.4 in /home/kihoro/.local/lib/python3.8/site-packages (from jupyter-events>=0.9.0->jupyter-server<3,>=2.4.0->notebook>=6.0->jupyter_contrib_nbextensions) (2.0.7)\n",
      "Requirement already satisfied: decorator in /home/kihoro/.local/lib/python3.8/site-packages (from ipython>=7.23.1->ipykernel->jupyterlab<5,>=4.0.2->notebook>=6.0->jupyter_contrib_nbextensions) (5.1.1)\n",
      "Requirement already satisfied: stack-data in /home/kihoro/.local/lib/python3.8/site-packages (from ipython>=7.23.1->ipykernel->jupyterlab<5,>=4.0.2->notebook>=6.0->jupyter_contrib_nbextensions) (0.6.3)\n",
      "Requirement already satisfied: pexpect>4.3; sys_platform != \"win32\" in /home/kihoro/.local/lib/python3.8/site-packages (from ipython>=7.23.1->ipykernel->jupyterlab<5,>=4.0.2->notebook>=6.0->jupyter_contrib_nbextensions) (4.9.0)\n",
      "Requirement already satisfied: jedi>=0.16 in /home/kihoro/.local/lib/python3.8/site-packages (from ipython>=7.23.1->ipykernel->jupyterlab<5,>=4.0.2->notebook>=6.0->jupyter_contrib_nbextensions) (0.19.1)\n",
      "Requirement already satisfied: prompt-toolkit!=3.0.37,<3.1.0,>=3.0.30 in /home/kihoro/.local/lib/python3.8/site-packages (from ipython>=7.23.1->ipykernel->jupyterlab<5,>=4.0.2->notebook>=6.0->jupyter_contrib_nbextensions) (3.0.43)\n",
      "Requirement already satisfied: pickleshare in /home/kihoro/.local/lib/python3.8/site-packages (from ipython>=7.23.1->ipykernel->jupyterlab<5,>=4.0.2->notebook>=6.0->jupyter_contrib_nbextensions) (0.7.5)\n",
      "Requirement already satisfied: backcall in /home/kihoro/.local/lib/python3.8/site-packages (from ipython>=7.23.1->ipykernel->jupyterlab<5,>=4.0.2->notebook>=6.0->jupyter_contrib_nbextensions) (0.2.0)\n",
      "Requirement already satisfied: cffi>=1.0.1 in /home/kihoro/.local/lib/python3.8/site-packages (from argon2-cffi-bindings->argon2-cffi->jupyter-server<3,>=2.4.0->notebook>=6.0->jupyter_contrib_nbextensions) (1.16.0)\n",
      "Requirement already satisfied: pure-eval in /home/kihoro/.local/lib/python3.8/site-packages (from stack-data->ipython>=7.23.1->ipykernel->jupyterlab<5,>=4.0.2->notebook>=6.0->jupyter_contrib_nbextensions) (0.2.2)\n",
      "Requirement already satisfied: asttokens>=2.1.0 in /home/kihoro/.local/lib/python3.8/site-packages (from stack-data->ipython>=7.23.1->ipykernel->jupyterlab<5,>=4.0.2->notebook>=6.0->jupyter_contrib_nbextensions) (2.4.1)\n",
      "Requirement already satisfied: executing>=1.2.0 in /home/kihoro/.local/lib/python3.8/site-packages (from stack-data->ipython>=7.23.1->ipykernel->jupyterlab<5,>=4.0.2->notebook>=6.0->jupyter_contrib_nbextensions) (2.0.1)\n",
      "Requirement already satisfied: parso<0.9.0,>=0.8.3 in /home/kihoro/.local/lib/python3.8/site-packages (from jedi>=0.16->ipython>=7.23.1->ipykernel->jupyterlab<5,>=4.0.2->notebook>=6.0->jupyter_contrib_nbextensions) (0.8.3)\n",
      "Requirement already satisfied: wcwidth in /home/kihoro/.local/lib/python3.8/site-packages (from prompt-toolkit!=3.0.37,<3.1.0,>=3.0.30->ipython>=7.23.1->ipykernel->jupyterlab<5,>=4.0.2->notebook>=6.0->jupyter_contrib_nbextensions) (0.2.12)\n",
      "Requirement already satisfied: pycparser in /home/kihoro/.local/lib/python3.8/site-packages (from cffi>=1.0.1->argon2-cffi-bindings->argon2-cffi->jupyter-server<3,>=2.4.0->notebook>=6.0->jupyter_contrib_nbextensions) (2.21)\n",
      "Building wheels for collected packages: jupyter-contrib-nbextensions, jupyter-contrib-core\n",
      "  Building wheel for jupyter-contrib-nbextensions (setup.py) ... \u001b[?25ldone\n",
      "\u001b[?25h  Created wheel for jupyter-contrib-nbextensions: filename=jupyter_contrib_nbextensions-0.7.0-py2.py3-none-any.whl size=23428787 sha256=7ca8010f6a2bf4c92154e9464c71f4c3504614c9784c757d77a852febd31c361\n",
      "  Stored in directory: /home/kihoro/.cache/pip/wheels/1a/60/9f/043697d3cd00df43b23bbf4e722366a2abfa68700b6d8411f4\n",
      "  Building wheel for jupyter-contrib-core (setup.py) ... \u001b[?25ldone\n",
      "\u001b[?25h  Created wheel for jupyter-contrib-core: filename=jupyter_contrib_core-0.4.2-py2.py3-none-any.whl size=17473 sha256=ab4b1dd27a76e42b016bea7861df5c685521382df40f7eb42e29a55d5d78a251\n",
      "  Stored in directory: /home/kihoro/.cache/pip/wheels/c5/75/d2/b881eea79157be355b125d974ec85f88d6e6742acd14387872\n",
      "Successfully built jupyter-contrib-nbextensions jupyter-contrib-core\n",
      "Installing collected packages: jupyter-contrib-core, jupyter-highlight-selected-word, jupyter-nbextensions-configurator, jupyter-contrib-nbextensions\n",
      "\u001b[33m  WARNING: The script jupyter-contrib is installed in '/home/kihoro/.local/bin' which is not on PATH.\n",
      "  Consider adding this directory to PATH or, if you prefer to suppress this warning, use --no-warn-script-location.\u001b[0m\n",
      "\u001b[33m  WARNING: The script jupyter-nbextensions_configurator is installed in '/home/kihoro/.local/bin' which is not on PATH.\n",
      "  Consider adding this directory to PATH or, if you prefer to suppress this warning, use --no-warn-script-location.\u001b[0m\n",
      "\u001b[33m  WARNING: The script jupyter-contrib-nbextension is installed in '/home/kihoro/.local/bin' which is not on PATH.\n",
      "  Consider adding this directory to PATH or, if you prefer to suppress this warning, use --no-warn-script-location.\u001b[0m\n",
      "Successfully installed jupyter-contrib-core-0.4.2 jupyter-contrib-nbextensions-0.7.0 jupyter-highlight-selected-word-0.2.0 jupyter-nbextensions-configurator-0.6.3\n"
     ]
    }
   ],
   "source": [
    "!pip install jupyter_contrib_nbextensions\n"
   ]
  },
  {
   "cell_type": "code",
   "execution_count": 12,
   "id": "cdeea7e0-e80d-4d70-aa64-db104ef66833",
   "metadata": {},
   "outputs": [
    {
     "name": "stdout",
     "output_type": "stream",
     "text": [
      "Collecting jupyter-core\n",
      "  Downloading jupyter_core-5.7.1-py3-none-any.whl (28 kB)\n",
      "Requirement already satisfied, skipping upgrade: platformdirs>=2.5 in /home/kihoro/.local/lib/python3.8/site-packages (from jupyter-core) (4.1.0)\n",
      "Requirement already satisfied, skipping upgrade: traitlets>=5.3 in /home/kihoro/.local/lib/python3.8/site-packages (from jupyter-core) (5.14.1)\n",
      "Installing collected packages: jupyter-core\n",
      "  Attempting uninstall: jupyter-core\n",
      "    Found existing installation: jupyter-core 5.6.1\n",
      "    Uninstalling jupyter-core-5.6.1:\n",
      "      Successfully uninstalled jupyter-core-5.6.1\n",
      "\u001b[33m  WARNING: The scripts jupyter, jupyter-migrate and jupyter-troubleshoot are installed in '/home/kihoro/.local/bin' which is not on PATH.\n",
      "  Consider adding this directory to PATH or, if you prefer to suppress this warning, use --no-warn-script-location.\u001b[0m\n",
      "Successfully installed jupyter-core-5.7.1\n",
      "Note: you may need to restart the kernel to use updated packages.\n"
     ]
    }
   ],
   "source": [
    "pip install --upgrade jupyter-core\n"
   ]
  },
  {
   "cell_type": "code",
   "execution_count": 3,
   "id": "5f14da05-9a80-4b93-9681-5dc626f6f39e",
   "metadata": {},
   "outputs": [
    {
     "name": "stdout",
     "output_type": "stream",
     "text": [
      "Requirement already satisfied: jupyter_contrib_nbextensions in /home/kihoro/.local/lib/python3.8/site-packages (0.7.0)\n",
      "Requirement already satisfied: lxml in /home/kihoro/.local/lib/python3.8/site-packages (from jupyter_contrib_nbextensions) (4.9.1)\n",
      "Requirement already satisfied: jupyter-highlight-selected-word>=0.1.1 in /home/kihoro/.local/lib/python3.8/site-packages (from jupyter_contrib_nbextensions) (0.2.0)\n",
      "Requirement already satisfied: notebook>=6.0 in /home/kihoro/.local/lib/python3.8/site-packages (from jupyter_contrib_nbextensions) (7.0.6)\n",
      "Requirement already satisfied: jupyter-nbextensions-configurator>=0.4.0 in /home/kihoro/.local/lib/python3.8/site-packages (from jupyter_contrib_nbextensions) (0.6.3)\n",
      "Requirement already satisfied: nbconvert>=6.0 in /home/kihoro/.local/lib/python3.8/site-packages (from jupyter_contrib_nbextensions) (7.14.0)\n",
      "Requirement already satisfied: tornado in /home/kihoro/.local/lib/python3.8/site-packages (from jupyter_contrib_nbextensions) (6.4)\n",
      "Requirement already satisfied: ipython-genutils in /usr/lib/python3/dist-packages (from jupyter_contrib_nbextensions) (0.2.0)\n",
      "Requirement already satisfied: jupyter-contrib-core>=0.3.3 in /home/kihoro/.local/lib/python3.8/site-packages (from jupyter_contrib_nbextensions) (0.4.2)\n",
      "Requirement already satisfied: jupyter-core in /home/kihoro/.local/lib/python3.8/site-packages (from jupyter_contrib_nbextensions) (5.7.1)\n",
      "Requirement already satisfied: traitlets>=4.1 in /home/kihoro/.local/lib/python3.8/site-packages (from jupyter_contrib_nbextensions) (5.14.1)\n",
      "Requirement already satisfied: jupyter-server<3,>=2.4.0 in /home/kihoro/.local/lib/python3.8/site-packages (from notebook>=6.0->jupyter_contrib_nbextensions) (2.12.1)\n",
      "Requirement already satisfied: jupyterlab-server<3,>=2.22.1 in /home/kihoro/.local/lib/python3.8/site-packages (from notebook>=6.0->jupyter_contrib_nbextensions) (2.25.2)\n",
      "Requirement already satisfied: jupyterlab<5,>=4.0.2 in /home/kihoro/.local/lib/python3.8/site-packages (from notebook>=6.0->jupyter_contrib_nbextensions) (4.0.10)\n",
      "Requirement already satisfied: notebook-shim<0.3,>=0.2 in /home/kihoro/.local/lib/python3.8/site-packages (from notebook>=6.0->jupyter_contrib_nbextensions) (0.2.3)\n",
      "Requirement already satisfied: pyyaml in /home/kihoro/.local/lib/python3.8/site-packages (from jupyter-nbextensions-configurator>=0.4.0->jupyter_contrib_nbextensions) (6.0.1)\n",
      "Requirement already satisfied: bleach!=5.0.0 in /home/kihoro/.local/lib/python3.8/site-packages (from nbconvert>=6.0->jupyter_contrib_nbextensions) (6.1.0)\n",
      "Requirement already satisfied: beautifulsoup4 in /home/kihoro/.local/lib/python3.8/site-packages (from nbconvert>=6.0->jupyter_contrib_nbextensions) (4.12.2)\n",
      "Requirement already satisfied: importlib-metadata>=3.6; python_version < \"3.10\" in /home/kihoro/.local/lib/python3.8/site-packages (from nbconvert>=6.0->jupyter_contrib_nbextensions) (7.0.1)\n",
      "Requirement already satisfied: markupsafe>=2.0 in /home/kihoro/.local/lib/python3.8/site-packages (from nbconvert>=6.0->jupyter_contrib_nbextensions) (2.1.3)\n",
      "Requirement already satisfied: mistune<4,>=2.0.3 in /home/kihoro/.local/lib/python3.8/site-packages (from nbconvert>=6.0->jupyter_contrib_nbextensions) (3.0.2)\n",
      "Requirement already satisfied: packaging in /home/kihoro/.local/lib/python3.8/site-packages (from nbconvert>=6.0->jupyter_contrib_nbextensions) (23.2)\n",
      "Requirement already satisfied: nbclient>=0.5.0 in /home/kihoro/.local/lib/python3.8/site-packages (from nbconvert>=6.0->jupyter_contrib_nbextensions) (0.9.0)\n",
      "Requirement already satisfied: pandocfilters>=1.4.1 in /home/kihoro/.local/lib/python3.8/site-packages (from nbconvert>=6.0->jupyter_contrib_nbextensions) (1.5.0)\n",
      "Requirement already satisfied: tinycss2 in /home/kihoro/.local/lib/python3.8/site-packages (from nbconvert>=6.0->jupyter_contrib_nbextensions) (1.2.1)\n",
      "Requirement already satisfied: pygments>=2.4.1 in /home/kihoro/.local/lib/python3.8/site-packages (from nbconvert>=6.0->jupyter_contrib_nbextensions) (2.17.2)\n",
      "Requirement already satisfied: jupyterlab-pygments in /home/kihoro/.local/lib/python3.8/site-packages (from nbconvert>=6.0->jupyter_contrib_nbextensions) (0.3.0)\n",
      "Requirement already satisfied: jinja2>=3.0 in /home/kihoro/.local/lib/python3.8/site-packages (from nbconvert>=6.0->jupyter_contrib_nbextensions) (3.1.2)\n",
      "Requirement already satisfied: nbformat>=5.7 in /home/kihoro/.local/lib/python3.8/site-packages (from nbconvert>=6.0->jupyter_contrib_nbextensions) (5.9.2)\n",
      "Requirement already satisfied: defusedxml in /home/kihoro/.local/lib/python3.8/site-packages (from nbconvert>=6.0->jupyter_contrib_nbextensions) (0.7.1)\n",
      "Requirement already satisfied: setuptools in /usr/lib/python3/dist-packages (from jupyter-contrib-core>=0.3.3->jupyter_contrib_nbextensions) (45.2.0)\n",
      "Requirement already satisfied: platformdirs>=2.5 in /home/kihoro/.local/lib/python3.8/site-packages (from jupyter-core->jupyter_contrib_nbextensions) (4.1.0)\n",
      "Requirement already satisfied: jupyter-server-terminals in /home/kihoro/.local/lib/python3.8/site-packages (from jupyter-server<3,>=2.4.0->notebook>=6.0->jupyter_contrib_nbextensions) (0.5.1)\n",
      "Requirement already satisfied: terminado>=0.8.3 in /home/kihoro/.local/lib/python3.8/site-packages (from jupyter-server<3,>=2.4.0->notebook>=6.0->jupyter_contrib_nbextensions) (0.18.0)\n",
      "Requirement already satisfied: send2trash>=1.8.2 in /home/kihoro/.local/lib/python3.8/site-packages (from jupyter-server<3,>=2.4.0->notebook>=6.0->jupyter_contrib_nbextensions) (1.8.2)\n",
      "Requirement already satisfied: argon2-cffi in /home/kihoro/.local/lib/python3.8/site-packages (from jupyter-server<3,>=2.4.0->notebook>=6.0->jupyter_contrib_nbextensions) (23.1.0)\n",
      "Requirement already satisfied: pyzmq>=24 in /home/kihoro/.local/lib/python3.8/site-packages (from jupyter-server<3,>=2.4.0->notebook>=6.0->jupyter_contrib_nbextensions) (25.1.2)\n",
      "Requirement already satisfied: anyio>=3.1.0 in /home/kihoro/.local/lib/python3.8/site-packages (from jupyter-server<3,>=2.4.0->notebook>=6.0->jupyter_contrib_nbextensions) (4.2.0)\n",
      "Requirement already satisfied: prometheus-client in /home/kihoro/.local/lib/python3.8/site-packages (from jupyter-server<3,>=2.4.0->notebook>=6.0->jupyter_contrib_nbextensions) (0.19.0)\n",
      "Requirement already satisfied: websocket-client in /home/kihoro/.local/lib/python3.8/site-packages (from jupyter-server<3,>=2.4.0->notebook>=6.0->jupyter_contrib_nbextensions) (1.7.0)\n",
      "Requirement already satisfied: jupyter-client>=7.4.4 in /home/kihoro/.local/lib/python3.8/site-packages (from jupyter-server<3,>=2.4.0->notebook>=6.0->jupyter_contrib_nbextensions) (8.6.0)\n",
      "Requirement already satisfied: jupyter-events>=0.9.0 in /home/kihoro/.local/lib/python3.8/site-packages (from jupyter-server<3,>=2.4.0->notebook>=6.0->jupyter_contrib_nbextensions) (0.9.0)\n",
      "Requirement already satisfied: overrides in /home/kihoro/.local/lib/python3.8/site-packages (from jupyter-server<3,>=2.4.0->notebook>=6.0->jupyter_contrib_nbextensions) (7.4.0)\n",
      "Requirement already satisfied: requests>=2.31 in /home/kihoro/.local/lib/python3.8/site-packages (from jupyterlab-server<3,>=2.22.1->notebook>=6.0->jupyter_contrib_nbextensions) (2.31.0)\n",
      "Requirement already satisfied: json5>=0.9.0 in /home/kihoro/.local/lib/python3.8/site-packages (from jupyterlab-server<3,>=2.22.1->notebook>=6.0->jupyter_contrib_nbextensions) (0.9.14)\n",
      "Requirement already satisfied: jsonschema>=4.18.0 in /home/kihoro/.local/lib/python3.8/site-packages (from jupyterlab-server<3,>=2.22.1->notebook>=6.0->jupyter_contrib_nbextensions) (4.20.0)\n",
      "Requirement already satisfied: babel>=2.10 in /home/kihoro/.local/lib/python3.8/site-packages (from jupyterlab-server<3,>=2.22.1->notebook>=6.0->jupyter_contrib_nbextensions) (2.14.0)\n",
      "Requirement already satisfied: importlib-resources>=1.4; python_version < \"3.9\" in /home/kihoro/.local/lib/python3.8/site-packages (from jupyterlab<5,>=4.0.2->notebook>=6.0->jupyter_contrib_nbextensions) (6.1.1)\n",
      "Requirement already satisfied: async-lru>=1.0.0 in /home/kihoro/.local/lib/python3.8/site-packages (from jupyterlab<5,>=4.0.2->notebook>=6.0->jupyter_contrib_nbextensions) (2.0.4)\n",
      "Requirement already satisfied: jupyter-lsp>=2.0.0 in /home/kihoro/.local/lib/python3.8/site-packages (from jupyterlab<5,>=4.0.2->notebook>=6.0->jupyter_contrib_nbextensions) (2.2.1)\n",
      "Requirement already satisfied: tomli; python_version < \"3.11\" in /home/kihoro/.local/lib/python3.8/site-packages (from jupyterlab<5,>=4.0.2->notebook>=6.0->jupyter_contrib_nbextensions) (2.0.1)\n",
      "Requirement already satisfied: ipykernel in /home/kihoro/.local/lib/python3.8/site-packages (from jupyterlab<5,>=4.0.2->notebook>=6.0->jupyter_contrib_nbextensions) (6.28.0)\n",
      "Requirement already satisfied: webencodings in /home/kihoro/.local/lib/python3.8/site-packages (from bleach!=5.0.0->nbconvert>=6.0->jupyter_contrib_nbextensions) (0.5.1)\n",
      "Requirement already satisfied: six>=1.9.0 in /home/kihoro/.local/lib/python3.8/site-packages (from bleach!=5.0.0->nbconvert>=6.0->jupyter_contrib_nbextensions) (1.16.0)\n",
      "Requirement already satisfied: soupsieve>1.2 in /home/kihoro/.local/lib/python3.8/site-packages (from beautifulsoup4->nbconvert>=6.0->jupyter_contrib_nbextensions) (2.5)\n",
      "Requirement already satisfied: zipp>=0.5 in /home/kihoro/.local/lib/python3.8/site-packages (from importlib-metadata>=3.6; python_version < \"3.10\"->nbconvert>=6.0->jupyter_contrib_nbextensions) (3.17.0)\n",
      "Requirement already satisfied: fastjsonschema in /home/kihoro/.local/lib/python3.8/site-packages (from nbformat>=5.7->nbconvert>=6.0->jupyter_contrib_nbextensions) (2.19.1)\n",
      "Requirement already satisfied: ptyprocess; os_name != \"nt\" in /home/kihoro/.local/lib/python3.8/site-packages (from terminado>=0.8.3->jupyter-server<3,>=2.4.0->notebook>=6.0->jupyter_contrib_nbextensions) (0.7.0)\n",
      "Requirement already satisfied: argon2-cffi-bindings in /home/kihoro/.local/lib/python3.8/site-packages (from argon2-cffi->jupyter-server<3,>=2.4.0->notebook>=6.0->jupyter_contrib_nbextensions) (21.2.0)\n",
      "Requirement already satisfied: sniffio>=1.1 in /home/kihoro/.local/lib/python3.8/site-packages (from anyio>=3.1.0->jupyter-server<3,>=2.4.0->notebook>=6.0->jupyter_contrib_nbextensions) (1.3.0)\n",
      "Requirement already satisfied: typing-extensions>=4.1; python_version < \"3.11\" in /home/kihoro/.local/lib/python3.8/site-packages (from anyio>=3.1.0->jupyter-server<3,>=2.4.0->notebook>=6.0->jupyter_contrib_nbextensions) (4.9.0)\n",
      "Requirement already satisfied: exceptiongroup>=1.0.2; python_version < \"3.11\" in /home/kihoro/.local/lib/python3.8/site-packages (from anyio>=3.1.0->jupyter-server<3,>=2.4.0->notebook>=6.0->jupyter_contrib_nbextensions) (1.2.0)\n",
      "Requirement already satisfied: idna>=2.8 in /home/kihoro/.local/lib/python3.8/site-packages (from anyio>=3.1.0->jupyter-server<3,>=2.4.0->notebook>=6.0->jupyter_contrib_nbextensions) (3.6)\n",
      "Requirement already satisfied: python-dateutil>=2.8.2 in /home/kihoro/.local/lib/python3.8/site-packages (from jupyter-client>=7.4.4->jupyter-server<3,>=2.4.0->notebook>=6.0->jupyter_contrib_nbextensions) (2.8.2)\n",
      "Requirement already satisfied: python-json-logger>=2.0.4 in /home/kihoro/.local/lib/python3.8/site-packages (from jupyter-events>=0.9.0->jupyter-server<3,>=2.4.0->notebook>=6.0->jupyter_contrib_nbextensions) (2.0.7)\n",
      "Requirement already satisfied: referencing in /home/kihoro/.local/lib/python3.8/site-packages (from jupyter-events>=0.9.0->jupyter-server<3,>=2.4.0->notebook>=6.0->jupyter_contrib_nbextensions) (0.32.0)\n",
      "Requirement already satisfied: rfc3339-validator in /home/kihoro/.local/lib/python3.8/site-packages (from jupyter-events>=0.9.0->jupyter-server<3,>=2.4.0->notebook>=6.0->jupyter_contrib_nbextensions) (0.1.4)\n",
      "Requirement already satisfied: rfc3986-validator>=0.1.1 in /home/kihoro/.local/lib/python3.8/site-packages (from jupyter-events>=0.9.0->jupyter-server<3,>=2.4.0->notebook>=6.0->jupyter_contrib_nbextensions) (0.1.1)\n",
      "Requirement already satisfied: charset-normalizer<4,>=2 in /home/kihoro/.local/lib/python3.8/site-packages (from requests>=2.31->jupyterlab-server<3,>=2.22.1->notebook>=6.0->jupyter_contrib_nbextensions) (3.3.2)\n",
      "Requirement already satisfied: certifi>=2017.4.17 in /home/kihoro/.local/lib/python3.8/site-packages (from requests>=2.31->jupyterlab-server<3,>=2.22.1->notebook>=6.0->jupyter_contrib_nbextensions) (2023.11.17)\n",
      "Requirement already satisfied: urllib3<3,>=1.21.1 in /home/kihoro/.local/lib/python3.8/site-packages (from requests>=2.31->jupyterlab-server<3,>=2.22.1->notebook>=6.0->jupyter_contrib_nbextensions) (2.1.0)\n",
      "Requirement already satisfied: rpds-py>=0.7.1 in /home/kihoro/.local/lib/python3.8/site-packages (from jsonschema>=4.18.0->jupyterlab-server<3,>=2.22.1->notebook>=6.0->jupyter_contrib_nbextensions) (0.16.2)\n",
      "Requirement already satisfied: pkgutil-resolve-name>=1.3.10; python_version < \"3.9\" in /home/kihoro/.local/lib/python3.8/site-packages (from jsonschema>=4.18.0->jupyterlab-server<3,>=2.22.1->notebook>=6.0->jupyter_contrib_nbextensions) (1.3.10)\n",
      "Requirement already satisfied: attrs>=22.2.0 in /home/kihoro/.local/lib/python3.8/site-packages (from jsonschema>=4.18.0->jupyterlab-server<3,>=2.22.1->notebook>=6.0->jupyter_contrib_nbextensions) (23.2.0)\n",
      "Requirement already satisfied: jsonschema-specifications>=2023.03.6 in /home/kihoro/.local/lib/python3.8/site-packages (from jsonschema>=4.18.0->jupyterlab-server<3,>=2.22.1->notebook>=6.0->jupyter_contrib_nbextensions) (2023.12.1)\n",
      "Requirement already satisfied: pytz>=2015.7; python_version < \"3.9\" in /home/kihoro/.local/lib/python3.8/site-packages (from babel>=2.10->jupyterlab-server<3,>=2.22.1->notebook>=6.0->jupyter_contrib_nbextensions) (2023.3.post1)\n",
      "Requirement already satisfied: debugpy>=1.6.5 in /home/kihoro/.local/lib/python3.8/site-packages (from ipykernel->jupyterlab<5,>=4.0.2->notebook>=6.0->jupyter_contrib_nbextensions) (1.8.0)\n",
      "Requirement already satisfied: matplotlib-inline>=0.1 in /home/kihoro/.local/lib/python3.8/site-packages (from ipykernel->jupyterlab<5,>=4.0.2->notebook>=6.0->jupyter_contrib_nbextensions) (0.1.6)\n",
      "Requirement already satisfied: comm>=0.1.1 in /home/kihoro/.local/lib/python3.8/site-packages (from ipykernel->jupyterlab<5,>=4.0.2->notebook>=6.0->jupyter_contrib_nbextensions) (0.2.1)\n",
      "Requirement already satisfied: nest-asyncio in /home/kihoro/.local/lib/python3.8/site-packages (from ipykernel->jupyterlab<5,>=4.0.2->notebook>=6.0->jupyter_contrib_nbextensions) (1.5.8)\n",
      "Requirement already satisfied: psutil in /home/kihoro/.local/lib/python3.8/site-packages (from ipykernel->jupyterlab<5,>=4.0.2->notebook>=6.0->jupyter_contrib_nbextensions) (5.9.7)\n",
      "Requirement already satisfied: ipython>=7.23.1 in /home/kihoro/.local/lib/python3.8/site-packages (from ipykernel->jupyterlab<5,>=4.0.2->notebook>=6.0->jupyter_contrib_nbextensions) (8.12.3)\n",
      "Requirement already satisfied: cffi>=1.0.1 in /home/kihoro/.local/lib/python3.8/site-packages (from argon2-cffi-bindings->argon2-cffi->jupyter-server<3,>=2.4.0->notebook>=6.0->jupyter_contrib_nbextensions) (1.16.0)\n",
      "Requirement already satisfied: stack-data in /home/kihoro/.local/lib/python3.8/site-packages (from ipython>=7.23.1->ipykernel->jupyterlab<5,>=4.0.2->notebook>=6.0->jupyter_contrib_nbextensions) (0.6.3)\n",
      "Requirement already satisfied: pexpect>4.3; sys_platform != \"win32\" in /home/kihoro/.local/lib/python3.8/site-packages (from ipython>=7.23.1->ipykernel->jupyterlab<5,>=4.0.2->notebook>=6.0->jupyter_contrib_nbextensions) (4.9.0)\n",
      "Requirement already satisfied: prompt-toolkit!=3.0.37,<3.1.0,>=3.0.30 in /home/kihoro/.local/lib/python3.8/site-packages (from ipython>=7.23.1->ipykernel->jupyterlab<5,>=4.0.2->notebook>=6.0->jupyter_contrib_nbextensions) (3.0.43)\n",
      "Requirement already satisfied: decorator in /home/kihoro/.local/lib/python3.8/site-packages (from ipython>=7.23.1->ipykernel->jupyterlab<5,>=4.0.2->notebook>=6.0->jupyter_contrib_nbextensions) (5.1.1)\n",
      "Requirement already satisfied: jedi>=0.16 in /home/kihoro/.local/lib/python3.8/site-packages (from ipython>=7.23.1->ipykernel->jupyterlab<5,>=4.0.2->notebook>=6.0->jupyter_contrib_nbextensions) (0.19.1)\n",
      "Requirement already satisfied: pickleshare in /home/kihoro/.local/lib/python3.8/site-packages (from ipython>=7.23.1->ipykernel->jupyterlab<5,>=4.0.2->notebook>=6.0->jupyter_contrib_nbextensions) (0.7.5)\n",
      "Requirement already satisfied: backcall in /home/kihoro/.local/lib/python3.8/site-packages (from ipython>=7.23.1->ipykernel->jupyterlab<5,>=4.0.2->notebook>=6.0->jupyter_contrib_nbextensions) (0.2.0)\n",
      "Requirement already satisfied: pycparser in /home/kihoro/.local/lib/python3.8/site-packages (from cffi>=1.0.1->argon2-cffi-bindings->argon2-cffi->jupyter-server<3,>=2.4.0->notebook>=6.0->jupyter_contrib_nbextensions) (2.21)\n",
      "Requirement already satisfied: asttokens>=2.1.0 in /home/kihoro/.local/lib/python3.8/site-packages (from stack-data->ipython>=7.23.1->ipykernel->jupyterlab<5,>=4.0.2->notebook>=6.0->jupyter_contrib_nbextensions) (2.4.1)\n",
      "Requirement already satisfied: pure-eval in /home/kihoro/.local/lib/python3.8/site-packages (from stack-data->ipython>=7.23.1->ipykernel->jupyterlab<5,>=4.0.2->notebook>=6.0->jupyter_contrib_nbextensions) (0.2.2)\n",
      "Requirement already satisfied: executing>=1.2.0 in /home/kihoro/.local/lib/python3.8/site-packages (from stack-data->ipython>=7.23.1->ipykernel->jupyterlab<5,>=4.0.2->notebook>=6.0->jupyter_contrib_nbextensions) (2.0.1)\n",
      "Requirement already satisfied: wcwidth in /home/kihoro/.local/lib/python3.8/site-packages (from prompt-toolkit!=3.0.37,<3.1.0,>=3.0.30->ipython>=7.23.1->ipykernel->jupyterlab<5,>=4.0.2->notebook>=6.0->jupyter_contrib_nbextensions) (0.2.12)\n",
      "Requirement already satisfied: parso<0.9.0,>=0.8.3 in /home/kihoro/.local/lib/python3.8/site-packages (from jedi>=0.16->ipython>=7.23.1->ipykernel->jupyterlab<5,>=4.0.2->notebook>=6.0->jupyter_contrib_nbextensions) (0.8.3)\n",
      "Traceback (most recent call last):\n",
      "  File \"/usr/bin/jupyter\", line 11, in <module>\n",
      "    load_entry_point('jupyter-core==4.6.3', 'console_scripts', 'jupyter')()\n",
      "  File \"/usr/lib/python3/dist-packages/jupyter_core/command.py\", line 247, in main\n",
      "    command = _jupyter_abspath(subcommand)\n",
      "  File \"/usr/lib/python3/dist-packages/jupyter_core/command.py\", line 133, in _jupyter_abspath\n",
      "    raise Exception(\n",
      "Exception: Jupyter command `jupyter-contrib` not found.\n",
      "Error in sys.excepthook:\n",
      "Traceback (most recent call last):\n",
      "  File \"/usr/lib/python3/dist-packages/apport_python_hook.py\", line 153, in apport_excepthook\n",
      "    with os.fdopen(os.open(pr_filename,\n",
      "FileNotFoundError: [Errno 2] No such file or directory: '/var/crash/_usr_bin_jupyter.1000.crash'\n",
      "\n",
      "Original exception was:\n",
      "Traceback (most recent call last):\n",
      "  File \"/usr/bin/jupyter\", line 11, in <module>\n",
      "    load_entry_point('jupyter-core==4.6.3', 'console_scripts', 'jupyter')()\n",
      "  File \"/usr/lib/python3/dist-packages/jupyter_core/command.py\", line 247, in main\n",
      "    command = _jupyter_abspath(subcommand)\n",
      "  File \"/usr/lib/python3/dist-packages/jupyter_core/command.py\", line 133, in _jupyter_abspath\n",
      "    raise Exception(\n",
      "Exception: Jupyter command `jupyter-contrib` not found.\n"
     ]
    }
   ],
   "source": [
    "!pip install jupyter_contrib_nbextensions\n",
    "!jupyter contrib nbextension install --user\n"
   ]
  },
  {
   "cell_type": "code",
   "execution_count": 5,
   "id": "564dab53-55ab-4e04-8e48-f1866f7d8fe9",
   "metadata": {},
   "outputs": [
    {
     "name": "stdout",
     "output_type": "stream",
     "text": [
      "Traceback (most recent call last):\n",
      "  File \"/usr/bin/jupyter\", line 11, in <module>\n",
      "    load_entry_point('jupyter-core==4.6.3', 'console_scripts', 'jupyter')()\n",
      "  File \"/usr/lib/python3/dist-packages/jupyter_core/command.py\", line 247, in main\n",
      "    command = _jupyter_abspath(subcommand)\n",
      "  File \"/usr/lib/python3/dist-packages/jupyter_core/command.py\", line 133, in _jupyter_abspath\n",
      "    raise Exception(\n",
      "Exception: Jupyter command `jupyter-nbextension` not found.\n",
      "Error in sys.excepthook:\n",
      "Traceback (most recent call last):\n",
      "  File \"/usr/lib/python3/dist-packages/apport_python_hook.py\", line 153, in apport_excepthook\n",
      "    with os.fdopen(os.open(pr_filename,\n",
      "FileNotFoundError: [Errno 2] No such file or directory: '/var/crash/_usr_bin_jupyter.1000.crash'\n",
      "\n",
      "Original exception was:\n",
      "Traceback (most recent call last):\n",
      "  File \"/usr/bin/jupyter\", line 11, in <module>\n",
      "    load_entry_point('jupyter-core==4.6.3', 'console_scripts', 'jupyter')()\n",
      "  File \"/usr/lib/python3/dist-packages/jupyter_core/command.py\", line 247, in main\n",
      "    command = _jupyter_abspath(subcommand)\n",
      "  File \"/usr/lib/python3/dist-packages/jupyter_core/command.py\", line 133, in _jupyter_abspath\n",
      "    raise Exception(\n",
      "Exception: Jupyter command `jupyter-nbextension` not found.\n"
     ]
    }
   ],
   "source": [
    "jupyter nbextension enable python-markdown/main\n"
   ]
  },
  {
   "cell_type": "code",
   "execution_count": 1,
   "id": "95437199-1713-4d90-aac2-e02ac1031e8c",
   "metadata": {},
   "outputs": [
    {
     "name": "stdout",
     "output_type": "stream",
     "text": [
      "Defaulting to user installation because normal site-packages is not writeable\n",
      "Collecting pandas\n",
      "  Downloading pandas-2.2.1-cp310-cp310-manylinux_2_17_x86_64.manylinux2014_x86_64.whl (13.0 MB)\n",
      "\u001b[2K     \u001b[38;2;114;156;31m━━━━━━━━━━━━━━━━━━━━━━━━━━━━━━━━━━━━━━━\u001b[0m \u001b[32m13.0/13.0 MB\u001b[0m \u001b[31m602.7 kB/s\u001b[0m eta \u001b[36m0:00:00\u001b[0mm eta \u001b[36m0:00:01\u001b[0m[36m0:00:01\u001b[0m\n",
      "\u001b[?25hCollecting tzdata>=2022.7\n",
      "  Downloading tzdata-2024.1-py2.py3-none-any.whl (345 kB)\n",
      "\u001b[2K     \u001b[38;2;114;156;31m━━━━━━━━━━━━━━━━━━━━━━━━━━━━━━━━━━━━━━━\u001b[0m \u001b[32m345.4/345.4 KB\u001b[0m \u001b[31m1.6 MB/s\u001b[0m eta \u001b[36m0:00:00\u001b[0m[31m1.7 MB/s\u001b[0m eta \u001b[36m0:00:01\u001b[0m\n",
      "\u001b[?25hCollecting numpy<2,>=1.22.4\n",
      "  Downloading numpy-1.26.4-cp310-cp310-manylinux_2_17_x86_64.manylinux2014_x86_64.whl (18.2 MB)\n",
      "\u001b[2K     \u001b[38;2;114;156;31m━━━━━━━━━━━━━━━━━━━━━━━━━━━━━━━━━━━━━━━\u001b[0m \u001b[32m18.2/18.2 MB\u001b[0m \u001b[31m468.4 kB/s\u001b[0m eta \u001b[36m0:00:00\u001b[0mm eta \u001b[36m0:00:01\u001b[0m[36m0:00:02\u001b[0m\n",
      "\u001b[?25hRequirement already satisfied: python-dateutil>=2.8.2 in /home/kihoro/.local/lib/python3.10/site-packages (from pandas) (2.8.2)\n",
      "Requirement already satisfied: pytz>=2020.1 in /usr/lib/python3/dist-packages (from pandas) (2022.1)\n",
      "Requirement already satisfied: six>=1.5 in /usr/lib/python3/dist-packages (from python-dateutil>=2.8.2->pandas) (1.16.0)\n",
      "Installing collected packages: tzdata, numpy, pandas\n",
      "Successfully installed numpy-1.26.4 pandas-2.2.1 tzdata-2024.1\n",
      "Note: you may need to restart the kernel to use updated packages.\n"
     ]
    }
   ],
   "source": [
    "pip install pandas"
   ]
  },
  {
   "cell_type": "code",
   "execution_count": 2,
   "id": "8c48293c-7d0e-4778-918c-a5bb3eb4ca46",
   "metadata": {},
   "outputs": [
    {
     "name": "stdout",
     "output_type": "stream",
     "text": [
      "Defaulting to user installation because normal site-packages is not writeable\n",
      "Collecting sqlalchemy\n",
      "  Downloading SQLAlchemy-2.0.27-cp310-cp310-manylinux_2_17_x86_64.manylinux2014_x86_64.whl (3.1 MB)\n",
      "\u001b[2K     \u001b[38;2;114;156;31m━━━━━━━━━━━━━━━━━━━━━━━━━━━━━━━━━━━━━━━━\u001b[0m \u001b[32m3.1/3.1 MB\u001b[0m \u001b[31m266.3 kB/s\u001b[0m eta \u001b[36m0:00:00\u001b[0mm eta \u001b[36m0:00:01\u001b[0m[36m0:00:01\u001b[0m\n",
      "\u001b[?25hCollecting greenlet!=0.4.17\n",
      "  Downloading greenlet-3.0.3-cp310-cp310-manylinux_2_24_x86_64.manylinux_2_28_x86_64.whl (616 kB)\n",
      "\u001b[2K     \u001b[38;2;114;156;31m━━━━━━━━━━━━━━━━━━━━━━━━━━━━━━━━━━━━━\u001b[0m \u001b[32m616.0/616.0 KB\u001b[0m \u001b[31m274.4 kB/s\u001b[0m eta \u001b[36m0:00:00\u001b[0m1m272.6 kB/s\u001b[0m eta \u001b[36m0:00:01\u001b[0m\n",
      "\u001b[?25hRequirement already satisfied: typing-extensions>=4.6.0 in /home/kihoro/.local/lib/python3.10/site-packages (from sqlalchemy) (4.9.0)\n",
      "Installing collected packages: greenlet, sqlalchemy\n",
      "Successfully installed greenlet-3.0.3 sqlalchemy-2.0.27\n",
      "Note: you may need to restart the kernel to use updated packages.\n"
     ]
    }
   ],
   "source": [
    "pip install sqlalchemy"
   ]
  },
  {
   "cell_type": "code",
   "execution_count": 3,
   "id": "02cb9264-9e07-4dad-9419-b23fe37adae7",
   "metadata": {},
   "outputs": [
    {
     "name": "stdout",
     "output_type": "stream",
     "text": [
      "Defaulting to user installation because normal site-packages is not writeable\n",
      "Collecting seaborn\n",
      "  Downloading seaborn-0.13.2-py3-none-any.whl (294 kB)\n",
      "\u001b[2K     \u001b[38;2;114;156;31m━━━━━━━━━━━━━━━━━━━━━━━━━━━━━━━━━━━━━\u001b[0m \u001b[32m294.9/294.9 KB\u001b[0m \u001b[31m293.3 kB/s\u001b[0m eta \u001b[36m0:00:00\u001b[0m1m296.7 kB/s\u001b[0m eta \u001b[36m0:00:01\u001b[0m\n",
      "\u001b[?25hRequirement already satisfied: matplotlib!=3.6.1,>=3.4 in /usr/lib/python3/dist-packages (from seaborn) (3.5.1)\n",
      "Requirement already satisfied: numpy!=1.24.0,>=1.20 in /home/kihoro/.local/lib/python3.10/site-packages (from seaborn) (1.26.4)\n",
      "Requirement already satisfied: pandas>=1.2 in /home/kihoro/.local/lib/python3.10/site-packages (from seaborn) (2.2.1)\n",
      "Requirement already satisfied: pytz>=2020.1 in /usr/lib/python3/dist-packages (from pandas>=1.2->seaborn) (2022.1)\n",
      "Requirement already satisfied: python-dateutil>=2.8.2 in /home/kihoro/.local/lib/python3.10/site-packages (from pandas>=1.2->seaborn) (2.8.2)\n",
      "Requirement already satisfied: tzdata>=2022.7 in /home/kihoro/.local/lib/python3.10/site-packages (from pandas>=1.2->seaborn) (2024.1)\n",
      "Requirement already satisfied: six>=1.5 in /usr/lib/python3/dist-packages (from python-dateutil>=2.8.2->pandas>=1.2->seaborn) (1.16.0)\n",
      "Installing collected packages: seaborn\n",
      "Successfully installed seaborn-0.13.2\n",
      "Note: you may need to restart the kernel to use updated packages.\n"
     ]
    }
   ],
   "source": [
    "pip install seaborn"
   ]
  },
  {
   "cell_type": "code",
   "execution_count": 4,
   "id": "be9db58b-d9cf-4dfa-9ee0-b8a0b4d931e2",
   "metadata": {},
   "outputs": [
    {
     "name": "stdout",
     "output_type": "stream",
     "text": [
      "Defaulting to user installation because normal site-packages is not writeable\n",
      "Requirement already satisfied: numpy in /home/kihoro/.local/lib/python3.10/site-packages (1.26.4)\n",
      "Note: you may need to restart the kernel to use updated packages.\n"
     ]
    }
   ],
   "source": [
    "pip install numpy"
   ]
  },
  {
   "cell_type": "code",
   "execution_count": 1,
   "id": "ae5356ae-74de-4d5a-b8c3-e057a5333d79",
   "metadata": {},
   "outputs": [
    {
     "data": {
      "text/plain": [
       "'e'"
      ]
     },
     "execution_count": 1,
     "metadata": {},
     "output_type": "execute_result"
    }
   ],
   "source": [
    "S = [['him', 'sell'], [90, 28, 43]]\n",
    "\n",
    "S[0][1][1]"
   ]
  },
  {
   "cell_type": "code",
   "execution_count": 8,
   "id": "a31b27d4-047c-46bc-9234-b0819cc94675",
   "metadata": {},
   "outputs": [
    {
     "data": {
      "image/png": "[encoded data removed]",
      "text/plain": [
       "<Figure size 640x480 with 1 Axes>"
      ]
     },
     "metadata": {},
     "output_type": "display_data"
    }
   ],
   "source": [
    "import seaborn as sns\n",
    "\n",
    "import matplotlib.pyplot as plt\n",
    "\n",
    "import pandas as pd\n",
    "\n",
    "data = pd.DataFrame({\n",
    "\n",
    "    'Yield_of_maize_kgs': [250, 300, 350, 400, 450],\n",
    "\n",
    "    'Average_temperature': [18, 30, 21, 25, 27]\n",
    "\n",
    "})\n",
    "\n",
    "sns.scatterplot(x='Yield_of_maize_kgs', y='Average_temperature', data = data)\n",
    "\n",
    "plt.title('Effect of temperature on maize yield')\n",
    "\n",
    "plt.show()"
   ]
  },
  {
   "cell_type": "code",
   "execution_count": 9,
   "id": "904e025b-06ae-4aff-a78b-e0a400ab363a",
   "metadata": {},
   "outputs": [
    {
     "data": {
      "text/plain": [
       "[1, 9, 25, 49, 81]"
      ]
     },
     "execution_count": 9,
     "metadata": {},
     "output_type": "execute_result"
    }
   ],
   "source": [
    "[i**2 for i in range(1,11,2)]"
   ]
  },
  {
   "cell_type": "code",
   "execution_count": 12,
   "id": "b91bbaad-d283-44f2-bed1-20b19d56203c",
   "metadata": {},
   "outputs": [
    {
     "data": {
      "text/plain": [
       "{1: 1, 2: 4, 3: 9, 4: 16, 5: 25}"
      ]
     },
     "execution_count": 12,
     "metadata": {},
     "output_type": "execute_result"
    }
   ],
   "source": [
    "s={x:x**2 for x in range(1,6)}\n",
    "s"
   ]
  },
  {
   "cell_type": "code",
   "execution_count": 11,
   "id": "355fd5d7-b407-4a4a-a1bf-dfbbc11ff9c6",
   "metadata": {},
   "outputs": [
    {
     "data": {
      "text/plain": [
       "False"
      ]
     },
     "execution_count": 11,
     "metadata": {},
     "output_type": "execute_result"
    }
   ],
   "source": [
    "False and True"
   ]
  },
  {
   "cell_type": "code",
   "execution_count": 3,
   "id": "254ec3e3-023a-497c-b8ce-6bf101e47985",
   "metadata": {},
   "outputs": [
    {
     "name": "stdout",
     "output_type": "stream",
     "text": [
      "Defaulting to user installation because normal site-packages is not writeable\n",
      "Collecting sklearn\n",
      "  Using cached sklearn-0.0.post12.tar.gz (2.6 kB)\n",
      "  Preparing metadata (setup.py) ... \u001b[?25lerror\n",
      "  \u001b[1;31merror\u001b[0m: \u001b[1msubprocess-exited-with-error\u001b[0m\n",
      "  \n",
      "  \u001b[31m×\u001b[0m \u001b[32mpython setup.py egg_info\u001b[0m did not run successfully.\n",
      "  \u001b[31m│\u001b[0m exit code: \u001b[1;36m1\u001b[0m\n",
      "  \u001b[31m╰─>\u001b[0m \u001b[31m[15 lines of output]\u001b[0m\n",
      "  \u001b[31m   \u001b[0m The 'sklearn' PyPI package is deprecated, use 'scikit-learn'\n",
      "  \u001b[31m   \u001b[0m rather than 'sklearn' for pip commands.\n",
      "  \u001b[31m   \u001b[0m \n",
      "  \u001b[31m   \u001b[0m Here is how to fix this error in the main use cases:\n",
      "  \u001b[31m   \u001b[0m - use 'pip install scikit-learn' rather than 'pip install sklearn'\n",
      "  \u001b[31m   \u001b[0m - replace 'sklearn' by 'scikit-learn' in your pip requirements files\n",
      "  \u001b[31m   \u001b[0m   (requirements.txt, setup.py, setup.cfg, Pipfile, etc ...)\n",
      "  \u001b[31m   \u001b[0m - if the 'sklearn' package is used by one of your dependencies,\n",
      "  \u001b[31m   \u001b[0m   it would be great if you take some time to track which package uses\n",
      "  \u001b[31m   \u001b[0m   'sklearn' instead of 'scikit-learn' and report it to their issue tracker\n",
      "  \u001b[31m   \u001b[0m - as a last resort, set the environment variable\n",
      "  \u001b[31m   \u001b[0m   SKLEARN_ALLOW_DEPRECATED_SKLEARN_PACKAGE_INSTALL=True to avoid this error\n",
      "  \u001b[31m   \u001b[0m \n",
      "  \u001b[31m   \u001b[0m More information is available at\n",
      "  \u001b[31m   \u001b[0m https://github.com/scikit-learn/sklearn-pypi-package\n",
      "  \u001b[31m   \u001b[0m \u001b[31m[end of output]\u001b[0m\n",
      "  \n",
      "  \u001b[1;35mnote\u001b[0m: This error originates from a subprocess, and is likely not a problem with pip.\n",
      "\u001b[1;31merror\u001b[0m: \u001b[1mmetadata-generation-failed\u001b[0m\n",
      "\n",
      "\u001b[31m×\u001b[0m Encountered error while generating package metadata.\n",
      "\u001b[31m╰─>\u001b[0m See above for output.\n",
      "\n",
      "\u001b[1;35mnote\u001b[0m: This is an issue with the package mentioned above, not pip.\n",
      "\u001b[1;36mhint\u001b[0m: See above for details.\n",
      "\u001b[?25h"
     ]
    }
   ],
   "source": [
    "pip install scikit-learn\n"
   ]
  },
  {
   "cell_type": "code",
   "execution_count": 2,
   "id": "972a0020-2a06-484e-aa0e-f44d24392050",
   "metadata": {},
   "outputs": [
    {
     "name": "stdout",
     "output_type": "stream",
     "text": [
      "Defaulting to user installation because normal site-packages is not writeable\n",
      "\u001b[31mERROR: Could not find a version that satisfies the requirement field_data_processor (from versions: none)\u001b[0m\u001b[31m\n",
      "\u001b[0m\u001b[31mERROR: No matching distribution found for field_data_processor\u001b[0m\u001b[31m\n",
      "\u001b[0m"
     ]
    }
   ],
   "source": [
    "!pip install field_data_processor\n"
   ]
  },
  {
   "cell_type": "code",
   "execution_count": 3,
   "id": "97cccd52-05c2-4882-9235-08f6d42bedf3",
   "metadata": {},
   "outputs": [
    {
     "name": "stdout",
     "output_type": "stream",
     "text": [
      "\u001b[31mERROR: XMLRPC request failed [code: -32500]\n",
      "RuntimeError: PyPI no longer supports 'pip search' (or XML-RPC search). Please use https://pypi.org/search (via a browser) instead. See https://warehouse.pypa.io/api-reference/xml-rpc.html#deprecated-methods for more information.\u001b[0m\u001b[31m\n",
      "\u001b[0mNote: you may need to restart the kernel to use updated packages.\n"
     ]
    }
   ],
   "source": [
    "pip search field_data_processor\n"
   ]
  },
  {
   "cell_type": "code",
   "execution_count": 4,
   "id": "a98dcc74-072f-46f2-b5e1-2f82b785c4df",
   "metadata": {},
   "outputs": [
    {
     "name": "stdout",
     "output_type": "stream",
     "text": [
      "Defaulting to user installation because normal site-packages is not writeable\n",
      "\u001b[31mERROR: Could not find a version that satisfies the requirement field_data_processor (from versions: none)\u001b[0m\u001b[31m\n",
      "\u001b[0m\u001b[31mERROR: No matching distribution found for field_data_processor\u001b[0m\u001b[31m\n",
      "\u001b[0mNote: you may need to restart the kernel to use updated packages.\n"
     ]
    }
   ],
   "source": [
    "pip install field_data_processor\n"
   ]
  },
  {
   "cell_type": "code",
   "execution_count": null,
   "id": "38b393fe-f9e1-4b88-bfaf-8e8d21668103",
   "metadata": {},
   "outputs": [],
   "source": []
  }
 ],
 "metadata": {
  "kernelspec": {
   "display_name": "Python 3 (ipykernel)",
   "language": "python",
   "name": "python3"
  },
  "language_info": {
   "codemirror_mode": {
    "name": "ipython",
    "version": 3
   },
   "file_extension": ".py",
   "mimetype": "text/x-python",
   "name": "python",
   "nbconvert_exporter": "python",
   "pygments_lexer": "ipython3",
   "version": "3.10.12"
  }
 },
 "nbformat": 4,
 "nbformat_minor": 5
}
