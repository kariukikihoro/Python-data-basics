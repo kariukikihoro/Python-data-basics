{
 "cells": [
  {
   "cell_type": "code",
   "execution_count": 3,
   "id": "743493b3-f212-4b3c-b810-f77dae256f5b",
   "metadata": {},
   "outputs": [
    {
     "name": "stdout",
     "output_type": "stream",
     "text": [
      "      name  score  rank\n",
      "0    Alice      3   2.0\n",
      "1      Bob      5   1.0\n",
      "2  Charlie      2   3.0\n"
     ]
    }
   ],
   "source": [
    "import pandas as pd\n",
    "\n",
    "def rank_by_column(df, column_to_rank, ascending=False):\n",
    "    \"\"\"Ranks values in a DataFrame column, with the highest value getting the top rank.\n",
    "\n",
    "    Args:\n",
    "        df: The pandas DataFrame.\n",
    "        column_to_rank: The name of the column to rank by.\n",
    "        ascending: If True, ranks in ascending order (lowest first). \n",
    "                   If False, ranks in descending order (highest first).\n",
    "\n",
    "    Returns:\n",
    "        A new pandas Series containing the ranks.\n",
    "    \"\"\"\n",
    "\n",
    "    df['rank'] = df[column_to_rank].rank(ascending=ascending, method='dense')\n",
    "    return df['rank']\n",
    "\n",
    "# Example usage\n",
    "df = pd.DataFrame({'name': ['Alice', 'Bob', 'Charlie'], 'score': [3, 5, 2]})\n",
    "df['rank'] = rank_by_column(df, 'score', ascending=False)\n",
    "print(df)\n"
   ]
  },
  {
   "cell_type": "code",
   "execution_count": 4,
   "id": "387a5994-fd47-4fdb-b9bc-a0efe2588b16",
   "metadata": {},
   "outputs": [
    {
     "name": "stdout",
     "output_type": "stream",
     "text": [
      "[5, 1, 3, 2, 4]\n"
     ]
    }
   ],
   "source": [
    "\n",
    "def rank_by_highest_value(values):\n",
    "    # Sort values in descending order while keeping track of original indices\n",
    "    sorted_indices = sorted(range(len(values)), key=lambda k: values[k], reverse=True)\n",
    "\n",
    "    # Create an empty ranking list of the same length as values\n",
    "    ranking = [0] * len(values)\n",
    "\n",
    "    # Assign ranks based on the order in sorted_indices\n",
    "    for rank, index in enumerate(sorted_indices, 1):\n",
    "        ranking[index] = rank\n",
    "\n",
    "    return ranking\n",
    "\n",
    "# Test\n",
    "scores = [50, 90, 80, 90, 60]\n",
    "print(rank_by_highest_value(scores))"
   ]
  },
  {
   "cell_type": "code",
   "execution_count": 5,
   "id": "4b97168d-7c26-42ac-8f4a-6f9297561a1a",
   "metadata": {},
   "outputs": [
    {
     "name": "stdout",
     "output_type": "stream",
     "text": [
      "[5, 1, 3, 2, 4]\n"
     ]
    }
   ],
   "source": [
    "\n",
    "def rank_by_highest_value(values):\n",
    "    # Sort values in descending order while keeping track of original indices\n",
    "    sorted_indices = sorted(range(len(values)), key=lambda k: values[k], reverse=True)\n",
    "\n",
    "    # Create an empty ranking list of the same length as values\n",
    "    ranking = [0] * len(values)\n",
    "\n",
    "    # Assign ranks based on the order in sorted_indices\n",
    "    for rank, index in enumerate(sorted_indices, 1):\n",
    "        ranking[index] = rank\n",
    "\n",
    "    return ranking\n",
    "\n",
    "# Test\n",
    "scores = [50, 90, 80, 90, 60]\n",
    "print(rank_by_highest_value(scores))"
   ]
  },
  {
   "cell_type": "code",
   "execution_count": 6,
   "id": "0630d882-3f94-43c1-beb4-2d8b5d26f01b",
   "metadata": {},
   "outputs": [
    {
     "name": "stdout",
     "output_type": "stream",
     "text": [
      "    Name  Score  Ranking\n",
      "0   John     85    Other\n",
      "1  Alice     92  Highest\n",
      "2    Bob     78    Other\n",
      "3    Eve     92  Highest\n"
     ]
    }
   ],
   "source": [
    "import pandas as pd\n",
    "\n",
    "def rank_based_on_highest_value(dataframe, value_column, rank_column):\n",
    "    \"\"\"\n",
    "    Assigns rankings to rows in a DataFrame based on the highest values in another column.\n",
    "\n",
    "    Parameters:\n",
    "    - dataframe: pandas DataFrame\n",
    "    - value_column: Name of the column containing values for ranking\n",
    "    - rank_column: Name of the column to store the rankings\n",
    "    \"\"\"\n",
    "    # Check if the DataFrame is not empty\n",
    "    if dataframe.empty:\n",
    "        print(\"DataFrame is empty. Cannot perform ranking.\")\n",
    "        return\n",
    "\n",
    "    # Get the index of the row with the highest value in the specified column\n",
    "    max_index = dataframe[value_column].idxmax()\n",
    "\n",
    "    # Create a new column for rankings and assign values based on the highest value\n",
    "    dataframe[rank_column] = dataframe[value_column].apply(lambda x: \"Highest\" if x == dataframe.at[max_index, value_column] else \"Other\")\n",
    "\n",
    "# Example usage:\n",
    "data = {\n",
    "    'Name': ['John', 'Alice', 'Bob', 'Eve'],\n",
    "    'Score': [85, 92, 78, 92]\n",
    "}\n",
    "\n",
    "df = pd.DataFrame(data)\n",
    "rank_based_on_highest_value(df, 'Score', 'Ranking')\n",
    "\n",
    "# Print the DataFrame with rankings\n",
    "print(df)\n"
   ]
  },
  {
   "cell_type": "code",
   "execution_count": null,
   "id": "5df7b686-3295-48a2-a66c-0d89ec57d1db",
   "metadata": {},
   "outputs": [],
   "source": []
  }
 ],
 "metadata": {
  "kernelspec": {
   "display_name": "Python 3 (ipykernel)",
   "language": "python",
   "name": "python3"
  },
  "language_info": {
   "codemirror_mode": {
    "name": "ipython",
    "version": 3
   },
   "file_extension": ".py",
   "mimetype": "text/x-python",
   "name": "python",
   "nbconvert_exporter": "python",
   "pygments_lexer": "ipython3",
   "version": "3.8.10"
  }
 },
 "nbformat": 4,
 "nbformat_minor": 5
}
