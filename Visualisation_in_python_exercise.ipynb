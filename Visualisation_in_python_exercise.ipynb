{
 "cells": [
  {
   "cell_type": "markdown",
   "id": "cd88ea27",
   "metadata": {},
   "source": [
    "<div align=\"center\" style=\" font-size: 80%; text-align: center; margin: 0 auto\">\n",
    "<img src=\"https://raw.githubusercontent.com/Explore-AI/Pictures/master/Python-Notebook-Banners/Exercise.png\"  style=\"display: block; margin-left: auto; margin-right: auto;\";/>\n",
    "</div>"
   ]
  },
  {
   "attachments": {},
   "cell_type": "markdown",
   "id": "f662d169",
   "metadata": {},
   "source": [
    "# Exercise: Visualisation in Python\n",
    "© ExploreAI Academy"
   ]
  },
  {
   "attachments": {},
   "cell_type": "markdown",
   "id": "26af890c",
   "metadata": {},
   "source": [
    "In this exercise, we will practise and reinforce all that we have learned about data visualisation in Python."
   ]
  },
  {
   "attachments": {},
   "cell_type": "markdown",
   "id": "2d230d14",
   "metadata": {
    "tags": []
   },
   "source": [
    "## Learning objectives\n",
    "\n",
    "By the end of this exercise, you should be able to:\n",
    "* Navigate a Pandas DataFrame.\n",
    "* Slice, group, sort, and sum data in a DataFrame to create insightful visualisations.\n",
    "* Produce basic and advanced visualisations in Python.\n",
    "\n"
   ]
  },
  {
   "cell_type": "markdown",
   "id": "de45a481",
   "metadata": {},
   "source": [
    "## Exercises"
   ]
  },
  {
   "attachments": {},
   "cell_type": "markdown",
   "id": "a87f645e",
   "metadata": {},
   "source": [
    "We are the team managers of a soccer club and are keen on leveraging data to gain insights into the performance of our players. The dataset at our disposal contains valuable information about each player's skills, age, and overall rating. As managers, we have specific questions in mind that will help us make informed decisions and strategies for the upcoming season.\n",
    "\n",
    "Let's start by importing the libraries we're going to need and loading the dataset."
   ]
  },
  {
   "cell_type": "code",
   "execution_count": 1,
   "id": "09e197cf",
   "metadata": {},
   "outputs": [],
   "source": [
    "import pandas as pd\n",
    "import numpy as np\n",
    "import matplotlib.pyplot as plt\n",
    "import seaborn as sns"
   ]
  },
  {
   "cell_type": "code",
   "execution_count": 2,
   "id": "d8a39969",
   "metadata": {},
   "outputs": [
    {
     "data": {
      "text/html": [
       "<div>\n",
       "<style scoped>\n",
       "    .dataframe tbody tr th:only-of-type {\n",
       "        vertical-align: middle;\n",
       "    }\n",
       "\n",
       "    .dataframe tbody tr th {\n",
       "        vertical-align: top;\n",
       "    }\n",
       "\n",
       "    .dataframe thead th {\n",
       "        text-align: right;\n",
       "    }\n",
       "</style>\n",
       "<table border=\"1\" class=\"dataframe\">\n",
       "  <thead>\n",
       "    <tr style=\"text-align: right;\">\n",
       "      <th></th>\n",
       "      <th>Name</th>\n",
       "      <th>Age</th>\n",
       "      <th>Nationality</th>\n",
       "      <th>Overall</th>\n",
       "      <th>Acceleration</th>\n",
       "      <th>Aggression</th>\n",
       "      <th>Agility</th>\n",
       "      <th>Balance</th>\n",
       "      <th>Ball control</th>\n",
       "      <th>Composure</th>\n",
       "      <th>...</th>\n",
       "      <th>Short passing</th>\n",
       "      <th>Shot power</th>\n",
       "      <th>Sliding tackle</th>\n",
       "      <th>Sprint speed</th>\n",
       "      <th>Stamina</th>\n",
       "      <th>Standing tackle</th>\n",
       "      <th>Strength</th>\n",
       "      <th>Vision</th>\n",
       "      <th>Volleys</th>\n",
       "      <th>Preferred Positions</th>\n",
       "    </tr>\n",
       "  </thead>\n",
       "  <tbody>\n",
       "    <tr>\n",
       "      <th>0</th>\n",
       "      <td>Cristiano Ronaldo</td>\n",
       "      <td>32</td>\n",
       "      <td>Portugal</td>\n",
       "      <td>94</td>\n",
       "      <td>89</td>\n",
       "      <td>63</td>\n",
       "      <td>89</td>\n",
       "      <td>63</td>\n",
       "      <td>93</td>\n",
       "      <td>95</td>\n",
       "      <td>...</td>\n",
       "      <td>83</td>\n",
       "      <td>94</td>\n",
       "      <td>23</td>\n",
       "      <td>91</td>\n",
       "      <td>92</td>\n",
       "      <td>31</td>\n",
       "      <td>80</td>\n",
       "      <td>85</td>\n",
       "      <td>88</td>\n",
       "      <td>ST LW</td>\n",
       "    </tr>\n",
       "    <tr>\n",
       "      <th>1</th>\n",
       "      <td>L. Messi</td>\n",
       "      <td>30</td>\n",
       "      <td>Argentina</td>\n",
       "      <td>93</td>\n",
       "      <td>92</td>\n",
       "      <td>48</td>\n",
       "      <td>90</td>\n",
       "      <td>95</td>\n",
       "      <td>95</td>\n",
       "      <td>96</td>\n",
       "      <td>...</td>\n",
       "      <td>88</td>\n",
       "      <td>85</td>\n",
       "      <td>26</td>\n",
       "      <td>87</td>\n",
       "      <td>73</td>\n",
       "      <td>28</td>\n",
       "      <td>59</td>\n",
       "      <td>90</td>\n",
       "      <td>85</td>\n",
       "      <td>RW</td>\n",
       "    </tr>\n",
       "    <tr>\n",
       "      <th>2</th>\n",
       "      <td>Neymar</td>\n",
       "      <td>25</td>\n",
       "      <td>Brazil</td>\n",
       "      <td>92</td>\n",
       "      <td>94</td>\n",
       "      <td>56</td>\n",
       "      <td>96</td>\n",
       "      <td>82</td>\n",
       "      <td>95</td>\n",
       "      <td>92</td>\n",
       "      <td>...</td>\n",
       "      <td>81</td>\n",
       "      <td>80</td>\n",
       "      <td>33</td>\n",
       "      <td>90</td>\n",
       "      <td>78</td>\n",
       "      <td>24</td>\n",
       "      <td>53</td>\n",
       "      <td>80</td>\n",
       "      <td>83</td>\n",
       "      <td>LW</td>\n",
       "    </tr>\n",
       "    <tr>\n",
       "      <th>3</th>\n",
       "      <td>L. Suárez</td>\n",
       "      <td>30</td>\n",
       "      <td>Uruguay</td>\n",
       "      <td>92</td>\n",
       "      <td>88</td>\n",
       "      <td>78</td>\n",
       "      <td>86</td>\n",
       "      <td>60</td>\n",
       "      <td>91</td>\n",
       "      <td>83</td>\n",
       "      <td>...</td>\n",
       "      <td>83</td>\n",
       "      <td>87</td>\n",
       "      <td>38</td>\n",
       "      <td>77</td>\n",
       "      <td>89</td>\n",
       "      <td>45</td>\n",
       "      <td>80</td>\n",
       "      <td>84</td>\n",
       "      <td>88</td>\n",
       "      <td>ST</td>\n",
       "    </tr>\n",
       "    <tr>\n",
       "      <th>4</th>\n",
       "      <td>M. Neuer</td>\n",
       "      <td>31</td>\n",
       "      <td>Germany</td>\n",
       "      <td>92</td>\n",
       "      <td>58</td>\n",
       "      <td>29</td>\n",
       "      <td>52</td>\n",
       "      <td>35</td>\n",
       "      <td>48</td>\n",
       "      <td>70</td>\n",
       "      <td>...</td>\n",
       "      <td>55</td>\n",
       "      <td>25</td>\n",
       "      <td>11</td>\n",
       "      <td>61</td>\n",
       "      <td>44</td>\n",
       "      <td>10</td>\n",
       "      <td>83</td>\n",
       "      <td>70</td>\n",
       "      <td>11</td>\n",
       "      <td>GK</td>\n",
       "    </tr>\n",
       "    <tr>\n",
       "      <th>...</th>\n",
       "      <td>...</td>\n",
       "      <td>...</td>\n",
       "      <td>...</td>\n",
       "      <td>...</td>\n",
       "      <td>...</td>\n",
       "      <td>...</td>\n",
       "      <td>...</td>\n",
       "      <td>...</td>\n",
       "      <td>...</td>\n",
       "      <td>...</td>\n",
       "      <td>...</td>\n",
       "      <td>...</td>\n",
       "      <td>...</td>\n",
       "      <td>...</td>\n",
       "      <td>...</td>\n",
       "      <td>...</td>\n",
       "      <td>...</td>\n",
       "      <td>...</td>\n",
       "      <td>...</td>\n",
       "      <td>...</td>\n",
       "      <td>...</td>\n",
       "    </tr>\n",
       "    <tr>\n",
       "      <th>17976</th>\n",
       "      <td>A. Kelsey</td>\n",
       "      <td>17</td>\n",
       "      <td>England</td>\n",
       "      <td>46</td>\n",
       "      <td>24</td>\n",
       "      <td>16</td>\n",
       "      <td>38</td>\n",
       "      <td>26</td>\n",
       "      <td>12</td>\n",
       "      <td>23</td>\n",
       "      <td>...</td>\n",
       "      <td>19</td>\n",
       "      <td>19</td>\n",
       "      <td>10</td>\n",
       "      <td>32</td>\n",
       "      <td>28</td>\n",
       "      <td>11</td>\n",
       "      <td>50</td>\n",
       "      <td>26</td>\n",
       "      <td>6</td>\n",
       "      <td>GK</td>\n",
       "    </tr>\n",
       "    <tr>\n",
       "      <th>17977</th>\n",
       "      <td>B. Richardson</td>\n",
       "      <td>47</td>\n",
       "      <td>England</td>\n",
       "      <td>46</td>\n",
       "      <td>25</td>\n",
       "      <td>44</td>\n",
       "      <td>35</td>\n",
       "      <td>44</td>\n",
       "      <td>22</td>\n",
       "      <td>44</td>\n",
       "      <td>...</td>\n",
       "      <td>12</td>\n",
       "      <td>13</td>\n",
       "      <td>13</td>\n",
       "      <td>25</td>\n",
       "      <td>32</td>\n",
       "      <td>12</td>\n",
       "      <td>47</td>\n",
       "      <td>17</td>\n",
       "      <td>12</td>\n",
       "      <td>GK</td>\n",
       "    </tr>\n",
       "    <tr>\n",
       "      <th>17978</th>\n",
       "      <td>J. Young</td>\n",
       "      <td>17</td>\n",
       "      <td>Scotland</td>\n",
       "      <td>46</td>\n",
       "      <td>66</td>\n",
       "      <td>26</td>\n",
       "      <td>60</td>\n",
       "      <td>77</td>\n",
       "      <td>41</td>\n",
       "      <td>50</td>\n",
       "      <td>...</td>\n",
       "      <td>42</td>\n",
       "      <td>42</td>\n",
       "      <td>14</td>\n",
       "      <td>51</td>\n",
       "      <td>33</td>\n",
       "      <td>17</td>\n",
       "      <td>32</td>\n",
       "      <td>37</td>\n",
       "      <td>33</td>\n",
       "      <td>ST</td>\n",
       "    </tr>\n",
       "    <tr>\n",
       "      <th>17979</th>\n",
       "      <td>J. Lundstram</td>\n",
       "      <td>18</td>\n",
       "      <td>England</td>\n",
       "      <td>46</td>\n",
       "      <td>57</td>\n",
       "      <td>46</td>\n",
       "      <td>58</td>\n",
       "      <td>74</td>\n",
       "      <td>43</td>\n",
       "      <td>45</td>\n",
       "      <td>...</td>\n",
       "      <td>49</td>\n",
       "      <td>43</td>\n",
       "      <td>47</td>\n",
       "      <td>58</td>\n",
       "      <td>49</td>\n",
       "      <td>48</td>\n",
       "      <td>46</td>\n",
       "      <td>51</td>\n",
       "      <td>25</td>\n",
       "      <td>CM</td>\n",
       "    </tr>\n",
       "    <tr>\n",
       "      <th>17980</th>\n",
       "      <td>L. Sackey</td>\n",
       "      <td>18</td>\n",
       "      <td>Ghana</td>\n",
       "      <td>46</td>\n",
       "      <td>48</td>\n",
       "      <td>52</td>\n",
       "      <td>49</td>\n",
       "      <td>47</td>\n",
       "      <td>32</td>\n",
       "      <td>33</td>\n",
       "      <td>...</td>\n",
       "      <td>31</td>\n",
       "      <td>21</td>\n",
       "      <td>43</td>\n",
       "      <td>49</td>\n",
       "      <td>55</td>\n",
       "      <td>44</td>\n",
       "      <td>67</td>\n",
       "      <td>22</td>\n",
       "      <td>19</td>\n",
       "      <td>ST CB</td>\n",
       "    </tr>\n",
       "  </tbody>\n",
       "</table>\n",
       "<p>17981 rows × 39 columns</p>\n",
       "</div>"
      ],
      "text/plain": [
       "                    Name  Age Nationality  Overall Acceleration Aggression  \\\n",
       "0      Cristiano Ronaldo   32    Portugal       94       89         63       \n",
       "1               L. Messi   30   Argentina       93       92         48       \n",
       "2                 Neymar   25      Brazil       92       94         56       \n",
       "3              L. Suárez   30     Uruguay       92       88         78       \n",
       "4               M. Neuer   31     Germany       92       58         29       \n",
       "...                  ...  ...         ...      ...          ...        ...   \n",
       "17976          A. Kelsey   17     England       46       24         16       \n",
       "17977      B. Richardson   47     England       46       25         44       \n",
       "17978           J. Young   17    Scotland       46       66         26       \n",
       "17979       J. Lundstram   18     England       46       57         46       \n",
       "17980          L. Sackey   18       Ghana       46       48         52       \n",
       "\n",
       "      Agility Balance Ball control Composure  ... Short passing Shot power  \\\n",
       "0      89      63           93        95      ...        83         94       \n",
       "1      90      95           95        96      ...        88         85       \n",
       "2      96      82           95        92      ...        81         80       \n",
       "3      86      60           91        83      ...        83         87       \n",
       "4      52      35           48        70      ...        55         25       \n",
       "...       ...     ...          ...       ...  ...           ...        ...   \n",
       "17976  38      26           12        23      ...        19         19       \n",
       "17977  35      44           22        44      ...        12         13       \n",
       "17978  60      77           41        50      ...        42         42       \n",
       "17979  58      74           43        45      ...        49         43       \n",
       "17980  49      47           32        33      ...        31         21       \n",
       "\n",
       "      Sliding tackle Sprint speed Stamina Standing tackle Strength  Vision  \\\n",
       "0             23           91      92              31       80      85       \n",
       "1             26           87      73              28       59      90       \n",
       "2             33           90      78              24       53      80       \n",
       "3             38           77      89              45       80      84       \n",
       "4             11           61      44              10       83      70       \n",
       "...              ...          ...     ...             ...      ...     ...   \n",
       "17976         10           32      28              11       50      26       \n",
       "17977         13           25      32              12       47      17       \n",
       "17978         14           51      33              17       32      37       \n",
       "17979         47           58      49              48       46      51       \n",
       "17980         43           49      55              44       67      22       \n",
       "\n",
       "      Volleys Preferred Positions  \n",
       "0      88                  ST LW   \n",
       "1      85                     RW   \n",
       "2      83                     LW   \n",
       "3      88                     ST   \n",
       "4      11                     GK   \n",
       "...       ...                 ...  \n",
       "17976   6                     GK   \n",
       "17977  12                     GK   \n",
       "17978  33                     ST   \n",
       "17979  25                     CM   \n",
       "17980  19                  ST CB   \n",
       "\n",
       "[17981 rows x 39 columns]"
      ]
     },
     "execution_count": 2,
     "metadata": {},
     "output_type": "execute_result"
    }
   ],
   "source": [
    "soccer_df = pd.read_csv(\"https://raw.githubusercontent.com/Explore-AI/Public-Data/master/Data/fundamentals/football_players.csv\",low_memory=False)\n",
    "soccer_df"
   ]
  },
  {
   "attachments": {},
   "cell_type": "markdown",
   "id": "cfafc3bf",
   "metadata": {},
   "source": [
    "Let's change the following columns to numerical values."
   ]
  },
  {
   "cell_type": "code",
   "execution_count": 3,
   "id": "659da614",
   "metadata": {},
   "outputs": [],
   "source": [
    "cols = ['Age', 'Overall', 'Acceleration', 'Aggression',\n",
    "       'Agility', 'Balance', 'Ball control', 'Composure', 'Crossing', 'Curve',\n",
    "       'Dribbling', 'Finishing', 'Free kick accuracy', 'GK diving',\n",
    "       'GK handling', 'GK kicking', 'GK positioning', 'GK reflexes',\n",
    "       'Heading accuracy', 'Interceptions', 'Jumping', 'Long passing',\n",
    "       'Long shots', 'Marking', 'Penalties', 'Positioning', 'Reactions',\n",
    "       'Short passing', 'Shot power', 'Sliding tackle', 'Sprint speed',\n",
    "       'Stamina', 'Standing tackle', 'Strength', 'Vision', 'Volleys']\n",
    "\n",
    "soccer_df[cols] = soccer_df[cols].apply(pd.to_numeric, errors='coerce', axis=1)"
   ]
  },
  {
   "attachments": {},
   "cell_type": "markdown",
   "id": "5a0b7683",
   "metadata": {
    "tags": []
   },
   "source": [
    "### Exercise 1\n",
    "\n",
    "Now that we've loaded the dataset, we are curious about how players from different nationalities perform on average. We want to compare the overall ratings across the countries producing the highest number of players. We decide to create a bar graph to compare the average overall ratings of players, specifically for the top five nationalities, **based on the total number of players per country**. This insight will help us identify potential strengths within our team.\n",
    "\n",
    "Create a bar graph using `Matplotlib` to represent the average overall rating for players from the top five nationalities (**based on the number of players in each nationality**). Be sure to customise the graph as you see fit.\n"
   ]
  },
  {
   "cell_type": "code",
   "execution_count": 31,
   "id": "c2ee76ec",
   "metadata": {},
   "outputs": [
    {
     "data": {
      "text/plain": [
       "<function matplotlib.pyplot.show(close=None, block=None)>"
      ]
     },
     "execution_count": 31,
     "metadata": {},
     "output_type": "execute_result"
    },
    {
     "data": {
      "image/png": "[encoded data removed]",
      "text/plain": [
       "<Figure size 1000x600 with 1 Axes>"
      ]
     },
     "metadata": {},
     "output_type": "display_data"
    }
   ],
   "source": [
    "# insert code here\n",
    "ranked_c = soccer_df.groupby(\"Nationality\").size().sort_values(ascending = False).head(5).index\n",
    "ov_c_df = soccer_df[soccer_df[\"Nationality\"].isin(ranked_c)]\n",
    "ov_c_avg = ov_c_df.groupby(\"Nationality\")[\"Overall\"].mean()\n",
    "\n",
    "plt.figure(figsize = (10,6))\n",
    "ov_c_avg.sort_values().plot(kind = \"barh\")\n",
    "plt.ylabel(\"Hello\")\n",
    "plt.xlabel(\"Hello x\")\n",
    "plt.show"
   ]
  },
  {
   "attachments": {},
   "cell_type": "markdown",
   "id": "dc9b7dc6",
   "metadata": {},
   "source": [
    "### Exercise 2\n",
    "\n",
    "As we delve deeper into player analysis, we wonder about the age distribution of our team. A pie chart showcasing the percentage distribution of player ages will provide a clear picture. Understanding the age demographics helps us plan for the team's future and potential recruitment strategies. We have decided to categorise players into specific age groups, specifically `[15-19]`, `[20-24]`, `[25-29]`, `[30-34]`, and `[35+]`.\n",
    "\n",
    "Generate a pie chart to visualise the percentage distribution of player ages. \n",
    "\n",
    "**Hint**: `pd.cut` is a function in the Pandas library designed for binning or categorising continuous data into discrete intervals, also known as bins. This function is particularly useful when dealing with numerical data that we want to group into meaningful ranges. We can use `pd.cut` to help us create a more interpretable representation of player ages by categorising them into specific age groups.\n",
    "\n",
    "**Syntax**: \n",
    "\n",
    "`pd.cut(x, bins)`\n",
    "\n",
    "* `x`: The input array or Series that we want to bin.\n",
    "* `bins`: Defines the bin edges. It can be an integer specifying the number of equal-width bins or a sequence specifying the bin edges.\n",
    "\n",
    "Use bins of `[15, 20, 25, 30, 35]` to categorise players into specific age groups before plotting the pie chart.\n"
   ]
  },
  {
   "cell_type": "code",
   "execution_count": null,
   "id": "ae48fab0",
   "metadata": {},
   "outputs": [],
   "source": [
    "# insert code here\n",
    "bin_ =  [15, 20, 25, 30, 35]\n",
    "soccer_df[\"Grouped_Age\"] = pd.cut(soccer_df[\"Age\"], bins=bin_)\n",
    "soccer_df[\"Grouped_Age\"].count_values()."
   ]
  },
  {
   "attachments": {},
   "cell_type": "markdown",
   "id": "c9eda5c9",
   "metadata": {},
   "source": [
    "### Exercise 3\n",
    "\n",
    "To enhance our team's fitness and agility, we decide to explore how certain skills, like `Acceleration` and `Sprint speed`, vary across different age groups. A line graph depicting the trends will guide our training and conditioning strategies for players of different ages.\n",
    "\n",
    "Create a line graph using `Matplotlib` to show the trend of average `Acceleration` and `Sprint speed` across different age groups. Customise the graph appropriately.\n",
    "\n",
    "Assume that the age bins are defined as `[15, 20, 25, 30, 35]`."
   ]
  },
  {
   "cell_type": "code",
   "execution_count": null,
   "id": "b914d003",
   "metadata": {},
   "outputs": [],
   "source": [
    "# insert code here"
   ]
  },
  {
   "attachments": {},
   "cell_type": "markdown",
   "id": "0ad4e908",
   "metadata": {},
   "source": [
    "### Exercise 4\n",
    "\n",
    "Focused on excellence, we narrow our analysis to players from the top three nationalities based on the highest average `Overall` rating. Slicing the dataset, we create a box plot to compare skill distributions, providing a detailed profile of the top-performing players.\n",
    "\n",
    "Slice the dataset to only include players from the **top three nationalities** with the highest average `Overall` rating. Then, create a box plot using Seaborn to compare the distribution of specific skills, including `Dribbling`, `Short passing`, `Shot power`, and `Ball control` for players from these nations."
   ]
  },
  {
   "cell_type": "code",
   "execution_count": null,
   "id": "3a670161",
   "metadata": {},
   "outputs": [],
   "source": [
    "# insert code here"
   ]
  },
  {
   "attachments": {},
   "cell_type": "markdown",
   "id": "6bef84de",
   "metadata": {},
   "source": [
    "### Exercise 5\n",
    "\n",
    "Embracing modern tools, we want to utilise Plotly to create an interactive visualisation. This dynamic plot will empower us to explore the intricate relationships between our categories. We also want to include hover information to add an extra layer of insight for more informed decision-making.\n",
    "\n",
    "Implement an interactive visualisation using Plotly to allow users to explore the relationship between `Strength`, `Vision`, and the `Overall` rating using the **hover information** feature to allow the user to have an interactive view of the data.\n",
    "\n",
    "Arrange the plot as follows:\n",
    "\n",
    "* Place `Strength` on the x-axis.\n",
    "* Place `Vision` on the y-axis.\n",
    "* Colour-code the points to represent the `Overall` rating.\n",
    "* Include a hover that has the name of the player as well as the  `Strength`, `Vision`, and `Overall` ratings for each player."
   ]
  },
  {
   "cell_type": "code",
   "execution_count": null,
   "id": "b874d2c8",
   "metadata": {},
   "outputs": [],
   "source": [
    "# insert code here"
   ]
  },
  {
   "cell_type": "markdown",
   "id": "555dea0d",
   "metadata": {},
   "source": [
    "## Solutions"
   ]
  },
  {
   "attachments": {},
   "cell_type": "markdown",
   "id": "9ff8f391",
   "metadata": {},
   "source": [
    "### Exercise 1"
   ]
  },
  {
   "cell_type": "code",
   "execution_count": null,
   "id": "ad52ad95",
   "metadata": {},
   "outputs": [],
   "source": [
    "# Identify the top five nationalities based on the player count\n",
    "top_nationalities = soccer_df['Nationality'].value_counts().head(5).index\n",
    "\n",
    "# Filter the dataset for players from the top five nationalities\n",
    "top_players_df = soccer_df[soccer_df['Nationality'].isin(top_nationalities)]\n",
    "\n",
    "# Calculate the average overall rating for each nationality\n",
    "avg_ratings = top_players_df.groupby('Nationality')['Overall'].mean()\n",
    "\n",
    "# Plotting the bar graph\n",
    "plt.figure(figsize=(10, 6))\n",
    "avg_ratings.sort_values().plot(kind='barh', color='skyblue')\n",
    "plt.title('Average Overall Rating for Top 5 Nationalities')\n",
    "plt.xlabel('Average Overall Rating')\n",
    "plt.ylabel('Nationality')\n",
    "plt.show()"
   ]
  },
  {
   "attachments": {},
   "cell_type": "markdown",
   "id": "1fbdb88a",
   "metadata": {},
   "source": [
    "As we can see, Spain has the highest overall rating among the top five nationalities, while England has the lowest."
   ]
  },
  {
   "attachments": {},
   "cell_type": "markdown",
   "id": "a10363b6",
   "metadata": {},
   "source": [
    "### Exercise 2\n"
   ]
  },
  {
   "cell_type": "code",
   "execution_count": 32,
   "id": "09386d51",
   "metadata": {},
   "outputs": [
    {
     "data": {
      "image/png": "[encoded data removed]",
      "text/plain": [
       "<Figure size 1000x1000 with 1 Axes>"
      ]
     },
     "metadata": {},
     "output_type": "display_data"
    }
   ],
   "source": [
    "# Bin ages into groups\n",
    "age_bins = [15, 20, 25, 30, 35]\n",
    "soccer_df['Age Group'] = pd.cut(soccer_df['Age'], bins=age_bins)\n",
    "\n",
    "# Plotting the pie chart for age distribution\n",
    "plt.figure(figsize=(10, 10))\n",
    "soccer_df['Age Group'].value_counts().plot(kind='pie', autopct='%1.1f%%', startangle=90)\n",
    "\n",
    "plt.title('Percentage Distribution of Player Age Groups')\n",
    "plt.ylabel('')  # Remove the default 'Age Group' label on the y-axis\n",
    "plt.show()"
   ]
  },
  {
   "attachments": {},
   "cell_type": "markdown",
   "id": "ff325262",
   "metadata": {},
   "source": [
    "As we can see, the 20 to 25 age group accounts for approximately 39% of our players, followed by the 25 to 30 age group at approximately 30% of our player population."
   ]
  },
  {
   "attachments": {},
   "cell_type": "markdown",
   "id": "9b04f54f",
   "metadata": {},
   "source": [
    "### Exercise 3"
   ]
  },
  {
   "cell_type": "code",
   "execution_count": null,
   "id": "d4b3b8c5",
   "metadata": {},
   "outputs": [],
   "source": [
    "# Grouping by age group and calculating average Acceleration and Sprint Speed\n",
    "age_group_stats = soccer_df.groupby('Age Group')[['Acceleration', 'Sprint speed']].mean()\n",
    "\n",
    "# Plotting the line graph\n",
    "plt.figure(figsize=(10, 6))\n",
    "age_group_stats.plot(kind='line', marker='o')\n",
    "plt.title('Average Acceleration and Sprint Speed Across Age Groups')\n",
    "plt.xlabel('Age Group')\n",
    "plt.ylabel('Average Value')\n",
    "plt.show()"
   ]
  },
  {
   "attachments": {},
   "cell_type": "markdown",
   "id": "c98e4a2c",
   "metadata": {},
   "source": [
    "This figure shows that players improve in both Acceleration and Speed from the age of 15 to the age of 30, however, these values appear to decrease as players age beyond the age of 30."
   ]
  },
  {
   "attachments": {},
   "cell_type": "markdown",
   "id": "f5d22631",
   "metadata": {},
   "source": [
    "### Exercise 4"
   ]
  },
  {
   "cell_type": "code",
   "execution_count": null,
   "id": "b1f18e7f",
   "metadata": {},
   "outputs": [],
   "source": [
    "# Find the top three nationalities with the highest average Overall rating\n",
    "top_nationalities = soccer_df.groupby('Nationality')['Overall'].mean().nlargest(3).index\n",
    "\n",
    "# Slice the dataset for players from the top three nationalities\n",
    "top_players_df = soccer_df[soccer_df['Nationality'].isin(top_nationalities)]\n",
    "\n",
    "# Define the specific skills for comparison\n",
    "skills_to_compare = ['Dribbling','Short passing','Shot power', 'Ball control']\n",
    "\n",
    "# Create the box plot\n",
    "plt.figure(figsize=(12, 8))\n",
    "sns.boxplot(x='Nationality', y='value', hue='variable', data=pd.melt(top_players_df, id_vars=['Nationality'], value_vars=skills_to_compare))\n",
    "plt.title('Distribution of Skills for Top 3 Nationalities')\n",
    "plt.xlabel('Nationality')\n",
    "plt.ylabel('Skill Value')\n",
    "plt.show()"
   ]
  },
  {
   "attachments": {},
   "cell_type": "markdown",
   "id": "18a568b7",
   "metadata": {},
   "source": [
    "The resulting plot is a box plot with distinct boxes for each selected skill (i.e. `Dribbling`, `Short passing`, ` Shot power`, `Ball control`) for players from `Syria`, `Cuba`, and `Oman`. The boxes illustrate the interquartile range (IQR) and median, while the whiskers depict the range of values. Outliers can also be seen, giving insights into the variation of these skills among players from different nationalities. Overall, the plot aids in understanding the comparative skill distribution and potential areas for improvement or emphasis in training for players from the identified top-performing nationalities.\n",
    "\n",
    "Interestingly, although `Oman` is one of the top three countries based on overall rating, the values for our chosen categories are so low that they are barely visible on the plot. Could this imply that there are additional factors that determine if a nationality has the highest overall rating?"
   ]
  },
  {
   "attachments": {},
   "cell_type": "markdown",
   "id": "5675480f",
   "metadata": {},
   "source": [
    "### Exercise 5"
   ]
  },
  {
   "cell_type": "code",
   "execution_count": null,
   "id": "16a6582f",
   "metadata": {},
   "outputs": [],
   "source": [
    "import plotly.express as px\n",
    "\n",
    "# Scatter plot using Plotly\n",
    "fig = px.scatter(soccer_df, x='Strength', y='Vision', color='Overall', hover_name='Name',\n",
    "                 title='Interactive Scatter Plot of Strength and Vision vs Overall Rating',\n",
    "                 labels={'Strength': 'Strength Rating', 'Vision': 'Vision Rating', 'Overall': 'Overall Rating'})\n",
    "\n",
    "# Show the interactive plot\n",
    "fig.show()"
   ]
  },
  {
   "attachments": {},
   "cell_type": "markdown",
   "id": "4ec3f49b",
   "metadata": {},
   "source": [
    "The resulting scatter plot provides an interactive visual representation of the relationship between `Strength` and `Vision` ratings concerning the `Overall` rating for each player, seen when we hover over each point on our plot. We are also able to interactively zoom in and out of the data points in the graph. \n",
    "\n",
    "Analyse the plot to identify patterns or clusters, and consider how these two attributes relate to the overall performance of the players."
   ]
  },
  {
   "attachments": {},
   "cell_type": "markdown",
   "id": "1c08d272",
   "metadata": {},
   "source": [
    "# Summary\n",
    "\n",
    "This exercise underscores the symbiotic relationship between data preparation and visualisation. Mastery of both facets empowers us to unleash the full potential of Python's visualisation libraries, creating impactful visuals that tell compelling data stories.\n",
    "\n",
    "As we continue our data science journey, remember that proficiency in data preparation and visualisation techniques is a cornerstone for extracting actionable insights and making informed decisions. Keep honing these skills, explore diverse datasets, and embrace the creative possibilities that effective data visualisation affords."
   ]
  },
  {
   "cell_type": "markdown",
   "id": "26fd094b-0fee-46f1-a4b8-73766813c42b",
   "metadata": {
    "tags": []
   },
   "source": [
    "#  \n",
    "\n",
    "<div align=\"center\" style=\" font-size: 80%; text-align: center; margin: 0 auto\">\n",
    "<img src=\"https://raw.githubusercontent.com/Explore-AI/Pictures/master/ExploreAI_logos/EAI_Blue_Dark.png\"  style=\"width:200px\";/>\n",
    "</div>"
   ]
  }
 ],
 "metadata": {
  "kernelspec": {
   "display_name": "Python 3 (ipykernel)",
   "language": "python",
   "name": "python3"
  },
  "language_info": {
   "codemirror_mode": {
    "name": "ipython",
    "version": 3
   },
   "file_extension": ".py",
   "mimetype": "text/x-python",
   "name": "python",
   "nbconvert_exporter": "python",
   "pygments_lexer": "ipython3",
   "version": "3.8.10"
  }
 },
 "nbformat": 4,
 "nbformat_minor": 5
}
