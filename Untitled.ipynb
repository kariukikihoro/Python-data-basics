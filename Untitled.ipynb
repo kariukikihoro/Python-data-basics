{
 "cells": [
  {
   "cell_type": "code",
   "execution_count": 1,
   "id": "9967bffc-1f63-442d-86c8-63d6dfbc2fc2",
   "metadata": {},
   "outputs": [
    {
     "name": "stdout",
     "output_type": "stream",
     "text": [
      "('B ', 'black')\u001b[0m('W ', 'white')\u001b[0m('B ', 'black')\u001b[0m('W ', 'white')\u001b[0m('B ', 'black')\u001b[0m('W ', 'white')\u001b[0m('B ', 'black')\u001b[0m('W ', 'white')\u001b[0m\n",
      "('W ', 'white')\u001b[0m('B ', 'black')\u001b[0m('W ', 'white')\u001b[0m('B ', 'black')\u001b[0m('W ', 'white')\u001b[0m('B ', 'black')\u001b[0m('W ', 'white')\u001b[0m('B ', 'black')\u001b[0m\n",
      "('B ', 'black')\u001b[0m('W ', 'white')\u001b[0m('B ', 'black')\u001b[0m('W ', 'white')\u001b[0m('B ', 'black')\u001b[0m('W ', 'white')\u001b[0m('B ', 'black')\u001b[0m('W ', 'white')\u001b[0m\n",
      "('W ', 'white')\u001b[0m('B ', 'black')\u001b[0m('W ', 'white')\u001b[0m('B ', 'black')\u001b[0m('W ', 'white')\u001b[0m('B ', 'black')\u001b[0m('W ', 'white')\u001b[0m('B ', 'black')\u001b[0m\n",
      "('B ', 'black')\u001b[0m('W ', 'white')\u001b[0m('B ', 'black')\u001b[0m('W ', 'white')\u001b[0m('B ', 'black')\u001b[0m('W ', 'white')\u001b[0m('B ', 'black')\u001b[0m('W ', 'white')\u001b[0m\n",
      "('W ', 'white')\u001b[0m('B ', 'black')\u001b[0m('W ', 'white')\u001b[0m('B ', 'black')\u001b[0m('W ', 'white')\u001b[0m('B ', 'black')\u001b[0m('W ', 'white')\u001b[0m('B ', 'black')\u001b[0m\n",
      "('B ', 'black')\u001b[0m('W ', 'white')\u001b[0m('B ', 'black')\u001b[0m('W ', 'white')\u001b[0m('B ', 'black')\u001b[0m('W ', 'white')\u001b[0m('B ', 'black')\u001b[0m('W ', 'white')\u001b[0m\n",
      "('W ', 'white')\u001b[0m('B ', 'black')\u001b[0m('W ', 'white')\u001b[0m('B ', 'black')\u001b[0m('W ', 'white')\u001b[0m('B ', 'black')\u001b[0m('W ', 'white')\u001b[0m('B ', 'black')\u001b[0m\n"
     ]
    }
   ],
   "source": [
    "\n",
    "\n",
    "from termcolor import cprint\n",
    "\n",
    "for i in range(0, 8):\n",
    "    for j in range(0, 8):\n",
    "        if (i + j) % 2 == 0:\n",
    "            cprint((\"B \", \"black\"), end=\"\")\n",
    "        else:\n",
    "            cprint((\"W \", \"white\"), end=\"\")\n",
    "    print()"
   ]
  },
  {
   "cell_type": "code",
   "execution_count": 2,
   "id": "3b7095e3-b481-418e-94cb-af53abb06010",
   "metadata": {},
   "outputs": [
    {
     "name": "stdout",
     "output_type": "stream",
     "text": [
      "Collecting termcolor\n",
      "  Downloading termcolor-2.4.0-py3-none-any.whl (7.7 kB)\n",
      "Installing collected packages: termcolor\n",
      "Successfully installed termcolor-2.4.0\n",
      "Note: you may need to restart the kernel to use updated packages.\n"
     ]
    }
   ],
   "source": [
    "pip install termcolor"
   ]
  },
  {
   "cell_type": "code",
   "execution_count": 2,
   "id": "89a813aa-131c-4442-bf1c-b092112d57bb",
   "metadata": {},
   "outputs": [
    {
     "name": "stdout",
     "output_type": "stream",
     "text": [
      "\u001b[107m\u001b[30mB \u001b[0m\u001b[40m\u001b[97mW \u001b[0m\u001b[107m\u001b[30mB \u001b[0m\u001b[40m\u001b[97mW \u001b[0m\u001b[107m\u001b[30mB \u001b[0m\u001b[40m\u001b[97mW \u001b[0m\u001b[107m\u001b[30mB \u001b[0m\u001b[40m\u001b[97mW \u001b[0m\n",
      "\u001b[40m\u001b[97mW \u001b[0m\u001b[107m\u001b[30mB \u001b[0m\u001b[40m\u001b[97mW \u001b[0m\u001b[107m\u001b[30mB \u001b[0m\u001b[40m\u001b[97mW \u001b[0m\u001b[107m\u001b[30mB \u001b[0m\u001b[40m\u001b[97mW \u001b[0m\u001b[107m\u001b[30mB \u001b[0m\n",
      "\u001b[107m\u001b[30mB \u001b[0m\u001b[40m\u001b[97mW \u001b[0m\u001b[107m\u001b[30mB \u001b[0m\u001b[40m\u001b[97mW \u001b[0m\u001b[107m\u001b[30mB \u001b[0m\u001b[40m\u001b[97mW \u001b[0m\u001b[107m\u001b[30mB \u001b[0m\u001b[40m\u001b[97mW \u001b[0m\n",
      "\u001b[40m\u001b[97mW \u001b[0m\u001b[107m\u001b[30mB \u001b[0m\u001b[40m\u001b[97mW \u001b[0m\u001b[107m\u001b[30mB \u001b[0m\u001b[40m\u001b[97mW \u001b[0m\u001b[107m\u001b[30mB \u001b[0m\u001b[40m\u001b[97mW \u001b[0m\u001b[107m\u001b[30mB \u001b[0m\n",
      "\u001b[107m\u001b[30mB \u001b[0m\u001b[40m\u001b[97mW \u001b[0m\u001b[107m\u001b[30mB \u001b[0m\u001b[40m\u001b[97mW \u001b[0m\u001b[107m\u001b[30mB \u001b[0m\u001b[40m\u001b[97mW \u001b[0m\u001b[107m\u001b[30mB \u001b[0m\u001b[40m\u001b[97mW \u001b[0m\n",
      "\u001b[40m\u001b[97mW \u001b[0m\u001b[107m\u001b[30mB \u001b[0m\u001b[40m\u001b[97mW \u001b[0m\u001b[107m\u001b[30mB \u001b[0m\u001b[40m\u001b[97mW \u001b[0m\u001b[107m\u001b[30mB \u001b[0m\u001b[40m\u001b[97mW \u001b[0m\u001b[107m\u001b[30mB \u001b[0m\n",
      "\u001b[107m\u001b[30mB \u001b[0m\u001b[40m\u001b[97mW \u001b[0m\u001b[107m\u001b[30mB \u001b[0m\u001b[40m\u001b[97mW \u001b[0m\u001b[107m\u001b[30mB \u001b[0m\u001b[40m\u001b[97mW \u001b[0m\u001b[107m\u001b[30mB \u001b[0m\u001b[40m\u001b[97mW \u001b[0m\n",
      "\u001b[40m\u001b[97mW \u001b[0m\u001b[107m\u001b[30mB \u001b[0m\u001b[40m\u001b[97mW \u001b[0m\u001b[107m\u001b[30mB \u001b[0m\u001b[40m\u001b[97mW \u001b[0m\u001b[107m\u001b[30mB \u001b[0m\u001b[40m\u001b[97mW \u001b[0m\u001b[107m\u001b[30mB \u001b[0m\n"
     ]
    }
   ],
   "source": [
    "\n",
    "\n",
    "from termcolor import cprint\n",
    "\n",
    "for i in range(0, 8):\n",
    "    for j in range(0, 8):\n",
    "        if (i + j) % 2 == 0:\n",
    "            cprint(\"B \", \"black\", \"on_white\", end=\"\")\n",
    "        else:\n",
    "            cprint(\"W \", \"white\", \"on_black\", end=\"\")\n",
    "    print()\n",
    "\n"
   ]
  },
  {
   "cell_type": "code",
   "execution_count": 3,
   "id": "9e9ef672-0bfc-45c1-ad3b-f5f2da54069d",
   "metadata": {},
   "outputs": [
    {
     "name": "stdout",
     "output_type": "stream",
     "text": [
      "('B ', 'black')\u001b[0m('W ', 'white')\u001b[0m('B ', 'black')\u001b[0m('W ', 'white')\u001b[0m('B ', 'black')\u001b[0m('W ', 'white')\u001b[0m('B ', 'black')\u001b[0m('W ', 'white')\u001b[0m\n",
      "('W ', 'white')\u001b[0m('B ', 'black')\u001b[0m('W ', 'white')\u001b[0m('B ', 'black')\u001b[0m('W ', 'white')\u001b[0m('B ', 'black')\u001b[0m('W ', 'white')\u001b[0m('B ', 'black')\u001b[0m\n",
      "('B ', 'black')\u001b[0m('W ', 'white')\u001b[0m('B ', 'black')\u001b[0m('W ', 'white')\u001b[0m('B ', 'black')\u001b[0m('W ', 'white')\u001b[0m('B ', 'black')\u001b[0m('W ', 'white')\u001b[0m\n",
      "('W ', 'white')\u001b[0m('B ', 'black')\u001b[0m('W ', 'white')\u001b[0m('B ', 'black')\u001b[0m('W ', 'white')\u001b[0m('B ', 'black')\u001b[0m('W ', 'white')\u001b[0m('B ', 'black')\u001b[0m\n",
      "('B ', 'black')\u001b[0m('W ', 'white')\u001b[0m('B ', 'black')\u001b[0m('W ', 'white')\u001b[0m('B ', 'black')\u001b[0m('W ', 'white')\u001b[0m('B ', 'black')\u001b[0m('W ', 'white')\u001b[0m\n",
      "('W ', 'white')\u001b[0m('B ', 'black')\u001b[0m('W ', 'white')\u001b[0m('B ', 'black')\u001b[0m('W ', 'white')\u001b[0m('B ', 'black')\u001b[0m('W ', 'white')\u001b[0m('B ', 'black')\u001b[0m\n",
      "('B ', 'black')\u001b[0m('W ', 'white')\u001b[0m('B ', 'black')\u001b[0m('W ', 'white')\u001b[0m('B ', 'black')\u001b[0m('W ', 'white')\u001b[0m('B ', 'black')\u001b[0m('W ', 'white')\u001b[0m\n",
      "('W ', 'white')\u001b[0m('B ', 'black')\u001b[0m('W ', 'white')\u001b[0m('B ', 'black')\u001b[0m('W ', 'white')\u001b[0m('B ', 'black')\u001b[0m('W ', 'white')\u001b[0m('B ', 'black')\u001b[0m\n"
     ]
    }
   ],
   "source": [
    "# Here's the corrected code:\n",
    "\n",
    "from termcolor import cprint\n",
    "\n",
    "for i in range(0, 8):\n",
    "    for j in range(0, 8):\n",
    "        if (i + j) % 2 == 0:\n",
    "            cprint((\"B \", \"black\"), end=\"\")\n",
    "        else:\n",
    "            cprint((\"W \", \"white\"), end=\"\")\n",
    "    print()\n",
    "# This code will "
   ]
  },
  {
   "cell_type": "code",
   "execution_count": 1,
   "id": "fe277d64-9f70-4cd3-9630-2ebf3bef5b80",
   "metadata": {},
   "outputs": [
    {
     "name": "stdout",
     "output_type": "stream",
     "text": [
      "Collecting sqlalchemy\n",
      "  Downloading SQLAlchemy-2.0.25-cp38-cp38-manylinux_2_17_x86_64.manylinux2014_x86_64.whl (3.1 MB)\n",
      "\u001b[K     |████████████████████████████████| 3.1 MB 337 kB/s eta 0:00:01\n",
      "\u001b[?25hCollecting greenlet!=0.4.17; platform_machine == \"aarch64\" or (platform_machine == \"ppc64le\" or (platform_machine == \"x86_64\" or (platform_machine == \"amd64\" or (platform_machine == \"AMD64\" or (platform_machine == \"win32\" or platform_machine == \"WIN32\")))))\n",
      "  Downloading greenlet-3.0.3-cp38-cp38-manylinux_2_17_x86_64.manylinux2014_x86_64.whl (667 kB)\n",
      "\u001b[K     |████████████████████████████████| 667 kB 4.1 MB/s eta 0:00:01\n",
      "\u001b[?25hRequirement already satisfied: typing-extensions>=4.6.0 in /home/kihoro/.local/lib/python3.8/site-packages (from sqlalchemy) (4.9.0)\n",
      "Installing collected packages: greenlet, sqlalchemy\n",
      "Successfully installed greenlet-3.0.3 sqlalchemy-2.0.25\n"
     ]
    }
   ],
   "source": [
    "!pip install sqlalchemy"
   ]
  },
  {
   "cell_type": "code",
   "execution_count": 1,
   "id": "382c1dc0-d1fe-4fc4-aaf7-6c74806f3d38",
   "metadata": {},
   "outputs": [],
   "source": [
    "import re"
   ]
  },
  {
   "cell_type": "code",
   "execution_count": 3,
   "id": "f33d91e8-fb8c-4e27-8d0f-707c8894aa54",
   "metadata": {},
   "outputs": [
    {
     "name": "stdout",
     "output_type": "stream",
     "text": [
      "['Words', 'separated', 'by', 'commas', '(and some spaces)']\n"
     ]
    }
   ],
   "source": [
    "text = \"Words, separated, by, commas, (and some spaces)\"\n",
    "pattern = \",\\s*\"\n",
    "result = re.split(pattern, text)\n",
    "print(result)"
   ]
  },
  {
   "cell_type": "code",
   "execution_count": 1,
   "id": "0c75f822-c7d1-49f4-9df9-2d5c5341c5ad",
   "metadata": {},
   "outputs": [
    {
     "data": {
      "text/plain": [
       "[<matplotlib.lines.Line2D at 0x7f8eb560d1c0>]"
      ]
     },
     "execution_count": 1,
     "metadata": {},
     "output_type": "execute_result"
    },
    {
     "data": {
      "image/png": "[encoded data removed]",
      "text/plain": [
       "<Figure size 640x480 with 1 Axes>"
      ]
     },
     "metadata": {},
     "output_type": "display_data"
    }
   ],
   "source": [
    "import numpy as np\n",
    "import matplotlib.pyplot as plt\n",
    "from scipy.stats import norm\n",
    "%matplotlib inline\n",
    "\n",
    "mu = 0\n",
    "variance = 2\n",
    "\n",
    "sigma = np.sqrt(variance),\n",
    "x = np.linspace(mu-3*variance, mu+3*variance, 100)\n",
    "plt.plot(x, norm.pdf(x, mu, sigma))"
   ]
  },
  {
   "cell_type": "code",
   "execution_count": 2,
   "id": "899d567d-c5db-466f-aee5-abaa1fed5959",
   "metadata": {},
   "outputs": [
    {
     "data": {
      "text/plain": [
       "2.0"
      ]
     },
     "execution_count": 2,
     "metadata": {},
     "output_type": "execute_result"
    }
   ],
   "source": [
    "mu = 50\n",
    "std_p = 16\n",
    "size_s = 64\n",
    "\n",
    "std_s = std_p/size_s **0.5\n",
    "std_s"
   ]
  },
  {
   "cell_type": "code",
   "execution_count": 4,
   "id": "bf2b0c74-d42d-494c-95d8-14ded5d9f745",
   "metadata": {},
   "outputs": [
    {
     "name": "stdout",
     "output_type": "stream",
     "text": [
      "Standard Deviation of the Sample Mean (σₓ̄): 2.0\n"
     ]
    }
   ],
   "source": [
    "import math\n",
    "\n",
    "# Given data\n",
    "population_mean = 50\n",
    "population_std_dev = 16\n",
    "sample_size = 64\n",
    "\n",
    "# Calculate the standard deviation of the sample mean\n",
    "sample_mean_std_dev = population_std_dev / math.sqrt(sample_size)\n",
    "\n",
    "print(f\"Standard Deviation of the Sample Mean (σₓ̄): {sample_mean_std_dev}\")\n"
   ]
  },
  {
   "cell_type": "code",
   "execution_count": 6,
   "id": "8aff655a-72d5-4e15-b9d5-0be7a8be785d",
   "metadata": {},
   "outputs": [
    {
     "name": "stdout",
     "output_type": "stream",
     "text": [
      "T statistic: 1.343501592923275\n",
      "P-value: 0.21200020507950157\n"
     ]
    }
   ],
   "source": [
    "import numpy as np\n",
    "from scipy import stats\n",
    "\n",
    "student_scores = np.array([55, 62, 67, 58, 63, 59, 61, 68, 60, 64])\n",
    "# mu = 60\n",
    "x_bar = np.mean(student_scores)\n",
    "s = np.std(student_scores, ddof=1)\n",
    "n = len(student_scores)\n",
    "alpha = 0.05\n",
    "t_stat = (x_bar - mu) / (s / np.sqrt(n))\n",
    "p_value = stats.t.cdf(t_stat, df=n-1) if t_stat < 0 else (1 - stats.t.cdf(t_stat, df=n-1))\n",
    "p_value*=2\n",
    "\n",
    "print(\"T statistic:\", t_stat)\n",
    "print(\"P-value:\", p_value)"
   ]
  },
  {
   "cell_type": "code",
   "execution_count": 16,
   "id": "b9702fe6-0ee7-4c1b-a878-83a65a829a68",
   "metadata": {},
   "outputs": [
    {
     "name": "stdout",
     "output_type": "stream",
     "text": [
      "0.0013498980316301035\n"
     ]
    }
   ],
   "source": [
    "p = norm.cdf(400,  370, 10)\n",
    "p\n",
    "print(1-p)"
   ]
  },
  {
   "cell_type": "code",
   "execution_count": 13,
   "id": "3a5197a9-d44c-49f3-aa87-47968092b6c5",
   "metadata": {},
   "outputs": [
    {
     "name": "stdout",
     "output_type": "stream",
     "text": [
      "Probability of a sample mean over R400: 0.028889785561798664\n"
     ]
    }
   ],
   "source": [
    "import math\n",
    "\n",
    "# Given data\n",
    "population_mean = 370\n",
    "population_std_dev = 100\n",
    "sample_size = 40\n",
    "sample_mean = 400\n",
    "\n",
    "# Calculate the standard deviation of the sample mean\n",
    "sample_mean_std_dev = population_std_dev / math.sqrt(sample_size)\n",
    "\n",
    "# Calculate the Z-score\n",
    "Z = (sample_mean - population_mean) / sample_mean_std_dev\n",
    "\n",
    "# Calculate the probability using the cumulative distribution function (CDF)\n",
    "probability_over_400 = 1 - stats.norm.cdf(Z)\n",
    "\n",
    "print(\"Probability of a sample mean over R400:\", probability_over_400)\n"
   ]
  },
  {
   "cell_type": "code",
   "execution_count": 18,
   "id": "f4c1860f-2523-4068-b748-023ac8b1500c",
   "metadata": {},
   "outputs": [
    {
     "name": "stdout",
     "output_type": "stream",
     "text": [
      "Probability of observing exactly 3 illegal logging incidents in a month: 0.1221\n"
     ]
    }
   ],
   "source": [
    "from scipy.stats import poisson\n",
    "\n",
    "number_c = 8  # Average number of customers served per hour\n",
    "\n",
    "# Probability of serving exactly 6 illegal logging customers in an hour\n",
    "prob_exactly_6 = poisson.pmf(6, number_c)\n",
    "print(f\"Probability of observing exactly 3 illegal logging incidents in a month: {prob_exactly_6:.4f}\")"
   ]
  },
  {
   "cell_type": "code",
   "execution_count": 19,
   "id": "ed029973-b1ce-4ef1-9c8b-0231ac78b06b",
   "metadata": {},
   "outputs": [
    {
     "name": "stdout",
     "output_type": "stream",
     "text": [
      "Probability of serving exactly 6 customers in an hour: 0.1221\n"
     ]
    }
   ],
   "source": [
    "from scipy.stats import poisson\n",
    "\n",
    "# Given data\n",
    "lambda_value = 8\n",
    "number_of_customers = 6\n",
    "\n",
    "# Calculate the probability using the Poisson distribution PMF\n",
    "probability_6_customers = poisson.pmf(number_of_customers, lambda_value)\n",
    "\n",
    "print(f\"Probability of serving exactly 6 customers in an hour: {probability_6_customers:.4f}\")\n"
   ]
  },
  {
   "cell_type": "code",
   "execution_count": 23,
   "id": "f0a061a0-f225-4ebf-9a46-bd80f3e9c97a",
   "metadata": {},
   "outputs": [
    {
     "name": "stdout",
     "output_type": "stream",
     "text": [
      "Probability that the sample mean is less than 95: 0.0339\n"
     ]
    }
   ],
   "source": [
    "from scipy.stats import norm\n",
    "\n",
    "# Given data\n",
    "population_mean = 100\n",
    "population_std_dev = 15\n",
    "sample_size = 30\n",
    "sample_mean_target = 95\n",
    "\n",
    "# Calculate the standard deviation of the sample mean\n",
    "sample_mean_std_dev = population_std_dev / (sample_size ** 0.5)\n",
    "\n",
    "# Calculate the Z-score\n",
    "Z = (sample_mean_target - population_mean) / sample_mean_std_dev\n",
    "\n",
    "# Calculate the probability using the cumulative distribution function (CDF)\n",
    "probability_less_than_95 = norm.cdf(Z)\n",
    "\n",
    "print(f\"Probability that the sample mean is less than 95: {probability_less_than_95:.4f}\")\n"
   ]
  },
  {
   "cell_type": "code",
   "execution_count": null,
   "id": "41eb89fa-d7ef-4db9-afef-8188ce6a36b5",
   "metadata": {},
   "outputs": [],
   "source": []
  }
 ],
 "metadata": {
  "kernelspec": {
   "display_name": "Python 3 (ipykernel)",
   "language": "python",
   "name": "python3"
  },
  "language_info": {
   "codemirror_mode": {
    "name": "ipython",
    "version": 3
   },
   "file_extension": ".py",
   "mimetype": "text/x-python",
   "name": "python",
   "nbconvert_exporter": "python",
   "pygments_lexer": "ipython3",
   "version": "3.8.10"
  }
 },
 "nbformat": 4,
 "nbformat_minor": 5
}
