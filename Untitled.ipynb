{
 "cells": [
  {
   "cell_type": "code",
   "execution_count": 1,
   "id": "9967bffc-1f63-442d-86c8-63d6dfbc2fc2",
   "metadata": {},
   "outputs": [
    {
     "name": "stdout",
     "output_type": "stream",
     "text": [
      "('B ', 'black')\u001b[0m('W ', 'white')\u001b[0m('B ', 'black')\u001b[0m('W ', 'white')\u001b[0m('B ', 'black')\u001b[0m('W ', 'white')\u001b[0m('B ', 'black')\u001b[0m('W ', 'white')\u001b[0m\n",
      "('W ', 'white')\u001b[0m('B ', 'black')\u001b[0m('W ', 'white')\u001b[0m('B ', 'black')\u001b[0m('W ', 'white')\u001b[0m('B ', 'black')\u001b[0m('W ', 'white')\u001b[0m('B ', 'black')\u001b[0m\n",
      "('B ', 'black')\u001b[0m('W ', 'white')\u001b[0m('B ', 'black')\u001b[0m('W ', 'white')\u001b[0m('B ', 'black')\u001b[0m('W ', 'white')\u001b[0m('B ', 'black')\u001b[0m('W ', 'white')\u001b[0m\n",
      "('W ', 'white')\u001b[0m('B ', 'black')\u001b[0m('W ', 'white')\u001b[0m('B ', 'black')\u001b[0m('W ', 'white')\u001b[0m('B ', 'black')\u001b[0m('W ', 'white')\u001b[0m('B ', 'black')\u001b[0m\n",
      "('B ', 'black')\u001b[0m('W ', 'white')\u001b[0m('B ', 'black')\u001b[0m('W ', 'white')\u001b[0m('B ', 'black')\u001b[0m('W ', 'white')\u001b[0m('B ', 'black')\u001b[0m('W ', 'white')\u001b[0m\n",
      "('W ', 'white')\u001b[0m('B ', 'black')\u001b[0m('W ', 'white')\u001b[0m('B ', 'black')\u001b[0m('W ', 'white')\u001b[0m('B ', 'black')\u001b[0m('W ', 'white')\u001b[0m('B ', 'black')\u001b[0m\n",
      "('B ', 'black')\u001b[0m('W ', 'white')\u001b[0m('B ', 'black')\u001b[0m('W ', 'white')\u001b[0m('B ', 'black')\u001b[0m('W ', 'white')\u001b[0m('B ', 'black')\u001b[0m('W ', 'white')\u001b[0m\n",
      "('W ', 'white')\u001b[0m('B ', 'black')\u001b[0m('W ', 'white')\u001b[0m('B ', 'black')\u001b[0m('W ', 'white')\u001b[0m('B ', 'black')\u001b[0m('W ', 'white')\u001b[0m('B ', 'black')\u001b[0m\n"
     ]
    }
   ],
   "source": [
    "\n",
    "\n",
    "from termcolor import cprint\n",
    "\n",
    "for i in range(0, 8):\n",
    "    for j in range(0, 8):\n",
    "        if (i + j) % 2 == 0:\n",
    "            cprint((\"B \", \"black\"), end=\"\")\n",
    "        else:\n",
    "            cprint((\"W \", \"white\"), end=\"\")\n",
    "    print()"
   ]
  },
  {
   "cell_type": "code",
   "execution_count": 2,
   "id": "3b7095e3-b481-418e-94cb-af53abb06010",
   "metadata": {},
   "outputs": [
    {
     "name": "stdout",
     "output_type": "stream",
     "text": [
      "Collecting termcolor\n",
      "  Downloading termcolor-2.4.0-py3-none-any.whl (7.7 kB)\n",
      "Installing collected packages: termcolor\n",
      "Successfully installed termcolor-2.4.0\n",
      "Note: you may need to restart the kernel to use updated packages.\n"
     ]
    }
   ],
   "source": [
    "pip install termcolor"
   ]
  },
  {
   "cell_type": "code",
   "execution_count": 2,
   "id": "89a813aa-131c-4442-bf1c-b092112d57bb",
   "metadata": {},
   "outputs": [
    {
     "name": "stdout",
     "output_type": "stream",
     "text": [
      "\u001b[107m\u001b[30mB \u001b[0m\u001b[40m\u001b[97mW \u001b[0m\u001b[107m\u001b[30mB \u001b[0m\u001b[40m\u001b[97mW \u001b[0m\u001b[107m\u001b[30mB \u001b[0m\u001b[40m\u001b[97mW \u001b[0m\u001b[107m\u001b[30mB \u001b[0m\u001b[40m\u001b[97mW \u001b[0m\n",
      "\u001b[40m\u001b[97mW \u001b[0m\u001b[107m\u001b[30mB \u001b[0m\u001b[40m\u001b[97mW \u001b[0m\u001b[107m\u001b[30mB \u001b[0m\u001b[40m\u001b[97mW \u001b[0m\u001b[107m\u001b[30mB \u001b[0m\u001b[40m\u001b[97mW \u001b[0m\u001b[107m\u001b[30mB \u001b[0m\n",
      "\u001b[107m\u001b[30mB \u001b[0m\u001b[40m\u001b[97mW \u001b[0m\u001b[107m\u001b[30mB \u001b[0m\u001b[40m\u001b[97mW \u001b[0m\u001b[107m\u001b[30mB \u001b[0m\u001b[40m\u001b[97mW \u001b[0m\u001b[107m\u001b[30mB \u001b[0m\u001b[40m\u001b[97mW \u001b[0m\n",
      "\u001b[40m\u001b[97mW \u001b[0m\u001b[107m\u001b[30mB \u001b[0m\u001b[40m\u001b[97mW \u001b[0m\u001b[107m\u001b[30mB \u001b[0m\u001b[40m\u001b[97mW \u001b[0m\u001b[107m\u001b[30mB \u001b[0m\u001b[40m\u001b[97mW \u001b[0m\u001b[107m\u001b[30mB \u001b[0m\n",
      "\u001b[107m\u001b[30mB \u001b[0m\u001b[40m\u001b[97mW \u001b[0m\u001b[107m\u001b[30mB \u001b[0m\u001b[40m\u001b[97mW \u001b[0m\u001b[107m\u001b[30mB \u001b[0m\u001b[40m\u001b[97mW \u001b[0m\u001b[107m\u001b[30mB \u001b[0m\u001b[40m\u001b[97mW \u001b[0m\n",
      "\u001b[40m\u001b[97mW \u001b[0m\u001b[107m\u001b[30mB \u001b[0m\u001b[40m\u001b[97mW \u001b[0m\u001b[107m\u001b[30mB \u001b[0m\u001b[40m\u001b[97mW \u001b[0m\u001b[107m\u001b[30mB \u001b[0m\u001b[40m\u001b[97mW \u001b[0m\u001b[107m\u001b[30mB \u001b[0m\n",
      "\u001b[107m\u001b[30mB \u001b[0m\u001b[40m\u001b[97mW \u001b[0m\u001b[107m\u001b[30mB \u001b[0m\u001b[40m\u001b[97mW \u001b[0m\u001b[107m\u001b[30mB \u001b[0m\u001b[40m\u001b[97mW \u001b[0m\u001b[107m\u001b[30mB \u001b[0m\u001b[40m\u001b[97mW \u001b[0m\n",
      "\u001b[40m\u001b[97mW \u001b[0m\u001b[107m\u001b[30mB \u001b[0m\u001b[40m\u001b[97mW \u001b[0m\u001b[107m\u001b[30mB \u001b[0m\u001b[40m\u001b[97mW \u001b[0m\u001b[107m\u001b[30mB \u001b[0m\u001b[40m\u001b[97mW \u001b[0m\u001b[107m\u001b[30mB \u001b[0m\n"
     ]
    }
   ],
   "source": [
    "\n",
    "\n",
    "from termcolor import cprint\n",
    "\n",
    "for i in range(0, 8):\n",
    "    for j in range(0, 8):\n",
    "        if (i + j) % 2 == 0:\n",
    "            cprint(\"B \", \"black\", \"on_white\", end=\"\")\n",
    "        else:\n",
    "            cprint(\"W \", \"white\", \"on_black\", end=\"\")\n",
    "    print()\n",
    "\n"
   ]
  },
  {
   "cell_type": "code",
   "execution_count": 3,
   "id": "9e9ef672-0bfc-45c1-ad3b-f5f2da54069d",
   "metadata": {},
   "outputs": [
    {
     "name": "stdout",
     "output_type": "stream",
     "text": [
      "('B ', 'black')\u001b[0m('W ', 'white')\u001b[0m('B ', 'black')\u001b[0m('W ', 'white')\u001b[0m('B ', 'black')\u001b[0m('W ', 'white')\u001b[0m('B ', 'black')\u001b[0m('W ', 'white')\u001b[0m\n",
      "('W ', 'white')\u001b[0m('B ', 'black')\u001b[0m('W ', 'white')\u001b[0m('B ', 'black')\u001b[0m('W ', 'white')\u001b[0m('B ', 'black')\u001b[0m('W ', 'white')\u001b[0m('B ', 'black')\u001b[0m\n",
      "('B ', 'black')\u001b[0m('W ', 'white')\u001b[0m('B ', 'black')\u001b[0m('W ', 'white')\u001b[0m('B ', 'black')\u001b[0m('W ', 'white')\u001b[0m('B ', 'black')\u001b[0m('W ', 'white')\u001b[0m\n",
      "('W ', 'white')\u001b[0m('B ', 'black')\u001b[0m('W ', 'white')\u001b[0m('B ', 'black')\u001b[0m('W ', 'white')\u001b[0m('B ', 'black')\u001b[0m('W ', 'white')\u001b[0m('B ', 'black')\u001b[0m\n",
      "('B ', 'black')\u001b[0m('W ', 'white')\u001b[0m('B ', 'black')\u001b[0m('W ', 'white')\u001b[0m('B ', 'black')\u001b[0m('W ', 'white')\u001b[0m('B ', 'black')\u001b[0m('W ', 'white')\u001b[0m\n",
      "('W ', 'white')\u001b[0m('B ', 'black')\u001b[0m('W ', 'white')\u001b[0m('B ', 'black')\u001b[0m('W ', 'white')\u001b[0m('B ', 'black')\u001b[0m('W ', 'white')\u001b[0m('B ', 'black')\u001b[0m\n",
      "('B ', 'black')\u001b[0m('W ', 'white')\u001b[0m('B ', 'black')\u001b[0m('W ', 'white')\u001b[0m('B ', 'black')\u001b[0m('W ', 'white')\u001b[0m('B ', 'black')\u001b[0m('W ', 'white')\u001b[0m\n",
      "('W ', 'white')\u001b[0m('B ', 'black')\u001b[0m('W ', 'white')\u001b[0m('B ', 'black')\u001b[0m('W ', 'white')\u001b[0m('B ', 'black')\u001b[0m('W ', 'white')\u001b[0m('B ', 'black')\u001b[0m\n"
     ]
    }
   ],
   "source": [
    "# Here's the corrected code:\n",
    "\n",
    "from termcolor import cprint\n",
    "\n",
    "for i in range(0, 8):\n",
    "    for j in range(0, 8):\n",
    "        if (i + j) % 2 == 0:\n",
    "            cprint((\"B \", \"black\"), end=\"\")\n",
    "        else:\n",
    "            cprint((\"W \", \"white\"), end=\"\")\n",
    "    print()\n",
    "# This code will "
   ]
  },
  {
   "cell_type": "code",
   "execution_count": null,
   "id": "fe277d64-9f70-4cd3-9630-2ebf3bef5b80",
   "metadata": {},
   "outputs": [],
   "source": []
  }
 ],
 "metadata": {
  "kernelspec": {
   "display_name": "Python 3 (ipykernel)",
   "language": "python",
   "name": "python3"
  },
  "language_info": {
   "codemirror_mode": {
    "name": "ipython",
    "version": 3
   },
   "file_extension": ".py",
   "mimetype": "text/x-python",
   "name": "python",
   "nbconvert_exporter": "python",
   "pygments_lexer": "ipython3",
   "version": "3.8.10"
  }
 },
 "nbformat": 4,
 "nbformat_minor": 5
}
