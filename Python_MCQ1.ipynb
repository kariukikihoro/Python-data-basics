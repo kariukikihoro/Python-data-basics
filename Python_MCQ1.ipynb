{
 "cells": [
  {
   "cell_type": "code",
   "execution_count": 1,
   "id": "bb90a582-6a3c-408f-9b5e-df65b31ac561",
   "metadata": {},
   "outputs": [],
   "source": [
    "def bubble_sort(items):\n",
    "    \"\"\" Implementation of bubble sort.\"\"\"\n",
    "    for i in range(len(items)):\n",
    "        for j in range(len(items)-1-i):\n",
    "            if items[j] > items[j+1]:\n",
    "                items[j], items[j+1] = items[j+1], items[j]\n",
    "    return items"
   ]
  },
  {
   "cell_type": "markdown",
   "id": "3a43a812-f051-47ed-b94e-18903db359a9",
   "metadata": {},
   "source": [
    "bubble_sort([64, 34, 25, 12, 22, 11, 90])"
   ]
  },
  {
   "cell_type": "code",
   "execution_count": 3,
   "id": "bbbaf22a-5ab7-471b-902e-14c5d93b7555",
   "metadata": {},
   "outputs": [
    {
     "ename": "TypeError",
     "evalue": "bubble_sort() takes 1 positional argument but 7 were given",
     "output_type": "error",
     "traceback": [
      "\u001b[0;31m---------------------------------------------------------------------------\u001b[0m",
      "\u001b[0;31mTypeError\u001b[0m                                 Traceback (most recent call last)",
      "Cell \u001b[0;32mIn[3], line 1\u001b[0m\n\u001b[0;32m----> 1\u001b[0m \u001b[43mbubble_sort\u001b[49m\u001b[43m(\u001b[49m\u001b[38;5;241;43m64\u001b[39;49m\u001b[43m,\u001b[49m\u001b[43m \u001b[49m\u001b[38;5;241;43m34\u001b[39;49m\u001b[43m,\u001b[49m\u001b[43m \u001b[49m\u001b[38;5;241;43m25\u001b[39;49m\u001b[43m,\u001b[49m\u001b[43m \u001b[49m\u001b[38;5;241;43m12\u001b[39;49m\u001b[43m,\u001b[49m\u001b[43m \u001b[49m\u001b[38;5;241;43m22\u001b[39;49m\u001b[43m,\u001b[49m\u001b[43m \u001b[49m\u001b[38;5;241;43m11\u001b[39;49m\u001b[43m,\u001b[49m\u001b[43m \u001b[49m\u001b[38;5;241;43m90\u001b[39;49m\u001b[43m)\u001b[49m\n",
      "\u001b[0;31mTypeError\u001b[0m: bubble_sort() takes 1 positional argument but 7 were given"
     ]
    }
   ],
   "source": [
    "bubble_sort(64, 34, 25, 12, 22, 11, 90)"
   ]
  },
  {
   "cell_type": "code",
   "execution_count": 4,
   "id": "841aa688-03ad-4482-8e3f-871fb6be35f3",
   "metadata": {},
   "outputs": [
    {
     "ename": "TypeError",
     "evalue": "'tuple' object does not support item assignment",
     "output_type": "error",
     "traceback": [
      "\u001b[0;31m---------------------------------------------------------------------------\u001b[0m",
      "\u001b[0;31mTypeError\u001b[0m                                 Traceback (most recent call last)",
      "Cell \u001b[0;32mIn[4], line 1\u001b[0m\n\u001b[0;32m----> 1\u001b[0m \u001b[43mbubble_sort\u001b[49m\u001b[43m(\u001b[49m\u001b[43m(\u001b[49m\u001b[38;5;241;43m64\u001b[39;49m\u001b[43m,\u001b[49m\u001b[43m \u001b[49m\u001b[38;5;241;43m34\u001b[39;49m\u001b[43m,\u001b[49m\u001b[43m \u001b[49m\u001b[38;5;241;43m25\u001b[39;49m\u001b[43m,\u001b[49m\u001b[43m \u001b[49m\u001b[38;5;241;43m12\u001b[39;49m\u001b[43m,\u001b[49m\u001b[43m \u001b[49m\u001b[38;5;241;43m22\u001b[39;49m\u001b[43m,\u001b[49m\u001b[43m \u001b[49m\u001b[38;5;241;43m11\u001b[39;49m\u001b[43m,\u001b[49m\u001b[43m \u001b[49m\u001b[38;5;241;43m90\u001b[39;49m\u001b[43m)\u001b[49m\u001b[43m)\u001b[49m\n",
      "Cell \u001b[0;32mIn[1], line 6\u001b[0m, in \u001b[0;36mbubble_sort\u001b[0;34m(items)\u001b[0m\n\u001b[1;32m      4\u001b[0m     \u001b[38;5;28;01mfor\u001b[39;00m j \u001b[38;5;129;01min\u001b[39;00m \u001b[38;5;28mrange\u001b[39m(\u001b[38;5;28mlen\u001b[39m(items)\u001b[38;5;241m-\u001b[39m\u001b[38;5;241m1\u001b[39m\u001b[38;5;241m-\u001b[39mi):\n\u001b[1;32m      5\u001b[0m         \u001b[38;5;28;01mif\u001b[39;00m items[j] \u001b[38;5;241m>\u001b[39m items[j\u001b[38;5;241m+\u001b[39m\u001b[38;5;241m1\u001b[39m]:\n\u001b[0;32m----> 6\u001b[0m             items[j], items[j\u001b[38;5;241m+\u001b[39m\u001b[38;5;241m1\u001b[39m] \u001b[38;5;241m=\u001b[39m items[j\u001b[38;5;241m+\u001b[39m\u001b[38;5;241m1\u001b[39m], items[j]\n\u001b[1;32m      7\u001b[0m \u001b[38;5;28;01mreturn\u001b[39;00m items\n",
      "\u001b[0;31mTypeError\u001b[0m: 'tuple' object does not support item assignment"
     ]
    }
   ],
   "source": [
    "bubble_sort((64, 34, 25, 12, 22, 11, 90))"
   ]
  },
  {
   "cell_type": "code",
   "execution_count": 10,
   "id": "78d3aefa-91a5-4632-a8d8-eda0c1238f6d",
   "metadata": {},
   "outputs": [
    {
     "data": {
      "text/plain": [
       "[11, 12, 22, 25, 34, 64, 90]"
      ]
     },
     "execution_count": 10,
     "metadata": {},
     "output_type": "execute_result"
    }
   ],
   "source": [
    "bubble_sort([64, 34, 25, 12, 22, 11, 90])"
   ]
  },
  {
   "cell_type": "markdown",
   "id": "28adb9d1-976d-42aa-bff8-67f8f411d87c",
   "metadata": {},
   "source": [
    "Rearrange the following code to correctly define a Python class representing a BankAccount with a method to deposit funds.\n",
    "\n",
    "Which of the following lines of code will open a new bank account with a balance of 100, deposit an additional 50, and print the balance?\n",
    "\n",
    "def deposit(self, amount):\n",
    " self.balance += amount\n",
    "class BankAccount:\n",
    " def __init__(self, balance):\n",
    " self.balance = balance\n"
   ]
  },
  {
   "cell_type": "code",
   "execution_count": 11,
   "id": "adc56697-61ce-4cdd-8300-25a17d21b05f",
   "metadata": {},
   "outputs": [],
   "source": [
    "class BankAccount:\n",
    "    def __init__(self, balance):\n",
    "        self.balance = balance\n",
    "\n",
    "    def deposit(self, amount):\n",
    "        self.balance += amount\n"
   ]
  },
  {
   "cell_type": "code",
   "execution_count": 13,
   "id": "829a621e-28c4-4405-b168-4a414ce2b0d0",
   "metadata": {},
   "outputs": [
    {
     "name": "stdout",
     "output_type": "stream",
     "text": [
      "150\n"
     ]
    }
   ],
   "source": [
    "account = BankAccount(150)\n",
    "print(account.balance)"
   ]
  },
  {
   "cell_type": "code",
   "execution_count": 14,
   "id": "3e057455-bdab-4e9a-b145-db57d214843e",
   "metadata": {},
   "outputs": [
    {
     "name": "stdout",
     "output_type": "stream",
     "text": [
      "150\n"
     ]
    }
   ],
   "source": [
    "account = BankAccount(100)\n",
    "account.deposit(50)\n",
    "print(account.balance)"
   ]
  },
  {
   "cell_type": "code",
   "execution_count": 16,
   "id": "326fd9af-0eef-4217-ad90-54112415997e",
   "metadata": {},
   "outputs": [
    {
     "ename": "SyntaxError",
     "evalue": "unmatched ')' (1798203553.py, line 3)",
     "output_type": "error",
     "traceback": [
      "\u001b[0;36m  Cell \u001b[0;32mIn[16], line 3\u001b[0;36m\u001b[0m\n\u001b[0;31m    print(account.balance))\u001b[0m\n\u001b[0m                          ^\u001b[0m\n\u001b[0;31mSyntaxError\u001b[0m\u001b[0;31m:\u001b[0m unmatched ')'\n"
     ]
    }
   ],
   "source": [
    "account = BankAccount(150)\n",
    "account.deposit('50')\n",
    "print(account.balance))"
   ]
  },
  {
   "cell_type": "markdown",
   "id": "f9fa107b-da97-4283-b951-fdfedc21d7a8",
   "metadata": {},
   "source": [
    "Rearrange the following lines to create a function that uses recursion to reverse a string.\n",
    "\n",
    "Which of the following answers is correct, given the correctly rearranged code and function calls provided?\n",
    "\n",
    "if len(s) == 0:\n",
    "return s\n",
    "return r(s[1:]) + s[0]\n",
    "def r(s)\n"
   ]
  },
  {
   "cell_type": "code",
   "execution_count": 1,
   "id": "58874e5e-a3c3-45a5-8823-6ee05402aa6d",
   "metadata": {},
   "outputs": [],
   "source": [
    "def r(s):\n",
    "    if len(s) == 0:\n",
    "        return s\n",
    "    return r(s[1:]) + s[0]\n",
    "\n"
   ]
  },
  {
   "cell_type": "code",
   "execution_count": 2,
   "id": "c61ad5c8-4efd-4bc7-b815-5d94d0acc919",
   "metadata": {},
   "outputs": [
    {
     "data": {
      "text/plain": [
       "'gnimmargorp'"
      ]
     },
     "execution_count": 2,
     "metadata": {},
     "output_type": "execute_result"
    }
   ],
   "source": [
    "r('programming')"
   ]
  },
  {
   "cell_type": "code",
   "execution_count": 3,
   "id": "a007e153-7baa-4e12-945b-5add7abfc563",
   "metadata": {},
   "outputs": [
    {
     "data": {
      "text/plain": [
       "'gnimmargorp'"
      ]
     },
     "execution_count": 3,
     "metadata": {},
     "output_type": "execute_result"
    }
   ],
   "source": [
    "r('programming')"
   ]
  },
  {
   "cell_type": "code",
   "execution_count": 4,
   "id": "20b5119f-8abd-4b9e-90ba-b179c114331e",
   "metadata": {},
   "outputs": [
    {
     "data": {
      "text/plain": [
       "'program'"
      ]
     },
     "execution_count": 4,
     "metadata": {},
     "output_type": "execute_result"
    }
   ],
   "source": [
    "r(r('programming')[4:])"
   ]
  },
  {
   "cell_type": "code",
   "execution_count": 5,
   "id": "6ceb1dfb-727c-4d1a-99ac-655cd1f37938",
   "metadata": {},
   "outputs": [
    {
     "data": {
      "text/plain": [
       "'gnimmargorp'"
      ]
     },
     "execution_count": 5,
     "metadata": {},
     "output_type": "execute_result"
    }
   ],
   "source": [
    "r('programming')"
   ]
  },
  {
   "cell_type": "markdown",
   "id": "e3e964ed-602d-4c23-bec0-e81a77f3f274",
   "metadata": {},
   "source": [
    "What is the lambda expression required to filter out negative numbers from a list:\n",
    "\n",
    "numbers = [-2, 5, -9, 8, -1, 10]\n",
    "result = filter(, numbers)\n",
    "print(list(result))\n"
   ]
  },
  {
   "cell_type": "code",
   "execution_count": 6,
   "id": "91736b7c-0a8c-4c18-ac24-7dc385563ad7",
   "metadata": {},
   "outputs": [
    {
     "name": "stdout",
     "output_type": "stream",
     "text": [
      "[]\n"
     ]
    }
   ],
   "source": [
    "y = lambda x: x == 0\n",
    "numbers = [-2, 5, -9, 8, -1, 10]\n",
    "result = filter(y, numbers)\n",
    "print(list(result))"
   ]
  },
  {
   "cell_type": "code",
   "execution_count": 11,
   "id": "25e3dd45-3bb0-4b58-ab6f-330a41009750",
   "metadata": {},
   "outputs": [
    {
     "name": "stdout",
     "output_type": "stream",
     "text": [
      "[-2, -9, -1]\n"
     ]
    }
   ],
   "source": [
    "b = lambda x: x < 0\n",
    "numbers = [-2, 5, -9, 8, -1, 10]\n",
    "result = filter(b, numbers)\n",
    "print(list(result))"
   ]
  },
  {
   "cell_type": "code",
   "execution_count": 12,
   "id": "02362f5b-5bb5-4337-a592-81398cdb791c",
   "metadata": {},
   "outputs": [
    {
     "name": "stdout",
     "output_type": "stream",
     "text": [
      "[5, 8, 10]\n"
     ]
    }
   ],
   "source": [
    "c = lambda x: x >= 0\n",
    "numbers = [-2, 5, -9, 8, -1, 10]\n",
    "result = filter(c, numbers)\n",
    "print(list(result))"
   ]
  },
  {
   "cell_type": "code",
   "execution_count": 9,
   "id": "a5e5c9e4-d1a9-46ab-9eaf-debaa65f528f",
   "metadata": {},
   "outputs": [
    {
     "ename": "SyntaxError",
     "evalue": "invalid syntax (2013968826.py, line 2)",
     "output_type": "error",
     "traceback": [
      "\u001b[0;36m  Cell \u001b[0;32mIn[9], line 2\u001b[0;36m\u001b[0m\n\u001b[0;31m    result = filter(, numbers)\u001b[0m\n\u001b[0m                    ^\u001b[0m\n\u001b[0;31mSyntaxError\u001b[0m\u001b[0;31m:\u001b[0m invalid syntax\n"
     ]
    }
   ],
   "source": [
    "numbers = [-2, 5, -9, 8, -1, 10]\n",
    "result = filter(, numbers)\n",
    "print(list(result))"
   ]
  },
  {
   "cell_type": "code",
   "execution_count": 13,
   "id": "ec3fb4da-b5f9-4623-ac8c-109232f4c949",
   "metadata": {},
   "outputs": [
    {
     "name": "stdout",
     "output_type": "stream",
     "text": [
      "[-2, 5, -9, 8, -1, 10]\n"
     ]
    }
   ],
   "source": [
    "d = lambda x: -x\n",
    "numbers = [-2, 5, -9, 8, -1, 10]\n",
    "result = filter(d, numbers)\n",
    "print(list(result))"
   ]
  },
  {
   "cell_type": "markdown",
   "id": "ba26ec18-0dd7-4597-83ed-f1b87769f6c5",
   "metadata": {},
   "source": [
    "Rearrange the following code to correctly implement a Python class for a Circle, including a method to calculate the circumference.\n",
    "\n",
    "Which of the following options give the correct answer, given that the radius of the circle is 3?"
   ]
  },
  {
   "cell_type": "code",
   "execution_count": 14,
   "id": "05f01e64-6605-47bd-b698-9abe82fed213",
   "metadata": {},
   "outputs": [],
   "source": [
    "class Circle:\n",
    "    def __init__(self, radius):\n",
    "        self.radius = radius\n",
    "\n",
    "    def circumference(self):\n",
    "        return 2 * 3.14159 * self.radius\n",
    "\n"
   ]
  },
  {
   "cell_type": "code",
   "execution_count": 15,
   "id": "92379966-95bb-46e7-b655-b5facc74228c",
   "metadata": {},
   "outputs": [
    {
     "data": {
      "text/plain": [
       "18.849539999999998"
      ]
     },
     "execution_count": 15,
     "metadata": {},
     "output_type": "execute_result"
    }
   ],
   "source": [
    "Circle(3).circumference()"
   ]
  },
  {
   "cell_type": "code",
   "execution_count": 16,
   "id": "c3c6cc05-7fa2-4546-8ecd-7f8c47ae4da9",
   "metadata": {},
   "outputs": [
    {
     "ename": "TypeError",
     "evalue": "__init__() missing 1 required positional argument: 'radius'",
     "output_type": "error",
     "traceback": [
      "\u001b[0;31m---------------------------------------------------------------------------\u001b[0m",
      "\u001b[0;31mTypeError\u001b[0m                                 Traceback (most recent call last)",
      "Cell \u001b[0;32mIn[16], line 1\u001b[0m\n\u001b[0;32m----> 1\u001b[0m \u001b[43mCircle\u001b[49m\u001b[43m(\u001b[49m\u001b[43m)\u001b[49m\u001b[38;5;241m.\u001b[39mcircumference(\u001b[38;5;241m3\u001b[39m)\n",
      "\u001b[0;31mTypeError\u001b[0m: __init__() missing 1 required positional argument: 'radius'"
     ]
    }
   ],
   "source": [
    "Circle().circumference(3)"
   ]
  },
  {
   "cell_type": "code",
   "execution_count": 17,
   "id": "92fdd196-f510-46d4-89d2-24489c93fb64",
   "metadata": {},
   "outputs": [
    {
     "data": {
      "text/plain": [
       "18.849539999999998"
      ]
     },
     "execution_count": 17,
     "metadata": {},
     "output_type": "execute_result"
    }
   ],
   "source": [
    "Circle(3).circumference()"
   ]
  },
  {
   "cell_type": "code",
   "execution_count": 18,
   "id": "181467f8-46f3-4a02-9fed-3419e555c5f6",
   "metadata": {},
   "outputs": [
    {
     "ename": "TypeError",
     "evalue": "__init__() missing 1 required positional argument: 'radius'",
     "output_type": "error",
     "traceback": [
      "\u001b[0;31m---------------------------------------------------------------------------\u001b[0m",
      "\u001b[0;31mTypeError\u001b[0m                                 Traceback (most recent call last)",
      "Cell \u001b[0;32mIn[18], line 1\u001b[0m\n\u001b[0;32m----> 1\u001b[0m \u001b[43mCircle\u001b[49m\u001b[43m(\u001b[49m\u001b[43m)\u001b[49m\u001b[38;5;241m.\u001b[39mcircumference(\u001b[38;5;241m3\u001b[39m)\n",
      "\u001b[0;31mTypeError\u001b[0m: __init__() missing 1 required positional argument: 'radius'"
     ]
    }
   ],
   "source": [
    "Circle().circumference(3)"
   ]
  },
  {
   "cell_type": "markdown",
   "id": "1271fafd-423b-431e-8cdf-a347f61a79d0",
   "metadata": {},
   "source": [
    "\n",
    "Rearrange the following code to correctly define a Python class representing a rectangle, which includes methods for calculating area and perimeter. \n",
    "\n",
    "What will be the output of the following code?\n",
    "\n",
    "return 2 * (self.width + self.height)\n",
    "def perimeter(self):\n",
    "return self.width * self.height\n",
    "class Rectangle:\n",
    "def __init__(self, width, height):\n",
    "self.width = width\n",
    "self.height = height\n",
    "def area(self):\n",
    "\n",
    "rect = Rectangle(3, 4)\n",
    "print(\"Area:\", rect.area(), \"Perimeter:\", rect.perimeter())"
   ]
  },
  {
   "cell_type": "code",
   "execution_count": 19,
   "id": "c23957dc-a4e3-4b4e-81b5-1b2f30e1d3aa",
   "metadata": {},
   "outputs": [
    {
     "name": "stdout",
     "output_type": "stream",
     "text": [
      "Area: 12 Perimeter: 14\n"
     ]
    }
   ],
   "source": [
    "class Rectangle:\n",
    "    def __init__(self, width, height):\n",
    "        self.width = width\n",
    "        self.height = height\n",
    "        \n",
    "    def perimeter(self):\n",
    "        return 2 * (self.width + self.height)\n",
    "\n",
    "    def area(self):\n",
    "        return self.width * self.height\n",
    "\n",
    "rect = Rectangle(3, 4)\n",
    "print(\"Area:\", rect.area(), \"Perimeter:\", rect.perimeter())"
   ]
  },
  {
   "cell_type": "markdown",
   "id": "22eec0b4-4221-4fb0-871b-f335cc73c0ed",
   "metadata": {},
   "source": [
    "Rearrange the following lines of code to create a lambda function that squares each number in a list, using the map function:\n",
    "\n",
    "print(list(result))\n",
    "result = map(lambda x: x**2, numbers)\n",
    "numbers = [1, 2, 3, 4, 5]\n"
   ]
  },
  {
   "cell_type": "code",
   "execution_count": 20,
   "id": "b93dcb1d-405f-4a70-a83a-f269ac9c6ae0",
   "metadata": {},
   "outputs": [
    {
     "name": "stdout",
     "output_type": "stream",
     "text": [
      "[1, 4, 9, 16, 25]\n"
     ]
    }
   ],
   "source": [
    "numbers = [1, 2, 3, 4, 5]\n",
    "result = map(lambda x: x**2, numbers)\n",
    "print(list(result))"
   ]
  },
  {
   "cell_type": "code",
   "execution_count": 21,
   "id": "71410c82-fb9f-4779-8dee-00a45e0068a2",
   "metadata": {},
   "outputs": [
    {
     "ename": "TypeError",
     "evalue": "unsupported operand type(s) for +: 'method' and 'method'",
     "output_type": "error",
     "traceback": [
      "\u001b[0;31m---------------------------------------------------------------------------\u001b[0m",
      "\u001b[0;31mTypeError\u001b[0m                                 Traceback (most recent call last)",
      "Cell \u001b[0;32mIn[21], line 22\u001b[0m\n\u001b[1;32m     20\u001b[0m circle \u001b[38;5;241m=\u001b[39m Circle(\u001b[38;5;241m3\u001b[39m)\n\u001b[1;32m     21\u001b[0m square \u001b[38;5;241m=\u001b[39m Square(\u001b[38;5;241m4\u001b[39m)\n\u001b[0;32m---> 22\u001b[0m total_area \u001b[38;5;241m=\u001b[39m \u001b[43mcircle\u001b[49m\u001b[38;5;241;43m.\u001b[39;49m\u001b[43marea\u001b[49m\u001b[43m \u001b[49m\u001b[38;5;241;43m+\u001b[39;49m\u001b[43m \u001b[49m\u001b[43msquare\u001b[49m\u001b[38;5;241;43m.\u001b[39;49m\u001b[43marea\u001b[49m\n\u001b[1;32m     23\u001b[0m \u001b[38;5;28mprint\u001b[39m(\u001b[38;5;124m\"\u001b[39m\u001b[38;5;124mTotal Area:\u001b[39m\u001b[38;5;124m\"\u001b[39m, total_area)\n",
      "\u001b[0;31mTypeError\u001b[0m: unsupported operand type(s) for +: 'method' and 'method'"
     ]
    }
   ],
   "source": [
    "class Shape:\n",
    "    def __init__(self, name):\n",
    "        self.name = name\n",
    "\n",
    "class Circle(Shape):\n",
    "    def __init__(self, radius):\n",
    "        super().__init__(\"Circle\")\n",
    "        self.radius = radius\n",
    "\n",
    "    def area(self):\n",
    "        return 3.14 * self.radius * self.radius\n",
    "class Square(Shape):\n",
    "    def __init__(self, side):\n",
    "        super().__init__(\"Square\")\n",
    "        self.side = side\n",
    "\n",
    "    def area(self):\n",
    "        return self.side * self.side\n",
    "\n",
    "circle = Circle(3)\n",
    "square = Square(4)\n",
    "total_area = circle.area + square.area\n",
    "print(\"Total Area:\", total_area)\n"
   ]
  },
  {
   "cell_type": "code",
   "execution_count": null,
   "id": "27e8fdd5-677f-4860-8d50-2feb397e5652",
   "metadata": {},
   "outputs": [],
   "source": []
  }
 ],
 "metadata": {
  "kernelspec": {
   "display_name": "Python 3 (ipykernel)",
   "language": "python",
   "name": "python3"
  },
  "language_info": {
   "codemirror_mode": {
    "name": "ipython",
    "version": 3
   },
   "file_extension": ".py",
   "mimetype": "text/x-python",
   "name": "python",
   "nbconvert_exporter": "python",
   "pygments_lexer": "ipython3",
   "version": "3.8.10"
  }
 },
 "nbformat": 4,
 "nbformat_minor": 5
}
